{
 "cells": [
  {
   "cell_type": "markdown",
   "metadata": {},
   "source": [
    "# **Pandas (Day-2)**\n",
    "========================="
   ]
  },
  {
   "cell_type": "markdown",
   "metadata": {},
   "source": [
    "## Data\n",
    "#### 1.Qualitative => Categoical/Non numeric  data =>1.Nominal(str)  , 2.Ordinel(Obj)\n",
    "#### 2.Quantitative => Numeric data =>1.Discrete/Non decimal (Int) , 2.Continuous /Decimal (float)\n",
    "=====================================================================\n",
    "# Types of Data Analytics\n",
    "#### 1.Descriptive Analytics => Summary statistics\n",
    "#### 2.Diagnostic Analytics => Identify the root cause of a problem\n",
    "#### 3.Predictive Analytics => Forecast future events\n",
    "#### 4.Prescriptive Analytics => Recommend actions to take\n",
    "=====================================================================\n",
    "# Types of Data Mining\n",
    "#### 1.Classification => Predict the category of a new observation\n",
    "#### 2.Clustering => Group similar observations together\n",
    "#### 3.Regression => Predict a continuous value\n",
    "#### 4.Association => Identify relationships between variables\n",
    "\n",
    "\n"
   ]
  },
  {
   "cell_type": "markdown",
   "metadata": {},
   "source": [
    "==============================================\n",
    "### Data Scientist vs Data Analyst\n",
    "==============================================\n",
    "1. Data Scientist <br>\n",
    "    => Understand Data <br>\n",
    "    => Data Acquirition / Understand <br>\n",
    "    => Data Analysis <br>\n",
    "    => Data Preperation <br>\n",
    "    => Data Model (ML/DL) <br>\n",
    "    => Data model education <br>\n",
    "    => Data Model deployment <br>\n",
    "    => Data Monitering <br>\n",
    "    => Data Model Maintenance <br>\n",
    "    => Data Optiming <br>\n",
    "    \n",
    "2.  Data Analyst <br>\n",
    "  \n",
    "    => Required information about data (Meta-Data) <br>\n",
    "    => Data Collection <br>\n",
    "    => Assigned Goals  <br>\n",
    "    => Data Goals <br> \n",
    "    => Data cleaning <br>\n",
    "    => EDA (Exploratory Data  Analysis) <br>\n",
    "    => Inference -> Model <br> \n",
    "    => Data Visualization <br>\n",
    "    => Report writing <br>\n",
    "\n",
    "    \n",
    " \n",
    "  "
   ]
  },
  {
   "cell_type": "markdown",
   "metadata": {},
   "source": [
    "# Life Cycle \n",
    "\n",
    "1. **Acquire the data**  : The first step is to acquire the data. This can be done by collecting data from various sources  such as databases,  APIs, or even manual entry. The data should be in a format that can  be easily processed by the machine learning model.\n",
    "   \n",
    "2. **Clean the data**  : Once the data is acquired, it needs to be cleaned. This involves handling missing values , removing duplicates, and transforming the data into a suitable format for the machine learning model.\n",
    "   \n",
    "3. **Use the data**  : After cleaning the data, it can be used to train the machine learning model. The  model is trained on the data to learn patterns and relationships.\n",
    "\n",
    "4. **Publish the data** : Once the model is trained, it can be used to make predictions on new, unseen data.\n",
    "\n",
    "5. **Preserve/Store the data** : The data should be preserved and stored for future use.\n",
    "\n",
    "\n"
   ]
  }
 ],
 "metadata": {
  "language_info": {
   "name": "python"
  }
 },
 "nbformat": 4,
 "nbformat_minor": 2
}
