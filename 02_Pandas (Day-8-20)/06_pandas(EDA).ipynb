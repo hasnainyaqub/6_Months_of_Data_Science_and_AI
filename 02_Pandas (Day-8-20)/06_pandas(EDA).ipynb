{
 "cells": [
  {
   "cell_type": "markdown",
   "metadata": {},
   "source": [
    "# Automatic EDA with `ydata_profiling`"
   ]
  },
  {
   "cell_type": "code",
   "execution_count": null,
   "metadata": {},
   "outputs": [],
   "source": [
    "import pandas as pd\n",
    "import ydata_profiling as yd\n",
    "import seaborn as sns"
   ]
  },
  {
   "cell_type": "code",
   "execution_count": null,
   "metadata": {},
   "outputs": [],
   "source": [
    "# import data from seaborn\n",
    "df = sns.load_dataset('titanic')"
   ]
  },
  {
   "cell_type": "code",
   "execution_count": null,
   "metadata": {},
   "outputs": [
    {
     "name": "stderr",
     "output_type": "stream",
     "text": [
      "Summarize dataset: 100%|██████████| 41/41 [00:13<00:00,  2.98it/s, Completed]                   \n",
      "Generate report structure: 100%|██████████| 1/1 [00:08<00:00,  8.80s/it]\n",
      "Render HTML: 100%|██████████| 1/1 [00:05<00:00,  5.56s/it]\n",
      "Export report to file: 100%|██████████| 1/1 [00:00<00:00,  8.24it/s]\n"
     ]
    }
   ],
   "source": [
    "# ydata profile report\n",
    "profile = yd.ProfileReport(df)\n",
    "# profile.to_file(output_file='titanic_report.html')"
   ]
  },
  {
   "cell_type": "code",
   "execution_count": null,
   "metadata": {},
   "outputs": [
    {
     "name": "stderr",
     "output_type": "stream",
     "text": [
      "Summarize dataset: 100%|██████████| 319/319 [03:09<00:00,  1.69it/s, Completed]                                                     \n",
      "Generate report structure: 100%|██████████| 1/1 [00:30<00:00, 30.68s/it]\n",
      "Render HTML: 100%|██████████| 1/1 [00:27<00:00, 27.27s/it]\n",
      "Export report to file: 100%|██████████| 1/1 [00:00<00:00,  3.01it/s]\n"
     ]
    }
   ],
   "source": [
    "pk_pop = pd.read_csv('./01_sub-division_population_of_pakistan.csv')\n",
    "pk_pop_rep = yd.ProfileReport(pk_pop)\n",
    "# pk_pop_rep.to_file(output_file='./06_pk_pop_report.html')"
   ]
  }
 ],
 "metadata": {
  "kernelspec": {
   "display_name": "ydata_profiling",
   "language": "python",
   "name": "python3"
  },
  "language_info": {
   "codemirror_mode": {
    "name": "ipython",
    "version": 3
   },
   "file_extension": ".py",
   "mimetype": "text/x-python",
   "name": "python",
   "nbconvert_exporter": "python",
   "pygments_lexer": "ipython3",
   "version": "3.10.15"
  }
 },
 "nbformat": 4,
 "nbformat_minor": 2
}
