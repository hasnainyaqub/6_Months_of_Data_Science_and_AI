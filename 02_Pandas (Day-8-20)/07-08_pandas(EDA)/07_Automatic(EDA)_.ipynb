{
 "cells": [
  {
   "cell_type": "markdown",
   "metadata": {},
   "source": [
    "## *Google Playstore* EDA Analysis\n"
   ]
  },
  {
   "cell_type": "code",
   "execution_count": 10,
   "metadata": {},
   "outputs": [],
   "source": [
    "# import libraries\n",
    "import pandas as pd \n",
    "import seaborn as sns\n",
    "import matplotlib.pyplot as plt\n",
    "import numpy as np\n",
    "import ydata_profiling as yd\n"
   ]
  },
  {
   "cell_type": "code",
   "execution_count": 11,
   "metadata": {},
   "outputs": [],
   "source": [
    "df = pd.read_csv('./googleplaystore.csv')"
   ]
  },
  {
   "cell_type": "code",
   "execution_count": 12,
   "metadata": {},
   "outputs": [
    {
     "name": "stderr",
     "output_type": "stream",
     "text": [
      "Summarize dataset: 100%|██████████| 27/27 [00:12<00:00,  2.21it/s, Completed]                      \n",
      "Generate report structure: 100%|██████████| 1/1 [00:27<00:00, 27.33s/it]\n",
      "Render HTML: 100%|██████████| 1/1 [00:02<00:00,  2.36s/it]\n",
      "Export report to file: 100%|██████████| 1/1 [00:00<00:00,  8.26it/s]\n"
     ]
    }
   ],
   "source": [
    "# RUn automatic EDA with ydata-profiling.\n",
    "profile = yd.ProfileReport(df)\n",
    "profile.to_file(output_file='./NEw_Googleplay_report.html')"
   ]
  }
 ],
 "metadata": {
  "kernelspec": {
   "display_name": "ydata_profiling",
   "language": "python",
   "name": "python3"
  },
  "language_info": {
   "codemirror_mode": {
    "name": "ipython",
    "version": 3
   },
   "file_extension": ".py",
   "mimetype": "text/x-python",
   "name": "python",
   "nbconvert_exporter": "python",
   "pygments_lexer": "ipython3",
   "version": "3.10.15"
  }
 },
 "nbformat": 4,
 "nbformat_minor": 2
}
