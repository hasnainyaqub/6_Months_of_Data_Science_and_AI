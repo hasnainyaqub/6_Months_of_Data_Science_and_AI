{
 "cells": [
  {
   "cell_type": "markdown",
   "metadata": {},
   "source": [
    "### Day-27 \n",
    "-------\n",
    "### Data Scaling (Normalization & standardization) and Encoding\n",
    "\n",
    "\n"
   ]
  },
  {
   "cell_type": "markdown",
   "metadata": {},
   "source": [
    "\n",
    "\n",
    "**Data Scaling**: Adjusting the range of data features to ensure they contribute equally in a machine learning model. Common methods include:\n",
    "\n",
    "- **Normalization (Min-Max Scaling)**: Rescales data to a [0, 1] range.\n",
    "  \n",
    "\n",
    "    `[ X_{norm} = \\frac{X - X_{min}}{X_{max} - X_{min}} ]`\n",
    "\n",
    "  \n",
    "- **Standardization (Z-score Normalization)**: Rescales data to have a mean of 0 and a standard deviation of 1.\n",
    "  \n",
    "\n",
    "    `[ X_{standard} = \\frac{X - \\mu}{\\sigma} ]`\n",
    "\n",
    "\n",
    "  \n",
    "- **Robust Scaling**: Uses the median and interquartile range (IQR) to minimize the impact of outliers.\n",
    "  \n",
    "\n",
    "    `[ X_{robust} = \\frac{X - \\text{median}}{\\text{IQR}} ]`\n",
    "\n",
    "\n",
    "\n",
    "- **MaxAbs Scaling**: Scales data by its maximum absolute value to fit within the range [-1, 1].\n",
    "  \n",
    "\n",
    "    `[ X_{maxabs} = \\frac{X}{|X_{max}|} ]`\n",
    "\n",
    "\n",
    "\n",
    "- **Logarithmic Scaling**: Applies the logarithm function to each feature value, useful for data spanning several orders of magnitude.\n",
    "  \n",
    "\n",
    "    `[ X' = \\log(X) ]`\n",
    "\n",
    "--------------\n",
    " -------------\n",
    "\n",
    "### Encoding\n",
    "\n",
    "**Encoding**: Converting categorical data into a format that can be provided to machine learning algorithms to improve performance. Common methods include:\n",
    "\n",
    "- **One-Hot Encoding**: Converts categorical variables into binary vectors.\n",
    "- **Label Encoding**: Converts categorical values into numerical values.\n",
    "- **Ordinal Encoding**: Assigns an ordinal number to categorical values.\n",
    "- **Binary Encoding**: Converts categories into binary code.\n",
    "-----------------\n",
    "These techniques help in making sure that the data is in a suitable format for training machine learning models, thereby improving their efficiency and accuracy. 🚀\n"
   ]
  }
 ],
 "metadata": {
  "language_info": {
   "name": "python"
  }
 },
 "nbformat": 4,
 "nbformat_minor": 2
}
