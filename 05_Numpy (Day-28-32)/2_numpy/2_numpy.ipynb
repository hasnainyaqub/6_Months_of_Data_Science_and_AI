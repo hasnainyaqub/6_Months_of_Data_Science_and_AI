{
 "cells": [
  {
   "cell_type": "markdown",
   "metadata": {},
   "source": [
    "# Numpy (Day-2)"
   ]
  },
  {
   "cell_type": "code",
   "execution_count": 1,
   "metadata": {},
   "outputs": [],
   "source": [
    "import numpy as np"
   ]
  },
  {
   "cell_type": "code",
   "execution_count": 2,
   "metadata": {},
   "outputs": [
    {
     "name": "stdout",
     "output_type": "stream",
     "text": [
      "[[6.23042070e-307 4.67296746e-307 1.69121096e-306 8.01092456e-307\n",
      "  1.11261095e-306]\n",
      " [1.37961302e-306 1.05699242e-307 1.95821439e-306 2.22522597e-306\n",
      "  1.33511969e-306]\n",
      " [7.56593017e-307 8.01097889e-307 1.78020169e-306 7.56601165e-307\n",
      "  1.02359984e-306]\n",
      " [1.33510679e-306 2.22522597e-306 2.22523140e-306 1.02360867e-306\n",
      "  1.06811422e-306]]\n"
     ]
    },
    {
     "data": {
      "text/plain": [
       "array([6.23042070e-307, 4.67296746e-307, 1.69121096e-306, 8.01092456e-307,\n",
       "       1.11261095e-306])"
      ]
     },
     "execution_count": 2,
     "metadata": {},
     "output_type": "execute_result"
    }
   ],
   "source": [
    "empty = np.empty((4,5))\n",
    "print(empty)\n",
    "empty[0]"
   ]
  },
  {
   "cell_type": "code",
   "execution_count": 3,
   "metadata": {},
   "outputs": [
    {
     "data": {
      "text/plain": [
       "array([0, 1, 2, 3, 4, 5])"
      ]
     },
     "execution_count": 3,
     "metadata": {},
     "output_type": "execute_result"
    }
   ],
   "source": [
    "# Rang array \n",
    "range_array = np.arange(6)\n",
    "range_array"
   ]
  },
  {
   "cell_type": "code",
   "execution_count": 4,
   "metadata": {},
   "outputs": [
    {
     "data": {
      "text/plain": [
       "array([ 0,  2,  4,  6,  8, 10])"
      ]
     },
     "execution_count": 4,
     "metadata": {},
     "output_type": "execute_result"
    }
   ],
   "source": [
    "# Array of even numbers \n",
    "even = np.arange(0,12,2)\n",
    "even"
   ]
  },
  {
   "cell_type": "code",
   "execution_count": 5,
   "metadata": {},
   "outputs": [
    {
     "data": {
      "text/plain": [
       "array([ 1,  3,  5,  7,  9, 11, 13])"
      ]
     },
     "execution_count": 5,
     "metadata": {},
     "output_type": "execute_result"
    }
   ],
   "source": [
    "# Array of odd numbers\n",
    "odd = np.arange(1,14,2)\n",
    "odd"
   ]
  },
  {
   "cell_type": "code",
   "execution_count": 6,
   "metadata": {},
   "outputs": [
    {
     "data": {
      "text/plain": [
       "array([ 0,  6, 12])"
      ]
     },
     "execution_count": 6,
     "metadata": {},
     "output_type": "execute_result"
    }
   ],
   "source": [
    "# Array with specific difference\n",
    "# dif_three = np.arange(0,15,0.55)\n",
    "# dif_three = np.arange(0,15,3)\n",
    "# dif_three = np.arange(0,15,0.7)\n",
    "dif_three = np.arange(0,15,6)\n",
    "dif_three"
   ]
  },
  {
   "cell_type": "markdown",
   "metadata": {},
   "source": [
    "- You can also use np.linspace() to create an array with values that are spaced linearly in a specified interval:"
   ]
  },
  {
   "cell_type": "code",
   "execution_count": 7,
   "metadata": {},
   "outputs": [
    {
     "name": "stdout",
     "output_type": "stream",
     "text": [
      "float64\n"
     ]
    },
    {
     "data": {
      "text/plain": [
       "array([ 0., 15., 30., 45., 60.])"
      ]
     },
     "execution_count": 7,
     "metadata": {},
     "output_type": "execute_result"
    }
   ],
   "source": [
    "lin = np.linspace(0,12,num=10)\n",
    "lin = np.linspace(0,12,num=6)   \n",
    "lin = np.linspace(0,20,num=10)   \n",
    "lin = np.linspace(0,60,num=5)   \n",
    "print(lin.dtype)\n",
    "lin"
   ]
  },
  {
   "cell_type": "markdown",
   "metadata": {},
   "source": [
    "- Specifying your data type\n",
    "\n",
    "   - While the default data type is floating point (np.float64), you can explicitly specify which data type you want using the dtype keyword."
   ]
  },
  {
   "cell_type": "code",
   "execution_count": 8,
   "metadata": {},
   "outputs": [
    {
     "name": "stdout",
     "output_type": "stream",
     "text": [
      "int64\n"
     ]
    },
    {
     "data": {
      "text/plain": [
       "array([ 0,  3,  7, 11, 14, 18, 22, 25, 29, 33, 36, 40, 44, 47, 51, 55, 58,\n",
       "       62, 66, 70])"
      ]
     },
     "execution_count": 8,
     "metadata": {},
     "output_type": "execute_result"
    }
   ],
   "source": [
    "lin = np.linspace(0,70,num=20 ,dtype=np.int64)   \n",
    "print(lin.dtype)\n",
    "lin"
   ]
  },
  {
   "cell_type": "code",
   "execution_count": 9,
   "metadata": {},
   "outputs": [
    {
     "name": "stdout",
     "output_type": "stream",
     "text": [
      "float64\n"
     ]
    },
    {
     "data": {
      "text/plain": [
       "array([ 0.        ,  3.68421053,  7.36842105, 11.05263158, 14.73684211,\n",
       "       18.42105263, 22.10526316, 25.78947368, 29.47368421, 33.15789474,\n",
       "       36.84210526, 40.52631579, 44.21052632, 47.89473684, 51.57894737,\n",
       "       55.26315789, 58.94736842, 62.63157895, 66.31578947, 70.        ])"
      ]
     },
     "execution_count": 9,
     "metadata": {},
     "output_type": "execute_result"
    }
   ],
   "source": [
    "lin = np.linspace(0,70,num=20 ,dtype=np.float64)   \n",
    "print(lin.dtype)\n",
    "lin"
   ]
  },
  {
   "cell_type": "markdown",
   "metadata": {},
   "source": [
    "- Sorting an array is simple with np.sort(). You can specify the axis, kind, and order when you call the function."
   ]
  },
  {
   "cell_type": "code",
   "execution_count": 10,
   "metadata": {},
   "outputs": [
    {
     "name": "stdout",
     "output_type": "stream",
     "text": [
      "[ 1 99 33 65 77 22 44 33  9 88]\n",
      "[ 1  9 22 33 33 44 65 77 88 99]\n"
     ]
    }
   ],
   "source": [
    "# Creating a array with random numbers 1-20\n",
    "Rarr = np.array((1,99,33,65,77,22,44,33,9,88))\n",
    "print(Rarr)\n",
    "print(np.sort(Rarr))"
   ]
  },
  {
   "cell_type": "code",
   "execution_count": 11,
   "metadata": {},
   "outputs": [
    {
     "name": "stdout",
     "output_type": "stream",
     "text": [
      "[[0 3]\n",
      " [2 2]]\n",
      "-----------\n",
      "[[0 1]\n",
      " [1 0]]\n",
      "-----------\n",
      "[[0 2]\n",
      " [2 3]]\n"
     ]
    }
   ],
   "source": [
    "# Create a sample array\n",
    "arr_2d = np.array([[0, 3], [2, 2]])\n",
    "print(arr_2d)\n",
    "# Output:\n",
    "# array([[0, 3],\n",
    "#        [2, 2]])\n",
    "print('-----------')\n",
    "# Get the indices that would sort the array along the first axis\n",
    "ind = np.argsort(arr_2d, axis=0)\n",
    "print(ind)\n",
    "# Output:\n",
    "# array([[0, 1],\n",
    "#        [1, 0]])\n",
    "print('-----------')\n",
    "# Sort the array along the first axis using the indices\n",
    "sorted_arr_2d = np.take_along_axis(arr_2d, ind, axis=0)\n",
    "print(sorted_arr_2d)\n",
    "# Output:\n",
    "# array([[0, 2],\n",
    "#        [2, 3]])\n"
   ]
  },
  {
   "cell_type": "markdown",
   "metadata": {},
   "source": [
    "- You can concatenate them with `np.concatenate()`"
   ]
  },
  {
   "cell_type": "code",
   "execution_count": 12,
   "metadata": {},
   "outputs": [
    {
     "name": "stdout",
     "output_type": "stream",
     "text": [
      "[1 2 3 4]\n",
      "[5 6 7 8]\n"
     ]
    },
    {
     "data": {
      "text/plain": [
       "array([1, 2, 3, 4, 5, 6, 7, 8])"
      ]
     },
     "execution_count": 12,
     "metadata": {},
     "output_type": "execute_result"
    }
   ],
   "source": [
    "a = np.array([1, 2, 3, 4])\n",
    "b = np.array([5, 6, 7, 8])\n",
    "print(a)\n",
    "print(b)\n",
    "np.concatenate((a, b))"
   ]
  },
  {
   "cell_type": "code",
   "execution_count": 13,
   "metadata": {},
   "outputs": [
    {
     "name": "stdout",
     "output_type": "stream",
     "text": [
      "[[1 2]\n",
      " [3 4]]\n",
      "-----------\n",
      "[[5 6]]\n",
      "-----------\n"
     ]
    },
    {
     "data": {
      "text/plain": [
       "array([[1, 2],\n",
       "       [3, 4],\n",
       "       [5, 6]])"
      ]
     },
     "execution_count": 13,
     "metadata": {},
     "output_type": "execute_result"
    }
   ],
   "source": [
    "arr_2d_1 = np.array([[1, 2], [3, 4]]) # 2x2 array\n",
    "arr_2d_2 = np.array([[5, 6]]) # 1x2 array\n",
    "print(arr_2d_1) , print('-----------')\n",
    "print(arr_2d_2) , print('-----------')\n",
    "\n",
    "# Concatenate 2D arrays\n",
    "arr_2d_conc = np.concatenate((arr_2d_1, arr_2d_2), axis=0)\n",
    "arr_2d_conc"
   ]
  },
  {
   "cell_type": "code",
   "execution_count": 14,
   "metadata": {},
   "outputs": [
    {
     "name": "stdout",
     "output_type": "stream",
     "text": [
      "[[1 2]\n",
      " [3 4]]\n",
      "-------\n",
      "[[5 1]\n",
      " [7 1]]\n",
      "-------\n"
     ]
    },
    {
     "data": {
      "text/plain": [
       "(None, None)"
      ]
     },
     "execution_count": 14,
     "metadata": {},
     "output_type": "execute_result"
    }
   ],
   "source": [
    "arr_2d_1 = np.array([[1, 2], [3, 4]]) # 2x2 array\n",
    "arr_2d_3 = np.array([[5,1], [7, 1]]) # 2x2 array\n",
    "print(arr_2d_1) ,print('-------')\n",
    "print(arr_2d_3) ,print('-------')"
   ]
  },
  {
   "cell_type": "code",
   "execution_count": 15,
   "metadata": {},
   "outputs": [
    {
     "data": {
      "text/plain": [
       "array([[1, 2, 5, 1],\n",
       "       [3, 4, 7, 1]])"
      ]
     },
     "execution_count": 15,
     "metadata": {},
     "output_type": "execute_result"
    }
   ],
   "source": [
    "np.concatenate((arr_2d_1, arr_2d_3) , axis=1)\n"
   ]
  },
  {
   "cell_type": "markdown",
   "metadata": {},
   "source": [
    "- Let's create a 3D array"
   ]
  },
  {
   "cell_type": "code",
   "execution_count": 16,
   "metadata": {},
   "outputs": [
    {
     "data": {
      "text/plain": [
       "array([[[0, 1, 2, 3],\n",
       "        [4, 5, 6, 7]],\n",
       "\n",
       "       [[0, 1, 2, 3],\n",
       "        [4, 5, 6, 7]],\n",
       "\n",
       "       [[0, 1, 2, 3],\n",
       "        [4, 5, 6, 7]]])"
      ]
     },
     "execution_count": 16,
     "metadata": {},
     "output_type": "execute_result"
    }
   ],
   "source": [
    "arr_3d_1 = np.array([[[0, 1, 2, 3],\n",
    "                           [4, 5, 6, 7]],\n",
    "\n",
    "                          [[0, 1, 2, 3],\n",
    "                           [4, 5, 6, 7]],\n",
    "\n",
    "                          [[0 ,1 ,2, 3],\n",
    "                           [4, 5, 6, 7]]])\n",
    "arr_3d_1"
   ]
  },
  {
   "cell_type": "markdown",
   "metadata": {},
   "source": [
    "- `arr_3d_1.ndim` will tell you the number of axes, or dimensions, of the array."
   ]
  },
  {
   "cell_type": "code",
   "execution_count": 17,
   "metadata": {},
   "outputs": [
    {
     "data": {
      "text/plain": [
       "3"
      ]
     },
     "execution_count": 17,
     "metadata": {},
     "output_type": "execute_result"
    }
   ],
   "source": [
    "# To find the number of dimensions of the array, run:\n",
    "arr_3d_1.ndim"
   ]
  },
  {
   "cell_type": "markdown",
   "metadata": {},
   "source": [
    "- `arr_3d_1.size` will tell you the total number of elements of the array. This is the product of the elements of the array’s shape.\n",
    "\n"
   ]
  },
  {
   "cell_type": "code",
   "execution_count": 18,
   "metadata": {},
   "outputs": [
    {
     "data": {
      "text/plain": [
       "24"
      ]
     },
     "execution_count": 18,
     "metadata": {},
     "output_type": "execute_result"
    }
   ],
   "source": [
    "#To find the total number of elements in the array, run:\n",
    "arr_3d_1.size"
   ]
  },
  {
   "cell_type": "markdown",
   "metadata": {},
   "source": [
    "- `arr_3d_1.shape` will display a tuple of integers that indicate the number of elements stored along each dimension of the array. If, for example, you have a 2-D array with 2 rows and 3 columns, the shape of your array is (2, 3)."
   ]
  },
  {
   "cell_type": "code",
   "execution_count": 19,
   "metadata": {},
   "outputs": [
    {
     "data": {
      "text/plain": [
       "(3, 2, 4)"
      ]
     },
     "execution_count": 19,
     "metadata": {},
     "output_type": "execute_result"
    }
   ],
   "source": [
    "# And to find the shape of your array, run:\n",
    "arr_3d_1.shape"
   ]
  },
  {
   "cell_type": "markdown",
   "metadata": {},
   "source": [
    " ## Can we reshape an array?\n",
    "- Yes!\n",
    "\n",
    "  - Using `arr.reshape()` will give a new shape to an array without changing the data. Just remember that when we use the reshape method, the array we want to produce needs to have the same number of elements as the original array. If we start with an array with 12 elements, you’ll need to make sure that your new array also has a total of 12 elements."
   ]
  },
  {
   "cell_type": "code",
   "execution_count": 20,
   "metadata": {},
   "outputs": [
    {
     "data": {
      "text/plain": [
       "array([0, 1, 2, 3, 4, 5, 6, 7])"
      ]
     },
     "execution_count": 20,
     "metadata": {},
     "output_type": "execute_result"
    }
   ],
   "source": [
    "arr_r = np.arange(8)\n",
    "arr_r"
   ]
  },
  {
   "cell_type": "code",
   "execution_count": 21,
   "metadata": {},
   "outputs": [
    {
     "data": {
      "text/plain": [
       "array([[0, 1],\n",
       "       [2, 3],\n",
       "       [4, 5],\n",
       "       [6, 7]])"
      ]
     },
     "execution_count": 21,
     "metadata": {},
     "output_type": "execute_result"
    }
   ],
   "source": [
    "#  We can use `reshape()` to reshape your array. For example, you can reshape this array to an array with three rows and two columns:\n",
    "arr_reshap1 = arr_r.reshape((4,2))\n",
    "arr_reshap1"
   ]
  },
  {
   "cell_type": "code",
   "execution_count": 22,
   "metadata": {},
   "outputs": [
    {
     "data": {
      "text/plain": [
       "array([[0, 1, 2, 3],\n",
       "       [4, 5, 6, 7]])"
      ]
     },
     "execution_count": 22,
     "metadata": {},
     "output_type": "execute_result"
    }
   ],
   "source": [
    "# With np.reshape, you can specify a few optional parameters:\n",
    "\n",
    "np.reshape(arr_r, shape=(2,4), order='C')"
   ]
  },
  {
   "cell_type": "markdown",
   "metadata": {},
   "source": [
    "### How to Convert a 1D Array into a 2D Array (How to Add a New Axis to an Array) \n",
    "- we can use `np.newaxis` and `np.expand_dims` to increase the dimensions of your existing array. Using `np.newaxis` will increase the dimensions of our array by one dimension when used once. This means that a 1D array will become a 2D array, a 2D array will become a 3D array, and so on."
   ]
  },
  {
   "cell_type": "code",
   "execution_count": 23,
   "metadata": {},
   "outputs": [],
   "source": [
    "a = np.array([1, 2, 3, 4, 5, 6])"
   ]
  },
  {
   "cell_type": "markdown",
   "metadata": {},
   "source": [
    "- You can use `np.newaxis` to add a new axis"
   ]
  },
  {
   "cell_type": "code",
   "execution_count": 29,
   "metadata": {},
   "outputs": [
    {
     "name": "stdout",
     "output_type": "stream",
     "text": [
      "[[1 2 3 4 5 6]]\n"
     ]
    },
    {
     "data": {
      "text/plain": [
       "(1, 6)"
      ]
     },
     "execution_count": 29,
     "metadata": {},
     "output_type": "execute_result"
    }
   ],
   "source": [
    "a2 = a[np.newaxis, :]\n",
    "print(a2)\n",
    "a2.shape"
   ]
  },
  {
   "cell_type": "markdown",
   "metadata": {},
   "source": [
    " - Or, for a column vector, you can insert an axis along the second dimension:"
   ]
  },
  {
   "cell_type": "code",
   "execution_count": 27,
   "metadata": {},
   "outputs": [
    {
     "name": "stdout",
     "output_type": "stream",
     "text": [
      "[[1]\n",
      " [2]\n",
      " [3]\n",
      " [4]\n",
      " [5]\n",
      " [6]]\n"
     ]
    },
    {
     "data": {
      "text/plain": [
       "(6, 1)"
      ]
     },
     "execution_count": 27,
     "metadata": {},
     "output_type": "execute_result"
    }
   ],
   "source": [
    "col_vector = a[:, np.newaxis]\n",
    "print(col_vector)\n",
    "col_vector.shape"
   ]
  },
  {
   "cell_type": "markdown",
   "metadata": {},
   "source": [
    "## Indexing and slicing\n",
    "### You can index and slice NumPy arrays in the same ways you can slice Python lists."
   ]
  },
  {
   "cell_type": "code",
   "execution_count": 65,
   "metadata": {},
   "outputs": [
    {
     "name": "stdout",
     "output_type": "stream",
     "text": [
      "[1 2 3]\n",
      "1\n",
      "2\n",
      "3\n",
      "[1 2]\n",
      "[1 2 3]\n",
      "3\n",
      "[1 2 3]\n",
      "[1 2]\n"
     ]
    }
   ],
   "source": [
    "data = np.array([1, 2, 3])\n",
    "print(data)\n",
    "print(data[0]) # Output: 1\n",
    "print(data[1]) # Output: 2\n",
    "print(data[2]) # Output: 3\n",
    "print(data[0:2]) # 0:2 means from index 0 to 1 (not 2)\n",
    "print(data[0:3])  # 0:3 means from index 0 to 2 (not 3)\n",
    "print(data[-1]) # -1 means the last element\n",
    "print(data[0:]) # 0: means from index 0 to the end\n",
    "print(data[-3:-1]) # -3:-1 means from the third last element to the second last element"
   ]
  },
  {
   "cell_type": "code",
   "execution_count": null,
   "metadata": {},
   "outputs": [
    {
     "name": "stdout",
     "output_type": "stream",
     "text": [
      "[ 1  2  3  4 90  5  6  7  8  9 10 11 12 15 16 17 18 19 20]\n",
      "[ 1  2  3  4  5  6  7  8  9 10 11 12 15 16 17 18 19 20 90]\n",
      "[1 2 3 4 5 6 7 8 9]\n",
      "[90  5  6  7  8  9 10 11 12 15 16 17 18 19 20]\n"
     ]
    }
   ],
   "source": [
    "no_data = np.array([1,2,3,4,90,5,6,7,8,9,10,11,12,15,16,17,18,19,20])\n",
    "print(no_data)\n",
    "print(np.sort(no_data)) # sort the array in ascending order\n",
    "print(no_data[no_data < 10]) # no_data < 10 means from index 0 to 9 (not 10) \n",
    "\n",
    "five_up = (no_data >= 5) # no_data >= 5 means from index 5 and above 5 (= means 5 included)\n",
    "print(no_data[five_up]) "
   ]
  },
  {
   "cell_type": "code",
   "execution_count": 121,
   "metadata": {},
   "outputs": [
    {
     "name": "stdout",
     "output_type": "stream",
     "text": [
      "[[ 1  2  3  4  5]\n",
      " [ 6  7  8  9 10]\n",
      " [11 12 13 14 15]]\n",
      "-------------------\n",
      "[1 2 3 4 5]\n",
      "-------------------\n",
      "[ 6  7  8  9 10]\n",
      "-------------------\n",
      "[1 2 3 4]\n",
      "[1 2 3 4 5]\n",
      "[1 2 3 4 5 6]\n",
      "-------------------\n",
      "[ 4  5  6  7  8  9 10 11 12 13 14 15]\n",
      "[ 7  8  9 10 11 12 13 14 15]\n"
     ]
    }
   ],
   "source": [
    "data_2d  =np.array([[1,2,3,4,5] , [6,7,8,9,10] ,[11,12,13,14,15]])\n",
    "print(data_2d) , print('-------------------')\n",
    "print(data_2d[0]) # prints the first row \n",
    "print('-------------------')\n",
    "print(data_2d[1])\n",
    "print('-------------------')\n",
    "print(data_2d[data_2d < 5]) # prints all elements less than 5\n",
    "print(data_2d[data_2d < 6]) # prints all elements less than 6\n",
    "print(data_2d[data_2d < 7]) # prints all elements less than 7\n",
    "print('-------------------')\n",
    "print(data_2d[data_2d > 3]) # prints all elements greater than 3\n",
    "print(data_2d[data_2d > 6]) # prints all elements greater than 6\n"
   ]
  },
  {
   "cell_type": "code",
   "execution_count": null,
   "metadata": {},
   "outputs": [
    {
     "data": {
      "text/plain": [
       "array([ 2,  4,  6,  8, 10])"
      ]
     },
     "execution_count": 101,
     "metadata": {},
     "output_type": "execute_result"
    }
   ],
   "source": [
    "# Filter even numbers\n",
    "even_numbers = data_2d[data_2d%2 == 0] \n",
    "even_numbers \n"
   ]
  },
  {
   "cell_type": "code",
   "execution_count": 103,
   "metadata": {},
   "outputs": [
    {
     "data": {
      "text/plain": [
       "array([1, 3, 5, 7, 9])"
      ]
     },
     "execution_count": 103,
     "metadata": {},
     "output_type": "execute_result"
    }
   ],
   "source": [
    "# Filter odd numbers\n",
    "odd_numbers = data_2d[data_2d%2 == 1] \n",
    "odd_numbers "
   ]
  },
  {
   "cell_type": "code",
   "execution_count": 126,
   "metadata": {},
   "outputs": [
    {
     "name": "stdout",
     "output_type": "stream",
     "text": [
      "[ 4  6  8 10 12]\n",
      "[ 5  7  9 11]\n"
     ]
    }
   ],
   "source": [
    "# Use to condition\n",
    "print(data_2d[(data_2d > 3) & (data_2d < 13) & (data_2d % 2 == 0)])  # returns all the divisor of 2  btw 3 and 13\n",
    "print(data_2d[(data_2d > 3) & (data_2d < 13) & (data_2d % 2 == 1)])  # returns all the number which are not the divisor of 2  btw 3 and 13"
   ]
  },
  {
   "cell_type": "code",
   "execution_count": 131,
   "metadata": {},
   "outputs": [
    {
     "name": "stdout",
     "output_type": "stream",
     "text": [
      "[1 2]\n",
      "----------\n",
      "[ 1  2  3  4  5  6  7  8  9 10 11 12]\n"
     ]
    }
   ],
   "source": [
    "\n",
    "print(data_2d[(data_2d < 3) & (data_2d < 13)])\n",
    "print('----------') \n",
    "# | is the the (or) in programming\n",
    "print(data_2d[(data_2d < 3) | (data_2d < 13)]) "
   ]
  }
 ],
 "metadata": {
  "kernelspec": {
   "display_name": "python_eda",
   "language": "python",
   "name": "python3"
  },
  "language_info": {
   "codemirror_mode": {
    "name": "ipython",
    "version": 3
   },
   "file_extension": ".py",
   "mimetype": "text/x-python",
   "name": "python",
   "nbconvert_exporter": "python",
   "pygments_lexer": "ipython3",
   "version": "3.13.0"
  }
 },
 "nbformat": 4,
 "nbformat_minor": 2
}
