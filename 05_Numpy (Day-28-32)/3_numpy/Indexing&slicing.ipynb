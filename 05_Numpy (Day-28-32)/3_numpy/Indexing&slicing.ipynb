{
 "cells": [
  {
   "cell_type": "markdown",
   "metadata": {},
   "source": [
    "# Numpy (Day-3)"
   ]
  },
  {
   "cell_type": "markdown",
   "metadata": {},
   "source": [
    "## Indexing and Slicing"
   ]
  },
  {
   "cell_type": "code",
   "execution_count": 1,
   "metadata": {},
   "outputs": [],
   "source": [
    "import numpy as np"
   ]
  },
  {
   "cell_type": "code",
   "execution_count": 3,
   "metadata": {},
   "outputs": [
    {
     "name": "stdout",
     "output_type": "stream",
     "text": [
      "[1 2 3 4 5 6 7]\n"
     ]
    }
   ],
   "source": [
    "# Creating a numpy array \n",
    "arr1 = np.array([1, 2, 3, 4, 5,6,7])\n",
    "print(arr1)"
   ]
  },
  {
   "cell_type": "code",
   "execution_count": 42,
   "metadata": {},
   "outputs": [
    {
     "name": "stdout",
     "output_type": "stream",
     "text": [
      "2\n",
      "1\n",
      "[1 2 3 4 5 6 7]\n",
      "[1 2 3 4 5 6]\n",
      "[1 2 3 4 5 6 7]\n",
      "[3 4 5 6]\n",
      "[3 4]\n",
      "[1 2 3 4 5 6 7]\n"
     ]
    }
   ],
   "source": [
    "print(arr1[1])\n",
    "print(arr1[0])\n",
    "print(arr1[0:])\n",
    "print(arr1[:-1])\n",
    "print(arr1[:])\n",
    "print(arr1[-5:-1])\n",
    "print(arr1[(arr1>2) &( arr1<5)])\n",
    "print(arr1[(arr1>2) | ( arr1<5)])"
   ]
  },
  {
   "cell_type": "code",
   "execution_count": null,
   "metadata": {},
   "outputs": [
    {
     "name": "stdout",
     "output_type": "stream",
     "text": [
      "[ 0  2  4  6  8 10]\n",
      "---------------------\n",
      "2\n",
      "0\n",
      "[ 0  2  4  6  8 10]\n",
      "[0 2 4 6 8]\n",
      "[ 0  2  4  6  8 10]\n",
      "[2 4 6 8]\n"
     ]
    }
   ],
   "source": [
    "arr2 = np.arange(0,12,2)\n",
    "print(arr2)\n",
    "print('---------------------')\n",
    "print(arr2[1])\n",
    "print(arr2[0])\n",
    "print(arr2[0:])\n",
    "print(arr2[:-1])\n",
    "print(arr2[:])\n",
    "print(arr2[-5:-1])"
   ]
  },
  {
   "cell_type": "code",
   "execution_count": 39,
   "metadata": {},
   "outputs": [
    {
     "name": "stdout",
     "output_type": "stream",
     "text": [
      "[[ 0  2  4]\n",
      " [ 6  8 10]]\n",
      "----------\n",
      "[0 2 4]\n",
      "----------\n",
      "[ 6  8 10]\n"
     ]
    }
   ],
   "source": [
    "len(arr2)\n",
    "arr2.size\n",
    "arr2.ndim\n",
    "\n",
    "arr2_re = arr2.reshape(2,3)\n",
    "print(arr2_re)\n",
    "print('----------')\n",
    "print(arr2_re[0])\n",
    "print('----------')\n",
    "print(arr2_re[1])"
   ]
  }
 ],
 "metadata": {
  "kernelspec": {
   "display_name": "python_eda",
   "language": "python",
   "name": "python3"
  },
  "language_info": {
   "codemirror_mode": {
    "name": "ipython",
    "version": 3
   },
   "file_extension": ".py",
   "mimetype": "text/x-python",
   "name": "python",
   "nbconvert_exporter": "python",
   "pygments_lexer": "ipython3",
   "version": "3.13.0"
  }
 },
 "nbformat": 4,
 "nbformat_minor": 2
}
