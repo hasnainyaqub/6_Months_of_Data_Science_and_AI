{
 "cells": [
  {
   "cell_type": "code",
   "execution_count": 3,
   "metadata": {},
   "outputs": [],
   "source": [
    "import pandas as pd\n",
    "import numpy as np\n",
    "import seaborn as sns\n",
    "from sklearn.decomposition import TruncatedSVD\n",
    "from sklearn.preprocessing import StandardScaler, OneHotEncoder\n",
    "from sklearn.compose import ColumnTransformer\n",
    "from sklearn.pipeline import Pipeline\n",
    "from sklearn.impute import SimpleImputer\n",
    "\n",
    "# Load the dataset \n",
    "df = sns.load_dataset('titanic')\n"
   ]
  },
  {
   "cell_type": "code",
   "execution_count": 4,
   "metadata": {},
   "outputs": [
    {
     "data": {
      "text/plain": [
       "Index(['survived', 'pclass', 'sex', 'age', 'sibsp', 'parch', 'fare',\n",
       "       'embarked', 'class', 'who', 'adult_male', 'deck', 'embark_town',\n",
       "       'alive', 'alone'],\n",
       "      dtype='object')"
      ]
     },
     "execution_count": 4,
     "metadata": {},
     "output_type": "execute_result"
    }
   ],
   "source": [
    "df.columns"
   ]
  },
  {
   "cell_type": "code",
   "execution_count": 14,
   "metadata": {},
   "outputs": [],
   "source": [
    "# Process the data\n",
    "# Selecting features for SVD.\n",
    "features = ['pclass' , 'sex' , 'age' , 'fare', 'survived']\n",
    "\n",
    "# Pipeline for numerical features\n",
    "numeric_features = ['age' , 'fare']\n",
    "numeric_transformer = Pipeline( steps=[\n",
    "    ('imputer' , SimpleImputer(strategy='median')),\n",
    "    ('scaler' , StandardScaler())\n",
    "])\n",
    "\n",
    "#Pipeline for categorical features \n",
    "categorical_features = ['pclass','sex']\n",
    "categorical_transformer = Pipeline(steps=[\n",
    "    ('imputer', SimpleImputer(strategy='constant', fill_value='missing')),\n",
    "    ('onehot', OneHotEncoder(handle_unknown='ignore'))\n",
    "])\n",
    "\n",
    "# Preprocessor \n",
    "preprocessor = ColumnTransformer(\n",
    "    transformers=[\n",
    "        ('num', numeric_transformer, numeric_features),\n",
    "        ('cat', categorical_transformer, categorical_features)\n",
    "])\n",
    "\n",
    "# Applying preprocessing to the dataset\n",
    "X = preprocessor.fit_transform(df[features])\n",
    "\n"
   ]
  },
  {
   "cell_type": "code",
   "execution_count": 15,
   "metadata": {},
   "outputs": [
    {
     "data": {
      "text/plain": [
       "(891, 7)"
      ]
     },
     "execution_count": 15,
     "metadata": {},
     "output_type": "execute_result"
    }
   ],
   "source": [
    "X.shape"
   ]
  },
  {
   "cell_type": "code",
   "execution_count": 16,
   "metadata": {},
   "outputs": [
    {
     "data": {
      "text/plain": [
       "array([[-0.56573646, -0.50244517,  0.        , ...,  1.        ,\n",
       "         0.        ,  1.        ],\n",
       "       [ 0.66386103,  0.78684529,  1.        , ...,  0.        ,\n",
       "         1.        ,  0.        ],\n",
       "       [-0.25833709, -0.48885426,  0.        , ...,  1.        ,\n",
       "         1.        ,  0.        ],\n",
       "       ...,\n",
       "       [-0.1046374 , -0.17626324,  0.        , ...,  1.        ,\n",
       "         1.        ,  0.        ],\n",
       "       [-0.25833709, -0.04438104,  1.        , ...,  0.        ,\n",
       "         0.        ,  1.        ],\n",
       "       [ 0.20276197, -0.49237783,  0.        , ...,  1.        ,\n",
       "         0.        ,  1.        ]])"
      ]
     },
     "execution_count": 16,
     "metadata": {},
     "output_type": "execute_result"
    }
   ],
   "source": [
    "X"
   ]
  },
  {
   "cell_type": "code",
   "execution_count": 17,
   "metadata": {},
   "outputs": [
    {
     "name": "stdout",
     "output_type": "stream",
     "text": [
      "Singular Values: [34.0919237  29.83381513 28.43241553 18.6007055 ]\n",
      "Explained Variance Ratio: [0.37544109 0.16349524 0.21253133 0.12019999]\n"
     ]
    }
   ],
   "source": [
    "# perform SVD \n",
    "svd = TruncatedSVD(n_components=4) # YOu can adjust n-components\n",
    "Y = svd.fit_transform(X)\n",
    "\n",
    "print('Singular Values:' , svd.singular_values_)\n",
    "print('Explained Variance Ratio:', svd.explained_variance_ratio_)"
   ]
  },
  {
   "cell_type": "markdown",
   "metadata": {},
   "source": [
    "-----------\n",
    "# SVD"
   ]
  },
  {
   "cell_type": "code",
   "execution_count": 1,
   "metadata": {},
   "outputs": [],
   "source": [
    "import numpy as np"
   ]
  },
  {
   "cell_type": "code",
   "execution_count": 4,
   "metadata": {},
   "outputs": [
    {
     "name": "stdout",
     "output_type": "stream",
     "text": [
      "[[0.47065075 0.157824   0.05453219]\n",
      " [0.91970642 0.43883198 0.33533489]\n",
      " [0.33754561 0.44275974 0.58583554]\n",
      " [0.6960723  0.23308686 0.35834028]]\n"
     ]
    }
   ],
   "source": [
    "# Generate a matrix of 4x3 dataset\n",
    "A = np.random.rand(4, 3)\n",
    "print(A)"
   ]
  },
  {
   "cell_type": "code",
   "execution_count": 24,
   "metadata": {},
   "outputs": [
    {
     "name": "stdout",
     "output_type": "stream",
     "text": [
      "U matrix : \n",
      " [[-0.29417256  0.39477249  0.26084992 -0.83040623]\n",
      " [-0.67198806  0.29936232  0.43691125  0.5176126 ]\n",
      " [-0.44783227 -0.85863001  0.14223568 -0.20486525]\n",
      " [-0.51121503  0.1314967  -0.84901996 -0.02308518]] \n",
      " (4, 4)\n",
      "===================================\n",
      "Sigma matrix : \n",
      " [1.58184685 0.45266946 0.11644098] \n",
      " (3,)\n",
      "===================================\n",
      "VT matrix : \n",
      " [[-0.79874402 -0.416448   -0.4342569 ]\n",
      " [ 0.58062198 -0.34427398 -0.73780319]\n",
      " [-0.15775331  0.84145499 -0.51678564]] \n",
      " (3, 3)\n"
     ]
    }
   ],
   "source": [
    "U ,Sigma, VT =np.linalg.svd(A)\n",
    "# Print each matrix \n",
    "print(f'U matrix : \\n {U} \\n {U.shape}')\n",
    "print('===================================')\n",
    "print(f'Sigma matrix : \\n {Sigma} \\n {Sigma.shape}')\n",
    "print('===================================')\n",
    "print(f'VT matrix : \\n {VT} \\n {VT.shape}')"
   ]
  }
 ],
 "metadata": {
  "kernelspec": {
   "display_name": "python_eda",
   "language": "python",
   "name": "python3"
  },
  "language_info": {
   "codemirror_mode": {
    "name": "ipython",
    "version": 3
   },
   "file_extension": ".py",
   "mimetype": "text/x-python",
   "name": "python",
   "nbconvert_exporter": "python",
   "pygments_lexer": "ipython3",
   "version": "3.13.0"
  }
 },
 "nbformat": 4,
 "nbformat_minor": 2
}
