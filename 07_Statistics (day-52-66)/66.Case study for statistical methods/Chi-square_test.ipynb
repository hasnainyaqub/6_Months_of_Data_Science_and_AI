{
 "cells": [
  {
   "cell_type": "code",
   "execution_count": 19,
   "metadata": {},
   "outputs": [],
   "source": [
    "# Import Libraries \n",
    "import pandas as pd\n",
    "import numpy as np\n",
    "import matplotlib.pyplot as plt\n",
    "import seaborn as sns\n",
    "import scipy.stats as stats\n",
    "import  statsmodels.api as sm\n",
    "from statsmodels.multivariate.manova import MANOVA\n",
    "from statsmodels.formula.api import ols\n",
    "\n",
    "import warnings\n",
    "warnings.filterwarnings('ignore')"
   ]
  },
  {
   "cell_type": "markdown",
   "metadata": {},
   "source": [
    "# Chi-Square Test\n",
    "#### Assume the expected distribution is 50% of vegetarian and 50% of non-vegetarian.You want to test if your sample data matches the expected distribution.\n",
    "#### Goodness of Fit Test"
   ]
  },
  {
   "cell_type": "code",
   "execution_count": 18,
   "metadata": {},
   "outputs": [
    {
     "name": "stdout",
     "output_type": "stream",
     "text": [
      "Chi-square statistic: 12.19047619047619\n",
      "p-value: 0.000480341199981871\n",
      "Reject the null hypothesis that the two distributions are the same.\n"
     ]
    }
   ],
   "source": [
    "import numpy as np\n",
    "from scipy.stats import chisquare\n",
    "\n",
    "#  hypothetical observed frequencies\n",
    "observed_frequencies = np.array([26,58]) # e.g 58 peoples are vegetarian and 180 are non-vegetarian\n",
    "\n",
    "# expected frequencies\n",
    "total = observed_frequencies.sum()\n",
    "expected_frequencies = np.array([total*0.5, total*0.5]) # e.g 25% are vegetarian and 75% are non-vegetarian\n",
    "\n",
    "# perform chi-square test\n",
    "chi2, p = chisquare(f_obs=observed_frequencies, f_exp=expected_frequencies)\n",
    "\n",
    "print('Chi-square statistic:', chi2)\n",
    "print('p-value:', p)\n",
    "\n",
    "# print the result with if else\n",
    "if p < 0.05:\n",
    "    print('Reject the null hypothesis that the two distributions are the same.')\n",
    "else:\n",
    "    print('Fail to reject the null hypothesis that the two distributions are the same.')\n"
   ]
  },
  {
   "cell_type": "code",
   "execution_count": 29,
   "metadata": {},
   "outputs": [
    {
     "data": {
      "text/html": [
       "<div>\n",
       "<style scoped>\n",
       "    .dataframe tbody tr th:only-of-type {\n",
       "        vertical-align: middle;\n",
       "    }\n",
       "\n",
       "    .dataframe tbody tr th {\n",
       "        vertical-align: top;\n",
       "    }\n",
       "\n",
       "    .dataframe thead th {\n",
       "        text-align: right;\n",
       "    }\n",
       "</style>\n",
       "<table border=\"1\" class=\"dataframe\">\n",
       "  <thead>\n",
       "    <tr style=\"text-align: right;\">\n",
       "      <th></th>\n",
       "      <th>total_bill</th>\n",
       "      <th>tip</th>\n",
       "      <th>sex</th>\n",
       "      <th>smoker</th>\n",
       "      <th>day</th>\n",
       "      <th>time</th>\n",
       "      <th>size</th>\n",
       "    </tr>\n",
       "  </thead>\n",
       "  <tbody>\n",
       "    <tr>\n",
       "      <th>0</th>\n",
       "      <td>16.99</td>\n",
       "      <td>1.01</td>\n",
       "      <td>Female</td>\n",
       "      <td>No</td>\n",
       "      <td>Sun</td>\n",
       "      <td>Dinner</td>\n",
       "      <td>2</td>\n",
       "    </tr>\n",
       "    <tr>\n",
       "      <th>1</th>\n",
       "      <td>10.34</td>\n",
       "      <td>1.66</td>\n",
       "      <td>Male</td>\n",
       "      <td>No</td>\n",
       "      <td>Sun</td>\n",
       "      <td>Dinner</td>\n",
       "      <td>3</td>\n",
       "    </tr>\n",
       "    <tr>\n",
       "      <th>2</th>\n",
       "      <td>21.01</td>\n",
       "      <td>3.50</td>\n",
       "      <td>Male</td>\n",
       "      <td>No</td>\n",
       "      <td>Sun</td>\n",
       "      <td>Dinner</td>\n",
       "      <td>3</td>\n",
       "    </tr>\n",
       "    <tr>\n",
       "      <th>3</th>\n",
       "      <td>23.68</td>\n",
       "      <td>3.31</td>\n",
       "      <td>Male</td>\n",
       "      <td>No</td>\n",
       "      <td>Sun</td>\n",
       "      <td>Dinner</td>\n",
       "      <td>2</td>\n",
       "    </tr>\n",
       "    <tr>\n",
       "      <th>4</th>\n",
       "      <td>24.59</td>\n",
       "      <td>3.61</td>\n",
       "      <td>Female</td>\n",
       "      <td>No</td>\n",
       "      <td>Sun</td>\n",
       "      <td>Dinner</td>\n",
       "      <td>4</td>\n",
       "    </tr>\n",
       "  </tbody>\n",
       "</table>\n",
       "</div>"
      ],
      "text/plain": [
       "   total_bill   tip     sex smoker  day    time  size\n",
       "0       16.99  1.01  Female     No  Sun  Dinner     2\n",
       "1       10.34  1.66    Male     No  Sun  Dinner     3\n",
       "2       21.01  3.50    Male     No  Sun  Dinner     3\n",
       "3       23.68  3.31    Male     No  Sun  Dinner     2\n",
       "4       24.59  3.61  Female     No  Sun  Dinner     4"
      ]
     },
     "execution_count": 29,
     "metadata": {},
     "output_type": "execute_result"
    }
   ],
   "source": [
    "from scipy.stats import chi2_contingency\n",
    "\n",
    "# load the data\n",
    "df = sns.load_dataset('tips')\n",
    "df.head()"
   ]
  },
  {
   "cell_type": "code",
   "execution_count": 44,
   "metadata": {},
   "outputs": [
    {
     "name": "stdout",
     "output_type": "stream",
     "text": [
      "==========================\n",
      "sex\n",
      "Male      157\n",
      "Female     87\n",
      "Name: count, dtype: int64\n",
      "==========================\n",
      "Print them Seperatly\n",
      "==========================\n",
      "Male count: 157\n",
      "Female count: 87\n",
      "==========================\n"
     ]
    }
   ],
   "source": [
    "# first check how many males and females are in the 'sex' column \n",
    "sex_counts = df['sex'].value_counts()\n",
    "print('==========================')\n",
    "print(sex_counts)\n",
    "print('==========================')\n",
    "print('Print them Seperatly')\n",
    "print('==========================')\n",
    "male_count = sex_counts['Male']\n",
    "female_count = sex_counts['Female']\n",
    "print(f'Male count: {male_count}')\n",
    "print(f'Female count: {female_count}')\n",
    "print('==========================')"
   ]
  },
  {
   "cell_type": "code",
   "execution_count": 56,
   "metadata": {},
   "outputs": [
    {
     "name": "stdout",
     "output_type": "stream",
     "text": [
      "Contingency table:\n",
      "time    Lunch  Dinner\n",
      "sex                  \n",
      "Male       33     124\n",
      "Female     35      52\n"
     ]
    }
   ],
   "source": [
    "# create a contingency table\n",
    "contingency_table = pd.crosstab(df['sex'], df['time'])\n",
    " # print this in f-string\n",
    "print(f'Contingency table:\\n{contingency_table}')"
   ]
  },
  {
   "cell_type": "code",
   "execution_count": 57,
   "metadata": {},
   "outputs": [
    {
     "name": "stdout",
     "output_type": "stream",
     "text": [
      "Chi-square statistic: 9.343808982970623\n",
      "p-value: 0.002237400118075248\n",
      "Degrees of freedom: 1\n",
      "Expected frequencies table:\n",
      " [[ 43.75409836 113.24590164]\n",
      " [ 24.24590164  62.75409836]]\n",
      "Reject the null hypothesis , there is a significant difference between the groups.\n"
     ]
    }
   ],
   "source": [
    "# perform chi-square test\n",
    "chi2, p, dof, expected = chi2_contingency(contingency_table)\n",
    "\n",
    "print('Chi-square statistic:', chi2)\n",
    "print('p-value:', p)\n",
    "print('Degrees of freedom:', dof)\n",
    "print('Expected frequencies table:\\n', expected)\n",
    "\n",
    "# print the result based on if else conditions\n",
    "if p < 0.05:\n",
    "    print('Reject the null hypothesis , there is a significant difference between the groups.')\n",
    "else:\n",
    "    print('Fail to reject the null hypothesis, there is no significant difference between the groups.')\n",
    "    \n"
   ]
  }
 ],
 "metadata": {
  "kernelspec": {
   "display_name": "python_eda",
   "language": "python",
   "name": "python3"
  },
  "language_info": {
   "codemirror_mode": {
    "name": "ipython",
    "version": 3
   },
   "file_extension": ".py",
   "mimetype": "text/x-python",
   "name": "python",
   "nbconvert_exporter": "python",
   "pygments_lexer": "ipython3",
   "version": "3.12.8"
  }
 },
 "nbformat": 4,
 "nbformat_minor": 2
}
