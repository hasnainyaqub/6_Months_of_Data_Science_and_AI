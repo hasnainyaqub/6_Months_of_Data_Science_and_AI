{
 "cells": [
  {
   "cell_type": "markdown",
   "metadata": {},
   "source": [
    "## Hyperparameter Tuning  \n",
    "**Definition:** The process of optimizing the hyperparameters of a machine learning model to improve its performance.  \n",
    "\n",
    "### Types of Hyperparameter Tuning:  \n",
    "1. **Grid Search:** Exhaustively searches predefined hyperparameter values.  \n",
    "2. **Random Search:** Randomly selects hyperparameter combinations.  \n",
    "3. **Bayesian Optimization:** Uses probability models to find the best parameters.  \n",
    "4. **Gradient-Based Optimization:** Adjusts hyperparameters using gradient methods.  \n",
    "5. **Evolutionary Algorithms:** Uses genetic algorithms to optimize hyperparameters.  \n",
    "\n",
    "---\n",
    "\n",
    "## Cross-Validation  \n",
    "**Definition:** A technique used to evaluate a machine learning model's performance by splitting the dataset into multiple subsets for training and testing.  \n",
    "\n",
    "### Types of Cross-Validation:  \n",
    "1. **K-Fold Cross-Validation:** Divides data into *k* subsets and iteratively trains on *k-1* while testing on the remaining fold.  \n",
    "2. **Stratified K-Fold:** Ensures each fold has a proportional class distribution, useful for imbalanced datasets.  \n",
    "3. **Leave-One-Out Cross-Validation (LOO-CV):** Uses a single data point for testing and the rest for training, repeated for all points.  \n",
    "4. **Time Series Cross-Validation:** Uses rolling or expanding windows for sequential data.  \n",
    "5. **Holdout Method:** Splits the dataset into separate training and testing sets without multiple iterations.  \n"
   ]
  },
  {
   "cell_type": "markdown",
   "metadata": {},
   "source": [
    "## Hyperparameter Tuning  "
   ]
  },
  {
   "cell_type": "code",
   "execution_count": 1,
   "metadata": {},
   "outputs": [],
   "source": [
    "# import libraries \n",
    "import pandas as pd\n",
    "import numpy as np \n",
    "import matplotlib.pyplot as plt\n",
    "import seaborn as sns\n",
    "\n",
    "from sklearn.ensemble import RandomForestClassifier\n",
    "from sklearn.model_selection import train_test_split , GridSearchCV , RandomizedSearchCV\n",
    "from sklearn.metrics import confusion_matrix , classification_report"
   ]
  },
  {
   "cell_type": "code",
   "execution_count": 2,
   "metadata": {},
   "outputs": [],
   "source": [
    "# load the data of iris from sklearn.datasets\n",
    "from sklearn.datasets import load_iris\n",
    "\n",
    "iris = load_iris()\n",
    "X = iris.data\n",
    "y = iris.target"
   ]
  },
  {
   "cell_type": "code",
   "execution_count": 5,
   "metadata": {},
   "outputs": [
    {
     "name": "stdout",
     "output_type": "stream",
     "text": [
      "Fitting 5 folds for each of 168 candidates, totalling 840 fits\n",
      "Best parameters: {'bootstrap': True, 'criterion': 'gini', 'max_depth': 4, 'n_estimators': 50}\n"
     ]
    }
   ],
   "source": [
    "# define the model \n",
    "model = RandomForestClassifier()\n",
    "\n",
    "# Create the parameter grid\n",
    "param_grid = {\n",
    "    'n_estimators': [50, 100, 200, 300, 400, 500],\n",
    "    'max_depth' : [4,5,6,7,8,9,10] ,\n",
    "    'criterion' :['gini' , 'entropy'],\n",
    "    'bootstrap' : [True , False]\n",
    "}\n",
    "\n",
    "# set up the grid search\n",
    "grid_search = GridSearchCV(model,\n",
    "                            param_grid,\n",
    "                            cv=5,\n",
    "                            scoring='accuracy',\n",
    "                            verbose=1,\n",
    "                            n_jobs=-1\n",
    "                        )\n",
    "grid_search.fit(X, y)\n",
    "\n",
    "# print the best parameters in f string\n",
    "print(f\"Best parameters: {grid_search.best_params_}\")"
   ]
  },
  {
   "cell_type": "code",
   "execution_count": 8,
   "metadata": {},
   "outputs": [
    {
     "name": "stdout",
     "output_type": "stream",
     "text": [
      "[[50  0  0]\n",
      " [ 0 50  0]\n",
      " [ 0  0 50]]\n",
      "              precision    recall  f1-score   support\n",
      "\n",
      "           0       1.00      1.00      1.00        50\n",
      "           1       1.00      1.00      1.00        50\n",
      "           2       1.00      1.00      1.00        50\n",
      "\n",
      "    accuracy                           1.00       150\n",
      "   macro avg       1.00      1.00      1.00       150\n",
      "weighted avg       1.00      1.00      1.00       150\n",
      "\n"
     ]
    }
   ],
   "source": [
    "# lets create model\n",
    "model = RandomForestClassifier(**grid_search.best_params_)\n",
    "model.fit(X, y)\n",
    "\n",
    "# predict the model\n",
    "y_pred = model.predict(X)\n",
    "\n",
    "# evaluate the model\n",
    "print(confusion_matrix(y, y_pred))\n",
    "print(classification_report(y, y_pred))"
   ]
  },
  {
   "cell_type": "code",
   "execution_count": 10,
   "metadata": {},
   "outputs": [
    {
     "name": "stdout",
     "output_type": "stream",
     "text": [
      "Fitting 5 folds for each of 10 candidates, totalling 50 fits\n",
      "Best parameters: {'n_estimators': 200, 'max_depth': 4, 'criterion': 'entropy', 'bootstrap': True}\n"
     ]
    }
   ],
   "source": [
    "# define the model \n",
    "model = RandomForestClassifier()\n",
    "\n",
    "# Create the parameter grid\n",
    "param_grid = {\n",
    "    'n_estimators': [50, 100, 200, 300, 400, 500],\n",
    "    'max_depth' : [4,5,6,7,8,9,10] ,\n",
    "    'criterion' :['gini' , 'entropy'],\n",
    "    'bootstrap' : [True , False]\n",
    "}\n",
    "\n",
    "# set up the grid search\n",
    "grid_search = RandomizedSearchCV(model,\n",
    "                            param_grid,\n",
    "                            cv=5,\n",
    "                            scoring='accuracy',\n",
    "                            verbose=1,\n",
    "                            n_jobs=-1\n",
    "                        )\n",
    "grid_search.fit(X, y)\n",
    "\n",
    "# print the best parameters in f string\n",
    "print(f\"Best parameters: {grid_search.best_params_}\")"
   ]
  },
  {
   "cell_type": "code",
   "execution_count": 14,
   "metadata": {},
   "outputs": [
    {
     "name": "stdout",
     "output_type": "stream",
     "text": [
      "[[50  0  0]\n",
      " [ 0 48  2]\n",
      " [ 0  0 50]]\n",
      "              precision    recall  f1-score   support\n",
      "\n",
      "           0       1.00      1.00      1.00        50\n",
      "           1       1.00      0.96      0.98        50\n",
      "           2       0.96      1.00      0.98        50\n",
      "\n",
      "    accuracy                           0.99       150\n",
      "   macro avg       0.99      0.99      0.99       150\n",
      "weighted avg       0.99      0.99      0.99       150\n",
      "\n"
     ]
    }
   ],
   "source": [
    "# lets create model\n",
    "model = RandomForestClassifier(**grid_search.best_params_)\n",
    "model.fit(X, y)\n",
    "\n",
    "# predict the model\n",
    "y_pred = model.predict(X)\n",
    "\n",
    "# evaluate the model\n",
    "print(confusion_matrix(y, y_pred))\n",
    "print(classification_report(y, y_pred))"
   ]
  },
  {
   "cell_type": "markdown",
   "metadata": {},
   "source": [
    "# Cross-Validation  \n",
    "\n",
    "## Definition  \n",
    "Cross-validation is a technique used to evaluate the performance of a machine learning model by splitting the dataset into multiple subsets for training and testing. It helps assess how well the model generalizes to unseen data and reduces overfitting.  \n",
    "\n",
    "## Why Use Cross-Validation?  \n",
    "- Ensures the model performs well on different subsets of data.  \n",
    "- Helps detect overfitting or underfitting.  \n",
    "- Provides a more reliable estimate of model performance compared to a single train-test split.  \n",
    "\n",
    "## Types of Cross-Validation  \n",
    "\n",
    "### 1. **K-Fold Cross-Validation**  \n",
    "- Divides the data into *k* equal parts (folds).  \n",
    "- Trains the model *k* times, using *k-1* folds for training and the remaining fold for testing in each iteration.  \n",
    "- The final performance is the average of all iterations.  \n",
    "\n",
    "### 2. **Stratified K-Fold Cross-Validation**  \n",
    "- Similar to K-Fold but ensures each fold has a proportional representation of class labels.  \n",
    "- Useful for imbalanced datasets.  \n",
    "\n",
    "### 3. **Leave-One-Out Cross-Validation (LOO-CV)**  \n",
    "- Each data point is used as a test set once, while the rest are used for training.  \n",
    "- Computationally expensive but gives a precise evaluation.  \n",
    "\n",
    "### 4. **Time Series Cross-Validation**  \n",
    "- Used for sequential data where the order matters.  \n",
    "- Training is done on past data, and testing is performed on future data using rolling or expanding windows.  \n",
    "\n",
    "### 5. **Holdout Method**  \n",
    "- The dataset is split into a training set and a testing set.  \n",
    "- No multiple iterations, making it computationally efficient but less reliable for small datasets.  \n"
   ]
  },
  {
   "cell_type": "code",
   "execution_count": 1,
   "metadata": {},
   "outputs": [
    {
     "name": "stdout",
     "output_type": "stream",
     "text": [
      "Cross-validation scores: [0.93333333 0.96666667 0.93333333 0.93333333 1.        ]\n",
      "Mean cross-validation score: 0.9533333333333334\n",
      "Standard Deviation : 0.02666666666666666\n"
     ]
    }
   ],
   "source": [
    "# cross validation\n",
    "from sklearn.model_selection import cross_val_score\n",
    "from sklearn.naive_bayes import GaussianNB\n",
    "\n",
    "# load the Iris data set\n",
    "from sklearn.datasets import load_iris\n",
    "iris = load_iris()  \n",
    "\n",
    "# define the model\n",
    "nb = GaussianNB()\n",
    "\n",
    "# perform k-fold cross validation with k=5\n",
    "scores = cross_val_score(nb, iris.data, iris.target, cv=5 , scoring='accuracy')\n",
    "\n",
    "\n",
    "# print the scores for each fold and the mean score\n",
    "print(\"Cross-validation scores:\", scores)\n",
    "print(\"Mean cross-validation score:\", scores.mean())\n",
    "print(f'Standard Deviation : {scores.std()}')"
   ]
  }
 ],
 "metadata": {
  "kernelspec": {
   "display_name": "python_ml",
   "language": "python",
   "name": "python3"
  },
  "language_info": {
   "codemirror_mode": {
    "name": "ipython",
    "version": 3
   },
   "file_extension": ".py",
   "mimetype": "text/x-python",
   "name": "python",
   "nbconvert_exporter": "python",
   "pygments_lexer": "ipython3",
   "version": "3.12.9"
  }
 },
 "nbformat": 4,
 "nbformat_minor": 2
}
