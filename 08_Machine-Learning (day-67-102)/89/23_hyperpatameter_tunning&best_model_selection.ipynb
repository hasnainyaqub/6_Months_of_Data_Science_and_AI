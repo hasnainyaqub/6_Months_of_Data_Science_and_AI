{
 "cells": [
  {
   "cell_type": "markdown",
   "metadata": {},
   "source": [
    "# Selecting the best model with best hyperparameters.\n"
   ]
  },
  {
   "cell_type": "markdown",
   "metadata": {},
   "source": [
    "# Regressors"
   ]
  },
  {
   "cell_type": "code",
   "execution_count": 2,
   "metadata": {},
   "outputs": [],
   "source": [
    "# import labraries\n",
    "import pandas as pd\n",
    "import numpy as np\n",
    "import matplotlib.pyplot as plt\n",
    "import seaborn as sns\n",
    "# import train_test_split\n",
    "from sklearn.model_selection import train_test_split\n",
    "# import regression algorithms\n",
    "from sklearn.linear_model import LinearRegression\n",
    "from sklearn.tree import DecisionTreeRegressor\n",
    "from sklearn.ensemble import RandomForestRegressor\n",
    "from sklearn.svm import SVR\n",
    "from sklearn.neighbors import KNeighborsRegressor\n",
    "from xgboost import XGBRegressor\n",
    "from sklearn.ensemble import GradientBoostingRegressor\n",
    "from sklearn.metrics import mean_squared_error , r2_score , mean_absolute_error\n",
    "# import gridsearchcv\n",
    "from sklearn.model_selection import GridSearchCV\n",
    "# import preprocessors \n",
    "from sklearn.preprocessing import StandardScaler , MinMaxScaler , LabelEncoder\n",
    "from sklearn.compose import ColumnTransformer\n",
    "from sklearn.pipeline import Pipeline"
   ]
  },
  {
   "cell_type": "code",
   "execution_count": 3,
   "metadata": {},
   "outputs": [
    {
     "data": {
      "text/html": [
       "<div>\n",
       "<style scoped>\n",
       "    .dataframe tbody tr th:only-of-type {\n",
       "        vertical-align: middle;\n",
       "    }\n",
       "\n",
       "    .dataframe tbody tr th {\n",
       "        vertical-align: top;\n",
       "    }\n",
       "\n",
       "    .dataframe thead th {\n",
       "        text-align: right;\n",
       "    }\n",
       "</style>\n",
       "<table border=\"1\" class=\"dataframe\">\n",
       "  <thead>\n",
       "    <tr style=\"text-align: right;\">\n",
       "      <th></th>\n",
       "      <th>total_bill</th>\n",
       "      <th>tip</th>\n",
       "      <th>sex</th>\n",
       "      <th>smoker</th>\n",
       "      <th>day</th>\n",
       "      <th>time</th>\n",
       "      <th>size</th>\n",
       "    </tr>\n",
       "  </thead>\n",
       "  <tbody>\n",
       "    <tr>\n",
       "      <th>0</th>\n",
       "      <td>16.99</td>\n",
       "      <td>1.01</td>\n",
       "      <td>Female</td>\n",
       "      <td>No</td>\n",
       "      <td>Sun</td>\n",
       "      <td>Dinner</td>\n",
       "      <td>2</td>\n",
       "    </tr>\n",
       "    <tr>\n",
       "      <th>1</th>\n",
       "      <td>10.34</td>\n",
       "      <td>1.66</td>\n",
       "      <td>Male</td>\n",
       "      <td>No</td>\n",
       "      <td>Sun</td>\n",
       "      <td>Dinner</td>\n",
       "      <td>3</td>\n",
       "    </tr>\n",
       "    <tr>\n",
       "      <th>2</th>\n",
       "      <td>21.01</td>\n",
       "      <td>3.50</td>\n",
       "      <td>Male</td>\n",
       "      <td>No</td>\n",
       "      <td>Sun</td>\n",
       "      <td>Dinner</td>\n",
       "      <td>3</td>\n",
       "    </tr>\n",
       "    <tr>\n",
       "      <th>3</th>\n",
       "      <td>23.68</td>\n",
       "      <td>3.31</td>\n",
       "      <td>Male</td>\n",
       "      <td>No</td>\n",
       "      <td>Sun</td>\n",
       "      <td>Dinner</td>\n",
       "      <td>2</td>\n",
       "    </tr>\n",
       "    <tr>\n",
       "      <th>4</th>\n",
       "      <td>24.59</td>\n",
       "      <td>3.61</td>\n",
       "      <td>Female</td>\n",
       "      <td>No</td>\n",
       "      <td>Sun</td>\n",
       "      <td>Dinner</td>\n",
       "      <td>4</td>\n",
       "    </tr>\n",
       "  </tbody>\n",
       "</table>\n",
       "</div>"
      ],
      "text/plain": [
       "   total_bill   tip     sex smoker  day    time  size\n",
       "0       16.99  1.01  Female     No  Sun  Dinner     2\n",
       "1       10.34  1.66    Male     No  Sun  Dinner     3\n",
       "2       21.01  3.50    Male     No  Sun  Dinner     3\n",
       "3       23.68  3.31    Male     No  Sun  Dinner     2\n",
       "4       24.59  3.61  Female     No  Sun  Dinner     4"
      ]
     },
     "execution_count": 3,
     "metadata": {},
     "output_type": "execute_result"
    }
   ],
   "source": [
    "# load tips data\n",
    "df = sns.load_dataset('tips')\n",
    "df.head()"
   ]
  },
  {
   "cell_type": "code",
   "execution_count": 4,
   "metadata": {},
   "outputs": [
    {
     "name": "stdout",
     "output_type": "stream",
     "text": [
      "<class 'pandas.core.frame.DataFrame'>\n",
      "RangeIndex: 244 entries, 0 to 243\n",
      "Data columns (total 7 columns):\n",
      " #   Column      Non-Null Count  Dtype   \n",
      "---  ------      --------------  -----   \n",
      " 0   total_bill  244 non-null    float64 \n",
      " 1   tip         244 non-null    float64 \n",
      " 2   sex         244 non-null    category\n",
      " 3   smoker      244 non-null    category\n",
      " 4   day         244 non-null    category\n",
      " 5   time        244 non-null    category\n",
      " 6   size        244 non-null    int64   \n",
      "dtypes: category(4), float64(2), int64(1)\n",
      "memory usage: 7.4 KB\n"
     ]
    }
   ],
   "source": [
    "df.info()"
   ]
  },
  {
   "cell_type": "markdown",
   "metadata": {},
   "source": [
    "# Regression Tasks"
   ]
  },
  {
   "cell_type": "code",
   "execution_count": 5,
   "metadata": {},
   "outputs": [],
   "source": [
    "# select features and target variable\n",
    "X = df.drop('tip' , axis=1)\n",
    "y = df['tip']\n",
    "\n",
    "# label encode the categorical columns\n",
    "le = LabelEncoder()\n",
    "X['sex'] = le.fit_transform(X['sex'])\n",
    "X['smoker'] = le.fit_transform(X['smoker'])\n",
    "X['day'] = le.fit_transform(X['day'])\n",
    "X['time'] = le.fit_transform(X['time'])\n"
   ]
  },
  {
   "cell_type": "code",
   "execution_count": 6,
   "metadata": {},
   "outputs": [
    {
     "name": "stdout",
     "output_type": "stream",
     "text": [
      "Model: Linear Regression\n",
      "Mean Squared Error: 0.75\n",
      "R-squared: 0.47\n",
      "Mean Absolute Error: 0.66\n",
      "--------------------\n",
      "Model: Decision Tree\n",
      "Mean Squared Error: 0.98\n",
      "R-squared: 0.31\n",
      "Mean Absolute Error: 0.76\n",
      "--------------------\n",
      "Model: Random Forest\n",
      "Mean Squared Error: 0.74\n",
      "R-squared: 0.48\n",
      "Mean Absolute Error: 0.63\n",
      "--------------------\n",
      "Model: Support Vector Regression\n",
      "Mean Squared Error: 0.68\n",
      "R-squared: 0.52\n",
      "Mean Absolute Error: 0.62\n",
      "--------------------\n",
      "Model: K-Nearest Neighbors\n",
      "Mean Squared Error: 0.81\n",
      "R-squared: 0.43\n",
      "Mean Absolute Error: 0.68\n",
      "--------------------\n",
      "Model: XGBoost\n",
      "Mean Squared Error: 0.71\n",
      "R-squared: 0.50\n",
      "Mean Absolute Error: 0.60\n",
      "--------------------\n",
      "Model: Gradient Boosting\n",
      "Mean Squared Error: 0.61\n",
      "R-squared: 0.57\n",
      "Mean Absolute Error: 0.55\n",
      "--------------------\n",
      "R2 score Decision Tree is  0.31\n",
      "R2 score K-Nearest Neighbors is  0.43\n",
      "R2 score Linear Regression is  0.47\n",
      "R2 score Random Forest is  0.48\n",
      "R2 score XGBoost is  0.50\n",
      "R2 score Support Vector Regression is  0.52\n",
      "R2 score Gradient Boosting is  0.57\n"
     ]
    }
   ],
   "source": [
    "# split the data into train and test sets\n",
    "X_train , X_test , y_train , y_test = train_test_split(X , y , test_size=0.2 , random_state=102)\n",
    "\n",
    "# Create a dictionary of models to evaluate\n",
    "models = {\n",
    "    'Linear Regression': LinearRegression(),\n",
    "    'Decision Tree': DecisionTreeRegressor(),\n",
    "    'Random Forest': RandomForestRegressor(),\n",
    "    'Support Vector Regression': SVR(),\n",
    "    'K-Nearest Neighbors': KNeighborsRegressor(),\n",
    "    'XGBoost': XGBRegressor(),\n",
    "    'Gradient Boosting': GradientBoostingRegressor()\n",
    "}\n",
    "\n",
    "# train and evaluate each model\n",
    "model_scores = []\n",
    "for name, model in models.items():\n",
    "    model.fit(X_train, y_train)\n",
    "\n",
    "    # make predictions\n",
    "    y_pred = model.predict(X_test)\n",
    "\n",
    "    # calculate evaluation metrics\n",
    "    mse = mean_squared_error(y_test, y_pred)\n",
    "    r2 = r2_score(y_test, y_pred)\n",
    "    mae = mean_absolute_error(y_test, y_pred)\n",
    "    model_scores.append((name, mse, r2, mae))\n",
    "\n",
    "    # print evaluation metrics\n",
    "    print(f\"Model: {name}\")\n",
    "    print(f\"Mean Squared Error: {mse:.2f}\")\n",
    "    print(f\"R-squared: {r2:.2f}\")\n",
    "    print(f\"Mean Absolute Error: {mae:.2f}\")\n",
    "    print(\"--------------------\")\n",
    "\n",
    "# selecting the best model from all above models with evaluation metrics\n",
    "sorted_model = sorted(model_scores, key=lambda x: x[1] , reverse=True)\n",
    "for model in sorted_model:\n",
    "    print('R2 score' , f'{model[0]} is {model[2]: .2f}') "
   ]
  },
  {
   "cell_type": "markdown",
   "metadata": {},
   "source": [
    "## Testing on Diamonds Dataset\n"
   ]
  },
  {
   "cell_type": "code",
   "execution_count": 7,
   "metadata": {},
   "outputs": [],
   "source": [
    "# taking 1000 samples from diamonds dataset\n",
    "df = sns.load_dataset('diamonds').sample(1000, random_state=42)\n",
    "# select features and target variable\n",
    "X = df.drop(['price'], axis=1)\n",
    "y = df['price']\n",
    "\n",
    "# label encode the categorical columns\n",
    "le = LabelEncoder()\n",
    "X['cut'] = le.fit_transform(X['cut'])\n",
    "X['color'] = le.fit_transform(X['color'])\n",
    "X['clarity'] = le.fit_transform(X['clarity'])"
   ]
  },
  {
   "cell_type": "code",
   "execution_count": null,
   "metadata": {},
   "outputs": [
    {
     "name": "stdout",
     "output_type": "stream",
     "text": [
      "Model: Linear Regression\n",
      "Mean Squared Error: 1740556.07\n",
      "R-squared: 0.89\n",
      "--------------------\n",
      "Model: Decision Tree\n",
      "Mean Squared Error: 414426.09\n",
      "R-squared: 0.97\n",
      "--------------------\n",
      "Model: Random Forest\n",
      "Mean Squared Error: 294318.89\n",
      "R-squared: 0.98\n",
      "--------------------\n"
     ]
    }
   ],
   "source": [
    "# split the data into train and test sets\n",
    "X_train , X_test , y_train , y_test = train_test_split(X , y , test_size=0.2 , random_state=102)\n",
    "\n",
    "# Create a dictionary of models to evaluate\n",
    "models = {\n",
    "    'Linear Regression': (LinearRegression() , {}),\n",
    "    'Decision Tree': (DecisionTreeRegressor() , {'max_depth': [None , 10,20]}),\n",
    "    'Random Forest': (RandomForestRegressor() , {'n_estimators': [10,  100]}),\n",
    "    'Support Vector Regression': (SVR() , {'kernel': ['linear', 'rbf'],}),\n",
    "    'K-Nearest Neighbors': (KNeighborsRegressor() , {'n_neighbors': np.arange(3,100,2)}),\n",
    "    'XGBoost': (XGBRegressor() , {'n_estimators': [10,  100]})\n",
    "    ,'Gradient Boosting': (GradientBoostingRegressor() , {'n_estimators': [10,  100]})\n",
    "}\n",
    "\n",
    "best_model_name = None  \n",
    "best_model_score = float('inf')\n",
    "best_model_params = {}\n",
    "\n",
    "# train and evaluate each model\n",
    "for name,(model , params) in models.items():\n",
    "    # create a pipeline\n",
    "    Pipeline = GridSearchCV(model , params , cv=5)\n",
    "    Pipeline.fit(X_train , y_train)\n",
    "    y_pred = Pipeline.predict(X_test)\n",
    "\n",
    "    # calculate evaluation metrics\n",
    "    mse = mean_squared_error(y_test , y_pred)\n",
    "    r2 = r2_score(y_test , y_pred)\n",
    "    print(f\"Model: {name}\")\n",
    "    print(f\"Mean Squared Error: {mse:.2f}\")\n",
    "    print(f\"R-squared: {r2:.2f}\")\n",
    "    print(\"--------------------\")\n",
    "    \n",
    "# Check for the best model\n",
    "    if mse < best_model_score:\n",
    "        best_model_score = mse\n",
    "        best_model_name = name\n",
    "        best_model_params = Pipeline.best_params_\n",
    "\n",
    "# Print the best model and parameters\n",
    "print(f\"Best Model: {best_model_name}\")\n",
    "print(f\"Best Mean Squared Error: {best_model_score:.2f}\")\n",
    "print(f\"Best Parameters: {best_model_params}\")"
   ]
  },
  {
   "cell_type": "markdown",
   "metadata": {},
   "source": [
    "# Classifiers"
   ]
  },
  {
   "cell_type": "code",
   "execution_count": 1,
   "metadata": {},
   "outputs": [
    {
     "name": "stdout",
     "output_type": "stream",
     "text": [
      "Classifier: Logistic Regression\n",
      "Mean Accuracy: 0.9733333333333334\n",
      "\n",
      "Classifier: Decision Tree\n",
      "Mean Accuracy: 0.9533333333333335\n",
      "\n",
      "Classifier: Random Forest\n",
      "Mean Accuracy: 0.9600000000000002\n",
      "\n",
      "Classifier: SVM\n",
      "Mean Accuracy: 0.9666666666666668\n",
      "\n",
      "Classifier: KNN\n",
      "Mean Accuracy: 0.9733333333333334\n",
      "\n"
     ]
    }
   ],
   "source": [
    "import numpy as np\n",
    "from sklearn.datasets import load_iris\n",
    "from sklearn.model_selection import cross_val_score, KFold\n",
    "from sklearn.linear_model import LogisticRegression\n",
    "from sklearn.tree import DecisionTreeClassifier\n",
    "from sklearn.ensemble import RandomForestClassifier\n",
    "from sklearn.svm import SVC\n",
    "from sklearn.neighbors import KNeighborsClassifier\n",
    "\n",
    "# dont show warnings\n",
    "import warnings\n",
    "warnings.filterwarnings('ignore')\n",
    "\n",
    "# Load the Iris dataset\n",
    "iris = load_iris()\n",
    "X = iris.data\n",
    "y = iris.target\n",
    "\n",
    "# Create a dictionary of classifiers to evaluate\n",
    "classifiers = {\n",
    "    'Logistic Regression': LogisticRegression(),\n",
    "    'Decision Tree': DecisionTreeClassifier(),\n",
    "    'Random Forest': RandomForestClassifier(),\n",
    "    'SVM': SVC(),\n",
    "    'KNN': KNeighborsClassifier()\n",
    "}\n",
    "\n",
    "# Perform k-fold cross-validation and calculate the mean accuracy\n",
    "kfold = KFold(n_splits=5, shuffle=True, random_state=42)\n",
    "\n",
    "for name, classifier in classifiers.items():\n",
    "    scores = cross_val_score(classifier, X, y, cv=kfold)\n",
    "    accuracy = np.mean(scores)\n",
    "    print(\"Classifier:\", name)\n",
    "    print(\"Mean Accuracy:\", accuracy)\n",
    "    print()"
   ]
  }
 ],
 "metadata": {
  "kernelspec": {
   "display_name": "python_ml",
   "language": "python",
   "name": "python3"
  },
  "language_info": {
   "codemirror_mode": {
    "name": "ipython",
    "version": 3
   },
   "file_extension": ".py",
   "mimetype": "text/x-python",
   "name": "python",
   "nbconvert_exporter": "python",
   "pygments_lexer": "ipython3",
   "version": "3.12.9"
  }
 },
 "nbformat": 4,
 "nbformat_minor": 2
}
