{
 "cells": [
  {
   "cell_type": "markdown",
   "metadata": {},
   "source": [
    "# Lasso Regression\n",
    "Lasso Regression, also known as Least Absolute Shrinkage and Selection Operator, is a type of linear regression that uses shrinkage. Shrinkage is where data values are shrunk towards a central point, like the mean. The lasso procedure encourages simple, sparse models (i.e., models with fewer parameters). This is achieved by penalizing the absolute size of the regression coefficients.\n",
    "\n",
    "The objective function for Lasso Regression is:\n",
    "\n",
    "$$\n",
    "\\text{min} \\left( \\sum_{i=1}^{n} (y_i - \\sum_{j=1}^{p} x_{ij} \\beta_j)^2 + \\lambda \\sum_{j=1}^{p} |\\beta_j| \\right)\n",
    "$$\n",
    "\n",
    "Where:\n",
    "- $ y_i $ is the dependent variable.\n",
    "- $ x_{ij} $ represents the independent variables.\n",
    "- $ \\beta_j $ are the coefficients.\n",
    "- $ \\lambda $ is the penalty parameter.\n",
    "\n",
    "The Lasso Regression can be particularly useful when you have a large number of features, and you want to select a subset of them for your model."
   ]
  },
  {
   "cell_type": "code",
   "execution_count": 69,
   "metadata": {},
   "outputs": [
    {
     "name": "stdout",
     "output_type": "stream",
     "text": [
      "Mean Squared Error: 0.18317905556291122\n",
      "Mean Squared Error Ridge: 0.09287671961133424\n"
     ]
    }
   ],
   "source": [
    "# import libraries\n",
    "from sklearn.linear_model import Lasso , Ridge\n",
    "from sklearn.model_selection import train_test_split\n",
    "from sklearn.datasets import make_regression\n",
    "from sklearn.metrics import mean_squared_error\n",
    "\n",
    "# Generate some regression data\n",
    "X, y = make_regression(n_samples=10000, n_features=20, noise=0.3, random_state=42)\n",
    "# Split the data into training and testing sets\n",
    "X_train, X_test, y_train, y_test = train_test_split(X, y, test_size=0.2, random_state=42)\n",
    "# Create a Lasso regression model\n",
    "lasso = Lasso(alpha=0.1) # Regularization parameter\n",
    "Ridge = Ridge(alpha=0.1) # Regularization parameter\n",
    "# Fit the model to the training data\n",
    "lasso.fit(X_train, y_train)\n",
    "Ridge.fit(X_train, y_train)\n",
    "# Make predictions on the test data\n",
    "y_pred_lasso = lasso.predict(X_test)\n",
    "y_pred_ridge = Ridge.predict(X_test)\n",
    "# Calculate the mean squared error of the predictions\n",
    "mse = mean_squared_error(y_test, y_pred_lasso)\n",
    "mse_ridge = mean_squared_error(y_test, y_pred_ridge)\n",
    "# Print the mean squared error\n",
    "print(f'Mean Squared Error: {mse}')\n",
    "print(f'Mean Squared Error Ridge: {mse_ridge}')"
   ]
  },
  {
   "cell_type": "code",
   "execution_count": 72,
   "metadata": {},
   "outputs": [
    {
     "name": "stdout",
     "output_type": "stream",
     "text": [
      "Tuned Lasso Regression Parameters: {'alpha': 0.1}\n",
      "Best score is 0.9999952605177066\n",
      "Tuned Ridge Regression Parameters: {'alpha': 0.1}\n",
      "Best score is 0.9999977194624126\n"
     ]
    }
   ],
   "source": [
    "# Fine tune alpha value using cv\n",
    "from sklearn.model_selection import GridSearchCV\n",
    "from sklearn.linear_model import Ridge\n",
    "import numpy as np\n",
    "\n",
    "# Create a Lasso regression object\n",
    "lasso = Lasso()\n",
    "\n",
    "# Create a dictionary for the grid search key and values\n",
    "param_grid = {'alpha': np.arange(0.1, 10, 0.1)}\n",
    "\n",
    "# Use grid search to find the best value for alpha\n",
    "lasso_cv = GridSearchCV(lasso, param_grid, cv=10)\n",
    "\n",
    "# Fit the model\n",
    "lasso_cv.fit(X, y)\n",
    "\n",
    "# Print the tuned parameters and score\n",
    "print(\"Tuned Lasso Regression Parameters: {}\".format(lasso_cv.best_params_))\n",
    "print(\"Best score is {}\".format(lasso_cv.best_score_))\n",
    "\n",
    "# Create a Ridge regression object\n",
    "ridge = Ridge()\n",
    "\n",
    "# Create a dictionary for the grid search key and values\n",
    "param_grid = {'alpha': np.arange(0.1, 10, 0.1)}\n",
    "\n",
    "# Use grid search to find the best value for alpha\n",
    "ridge_cv = GridSearchCV(ridge, param_grid, cv=10)\n",
    "\n",
    "# Fit the model\n",
    "ridge_cv.fit(X, y)\n",
    "\n",
    "# Print the tuned parameters and score\n",
    "print(\"Tuned Ridge Regression Parameters: {}\".format(ridge_cv.best_params_))\n",
    "print(\"Best score is {}\".format(ridge_cv.best_score_))"
   ]
  }
 ],
 "metadata": {
  "kernelspec": {
   "display_name": "python_ml",
   "language": "python",
   "name": "python3"
  },
  "language_info": {
   "codemirror_mode": {
    "name": "ipython",
    "version": 3
   },
   "file_extension": ".py",
   "mimetype": "text/x-python",
   "name": "python",
   "nbconvert_exporter": "python",
   "pygments_lexer": "ipython3",
   "version": "3.12.9"
  }
 },
 "nbformat": 4,
 "nbformat_minor": 2
}
