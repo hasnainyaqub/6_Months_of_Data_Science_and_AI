{
  "cells": [
    {
      "cell_type": "code",
      "execution_count": 2,
      "metadata": {
        "id": "Y4LQbVOtDXk8"
      },
      "outputs": [],
      "source": [
        "# import libraries\n",
        "import tensorflow as tf\n",
        "from tensorflow.keras import layers, models, datasets\n",
        "from tensorflow.keras.callbacks import EarlyStopping"
      ]
    },
    {
      "cell_type": "code",
      "execution_count": 4,
      "metadata": {
        "id": "MChHO0xxDkJH"
      },
      "outputs": [
        {
          "name": "stderr",
          "output_type": "stream",
          "text": [
            "2025-04-23 11:01:44.916850: I tensorflow/core/common_runtime/executor.cc:1197] [/device:CPU:0] (DEBUG INFO) Executor start aborting (this does not indicate an error and you can ignore this message): INVALID_ARGUMENT: You must feed a value for placeholder tensor 'gradients/split_2_grad/concat/split_2/split_dim' with dtype int32\n",
            "\t [[{{node gradients/split_2_grad/concat/split_2/split_dim}}]]\n",
            "2025-04-23 11:01:44.918397: I tensorflow/core/common_runtime/executor.cc:1197] [/device:CPU:0] (DEBUG INFO) Executor start aborting (this does not indicate an error and you can ignore this message): INVALID_ARGUMENT: You must feed a value for placeholder tensor 'gradients/split_grad/concat/split/split_dim' with dtype int32\n",
            "\t [[{{node gradients/split_grad/concat/split/split_dim}}]]\n",
            "2025-04-23 11:01:44.919536: I tensorflow/core/common_runtime/executor.cc:1197] [/device:CPU:0] (DEBUG INFO) Executor start aborting (this does not indicate an error and you can ignore this message): INVALID_ARGUMENT: You must feed a value for placeholder tensor 'gradients/split_1_grad/concat/split_1/split_dim' with dtype int32\n",
            "\t [[{{node gradients/split_1_grad/concat/split_1/split_dim}}]]\n"
          ]
        }
      ],
      "source": [
        "# load the IMDB dataset\n",
        "(train_data, train_labels), (test_data, test_labels) = datasets.imdb.load_data(num_words=10000)\n",
        "\n",
        "# Preprocess the data\n",
        "train_data = tf.keras.preprocessing.sequence.pad_sequences(train_data, maxlen=250+250)\n",
        "test_data = tf.keras.preprocessing.sequence.pad_sequences(test_data, maxlen=250+250)\n",
        "\n",
        "# Define the model\n",
        "model = models.Sequential()\n",
        "model.add(layers.Embedding(10000, 32))\n",
        "model.add(layers.LSTM(32))\n",
        "model.add(layers.Dense(1, activation='sigmoid'))\n",
        "\n",
        "# Compile the model\n",
        "model.compile(optimizer='rmsprop', loss='binary_crossentropy', metrics=['acc'])"
      ]
    },
    {
      "cell_type": "code",
      "execution_count": null,
      "metadata": {
        "colab": {
          "base_uri": "https://localhost:8080/"
        },
        "id": "kvLVP8o4EZno",
        "outputId": "8c1c10b4-3b75-43c7-c2b7-7c68000103df"
      },
      "outputs": [
        {
          "name": "stdout",
          "output_type": "stream",
          "text": [
            "Epoch 1/70\n",
            "\u001b[1m157/157\u001b[0m \u001b[32m━━━━━━━━━━━━━━━━━━━━\u001b[0m\u001b[37m\u001b[0m \u001b[1m4s\u001b[0m 23ms/step - acc: 0.9013 - loss: 0.2573 - val_acc: 0.7200 - val_loss: 0.7515\n",
            "Epoch 2/70\n",
            "\u001b[1m157/157\u001b[0m \u001b[32m━━━━━━━━━━━━━━━━━━━━\u001b[0m\u001b[37m\u001b[0m \u001b[1m4s\u001b[0m 23ms/step - acc: 0.9071 - loss: 0.2407 - val_acc: 0.7976 - val_loss: 0.5746\n",
            "Epoch 3/70\n",
            "\u001b[1m157/157\u001b[0m \u001b[32m━━━━━━━━━━━━━━━━━━━━\u001b[0m\u001b[37m\u001b[0m \u001b[1m5s\u001b[0m 22ms/step - acc: 0.9122 - loss: 0.2349 - val_acc: 0.8406 - val_loss: 0.4036\n",
            "Epoch 4/70\n",
            "\u001b[1m157/157\u001b[0m \u001b[32m━━━━━━━━━━━━━━━━━━━━\u001b[0m\u001b[37m\u001b[0m \u001b[1m6s\u001b[0m 26ms/step - acc: 0.9172 - loss: 0.2175 - val_acc: 0.8542 - val_loss: 0.4068\n",
            "Epoch 5/70\n",
            "\u001b[1m157/157\u001b[0m \u001b[32m━━━━━━━━━━━━━━━━━━━━\u001b[0m\u001b[37m\u001b[0m \u001b[1m4s\u001b[0m 21ms/step - acc: 0.9339 - loss: 0.1756 - val_acc: 0.8238 - val_loss: 0.3953\n",
            "Epoch 6/70\n",
            "\u001b[1m157/157\u001b[0m \u001b[32m━━━━━━━━━━━━━━━━━━━━\u001b[0m\u001b[37m\u001b[0m \u001b[1m3s\u001b[0m 21ms/step - acc: 0.9228 - loss: 0.1996 - val_acc: 0.8710 - val_loss: 0.3348\n",
            "Epoch 7/70\n",
            "\u001b[1m157/157\u001b[0m \u001b[32m━━━━━━━━━━━━━━━━━━━━\u001b[0m\u001b[37m\u001b[0m \u001b[1m4s\u001b[0m 25ms/step - acc: 0.9396 - loss: 0.1623 - val_acc: 0.8720 - val_loss: 0.3051\n",
            "Epoch 8/70\n",
            "\u001b[1m157/157\u001b[0m \u001b[32m━━━━━━━━━━━━━━━━━━━━\u001b[0m\u001b[37m\u001b[0m \u001b[1m3s\u001b[0m 19ms/step - acc: 0.9490 - loss: 0.1456 - val_acc: 0.8752 - val_loss: 0.3212\n",
            "Epoch 9/70\n",
            "\u001b[1m157/157\u001b[0m \u001b[32m━━━━━━━━━━━━━━━━━━━━\u001b[0m\u001b[37m\u001b[0m \u001b[1m6s\u001b[0m 22ms/step - acc: 0.9514 - loss: 0.1344 - val_acc: 0.8760 - val_loss: 0.3186\n",
            "Epoch 10/70\n",
            "\u001b[1m157/157\u001b[0m \u001b[32m━━━━━━━━━━━━━━━━━━━━\u001b[0m\u001b[37m\u001b[0m \u001b[1m4s\u001b[0m 25ms/step - acc: 0.9542 - loss: 0.1286 - val_acc: 0.8464 - val_loss: 0.4365\n",
            "Epoch 11/70\n",
            "\u001b[1m157/157\u001b[0m \u001b[32m━━━━━━━━━━━━━━━━━━━━\u001b[0m\u001b[37m\u001b[0m \u001b[1m4s\u001b[0m 19ms/step - acc: 0.9587 - loss: 0.1284 - val_acc: 0.8766 - val_loss: 0.3541\n",
            "Epoch 12/70\n",
            "\u001b[1m157/157\u001b[0m \u001b[32m━━━━━━━━━━━━━━━━━━━━\u001b[0m\u001b[37m\u001b[0m \u001b[1m3s\u001b[0m 19ms/step - acc: 0.9576 - loss: 0.1218 - val_acc: 0.8386 - val_loss: 0.3661\n",
            "Epoch 13/70\n",
            "\u001b[1m157/157\u001b[0m \u001b[32m━━━━━━━━━━━━━━━━━━━━\u001b[0m\u001b[37m\u001b[0m \u001b[1m4s\u001b[0m 24ms/step - acc: 0.9632 - loss: 0.1058 - val_acc: 0.8748 - val_loss: 0.3894\n",
            "Epoch 14/70\n",
            "\u001b[1m157/157\u001b[0m \u001b[32m━━━━━━━━━━━━━━━━━━━━\u001b[0m\u001b[37m\u001b[0m \u001b[1m4s\u001b[0m 19ms/step - acc: 0.9678 - loss: 0.0992 - val_acc: 0.8754 - val_loss: 0.4183\n",
            "\u001b[1m782/782\u001b[0m \u001b[32m━━━━━━━━━━━━━━━━━━━━\u001b[0m\u001b[37m\u001b[0m \u001b[1m6s\u001b[0m 8ms/step - acc: 0.8691 - loss: 0.3182\n",
            "Test loss: 0.3153301477432251\n",
            "Test accuracy: 0.8708400130271912\n"
          ]
        }
      ],
      "source": [
        "# Define the early stopping callback\n",
        "early_stop = EarlyStopping(\n",
        "    monitor='val_loss',     # You can also monitor 'val_accuracy'\n",
        "    patience=7,             # Wait for 5 epochs before stopping\n",
        "    restore_best_weights=True # Restore the best weights after stopping\n",
        ")\n",
        "\n",
        "# Train the model with early stopping\n",
        "history = model.fit(\n",
        "    train_data,\n",
        "    train_labels,\n",
        "    epochs=70,\n",
        "    batch_size=128,\n",
        "    validation_split=0.2,\n",
        "    callbacks=[early_stop]  #  Add the callback here\n",
        ")\n",
        "\n",
        "# Evaluate the model\n",
        "results = model.evaluate(test_data, test_labels)\n",
        "print(\"Test loss:\", results[0])\n",
        "print(\"Test accuracy:\", results[1])\n"
      ]
    }
  ],
  "metadata": {
    "accelerator": "GPU",
    "colab": {
      "gpuType": "T4",
      "provenance": []
    },
    "kernelspec": {
      "display_name": "tf_env",
      "language": "python",
      "name": "python3"
    },
    "language_info": {
      "codemirror_mode": {
        "name": "ipython",
        "version": 3
      },
      "file_extension": ".py",
      "mimetype": "text/x-python",
      "name": "python",
      "nbconvert_exporter": "python",
      "pygments_lexer": "ipython3",
      "version": "3.9.7"
    }
  },
  "nbformat": 4,
  "nbformat_minor": 0
}
