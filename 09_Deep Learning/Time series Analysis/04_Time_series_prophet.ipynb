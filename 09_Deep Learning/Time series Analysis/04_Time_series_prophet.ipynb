{
 "cells": [
  {
   "cell_type": "markdown",
   "id": "8c6a5809",
   "metadata": {},
   "source": [
    "# Prophet model from Facebook to be used for time series forecasting"
   ]
  },
  {
   "cell_type": "code",
   "execution_count": 35,
   "id": "8b1ed850",
   "metadata": {},
   "outputs": [],
   "source": [
    "# import libraries\n",
    "import pandas as pd\n",
    "import numpy as np\n",
    "import matplotlib.pyplot as plt\n",
    "import seaborn as sns\n",
    "import plotly.express as px \n",
    "import plotly.graph_objects as go       \n",
    "from sklearn.preprocessing import MinMaxScaler, StandardScaler\n",
    "# from fbprophet import Prophet\n",
    "# from fbprophet.plot import plot_cross_validation_metric"
   ]
  },
  {
   "cell_type": "code",
   "execution_count": 8,
   "id": "ed188cec",
   "metadata": {},
   "outputs": [
    {
     "name": "stdout",
     "output_type": "stream",
     "text": [
      "             meantemp   humidity  wind_speed  meanpressure\n",
      "date                                                      \n",
      "2013-01-01  10.000000  84.500000    0.000000   1015.666667\n",
      "2013-01-02   7.400000  92.000000    2.980000   1017.800000\n",
      "2013-01-03   7.166667  87.000000    4.633333   1018.666667\n",
      "2013-01-04   8.666667  71.333333    1.233333   1017.166667\n",
      "2013-01-05   6.000000  86.833333    3.700000   1016.500000\n",
      "<class 'pandas.core.frame.DataFrame'>\n",
      "DatetimeIndex: 1462 entries, 2013-01-01 to 2017-01-01\n",
      "Data columns (total 4 columns):\n",
      " #   Column        Non-Null Count  Dtype  \n",
      "---  ------        --------------  -----  \n",
      " 0   meantemp      1462 non-null   float64\n",
      " 1   humidity      1462 non-null   float64\n",
      " 2   wind_speed    1462 non-null   float64\n",
      " 3   meanpressure  1462 non-null   float64\n",
      "dtypes: float64(4)\n",
      "memory usage: 57.1 KB\n",
      "None\n"
     ]
    }
   ],
   "source": [
    "# import data\n",
    "df = pd.read_csv('04_time_series_prophet_data/DailyDelhiClimateTrain.csv', index_col='date', parse_dates=True)\n",
    "print(df.head())\n",
    "print(df.info())"
   ]
  },
  {
   "cell_type": "code",
   "execution_count": 10,
   "id": "8c608a68",
   "metadata": {},
   "outputs": [
    {
     "data": {
      "text/html": [
       "<div>\n",
       "<style scoped>\n",
       "    .dataframe tbody tr th:only-of-type {\n",
       "        vertical-align: middle;\n",
       "    }\n",
       "\n",
       "    .dataframe tbody tr th {\n",
       "        vertical-align: top;\n",
       "    }\n",
       "\n",
       "    .dataframe thead th {\n",
       "        text-align: right;\n",
       "    }\n",
       "</style>\n",
       "<table border=\"1\" class=\"dataframe\">\n",
       "  <thead>\n",
       "    <tr style=\"text-align: right;\">\n",
       "      <th></th>\n",
       "      <th>count</th>\n",
       "      <th>mean</th>\n",
       "      <th>std</th>\n",
       "      <th>min</th>\n",
       "      <th>25%</th>\n",
       "      <th>50%</th>\n",
       "      <th>75%</th>\n",
       "      <th>max</th>\n",
       "    </tr>\n",
       "  </thead>\n",
       "  <tbody>\n",
       "    <tr>\n",
       "      <th>meantemp</th>\n",
       "      <td>1462.0</td>\n",
       "      <td>25.495521</td>\n",
       "      <td>7.348103</td>\n",
       "      <td>6.000000</td>\n",
       "      <td>18.857143</td>\n",
       "      <td>27.714286</td>\n",
       "      <td>31.305804</td>\n",
       "      <td>38.714286</td>\n",
       "    </tr>\n",
       "    <tr>\n",
       "      <th>humidity</th>\n",
       "      <td>1462.0</td>\n",
       "      <td>60.771702</td>\n",
       "      <td>16.769652</td>\n",
       "      <td>13.428571</td>\n",
       "      <td>50.375000</td>\n",
       "      <td>62.625000</td>\n",
       "      <td>72.218750</td>\n",
       "      <td>100.000000</td>\n",
       "    </tr>\n",
       "    <tr>\n",
       "      <th>wind_speed</th>\n",
       "      <td>1462.0</td>\n",
       "      <td>6.802209</td>\n",
       "      <td>4.561602</td>\n",
       "      <td>0.000000</td>\n",
       "      <td>3.475000</td>\n",
       "      <td>6.221667</td>\n",
       "      <td>9.238235</td>\n",
       "      <td>42.220000</td>\n",
       "    </tr>\n",
       "    <tr>\n",
       "      <th>meanpressure</th>\n",
       "      <td>1462.0</td>\n",
       "      <td>1011.104548</td>\n",
       "      <td>180.231668</td>\n",
       "      <td>-3.041667</td>\n",
       "      <td>1001.580357</td>\n",
       "      <td>1008.563492</td>\n",
       "      <td>1014.944901</td>\n",
       "      <td>7679.333333</td>\n",
       "    </tr>\n",
       "  </tbody>\n",
       "</table>\n",
       "</div>"
      ],
      "text/plain": [
       "               count         mean         std        min          25%  \\\n",
       "meantemp      1462.0    25.495521    7.348103   6.000000    18.857143   \n",
       "humidity      1462.0    60.771702   16.769652  13.428571    50.375000   \n",
       "wind_speed    1462.0     6.802209    4.561602   0.000000     3.475000   \n",
       "meanpressure  1462.0  1011.104548  180.231668  -3.041667  1001.580357   \n",
       "\n",
       "                      50%          75%          max  \n",
       "meantemp        27.714286    31.305804    38.714286  \n",
       "humidity        62.625000    72.218750   100.000000  \n",
       "wind_speed       6.221667     9.238235    42.220000  \n",
       "meanpressure  1008.563492  1014.944901  7679.333333  "
      ]
     },
     "execution_count": 10,
     "metadata": {},
     "output_type": "execute_result"
    }
   ],
   "source": [
    "df.describe().T"
   ]
  },
  {
   "cell_type": "code",
   "execution_count": 40,
   "id": "17a46a70",
   "metadata": {},
   "outputs": [
    {
     "data": {
      "text/plain": [
       "<Axes: xlabel='date', ylabel='meantemp'>"
      ]
     },
     "execution_count": 40,
     "metadata": {},
     "output_type": "execute_result"
    },
    {
     "data": {
      "image/png": "[encoded data removed]",
      "text/plain": [
       "<Figure size 1100x400 with 1 Axes>"
      ]
     },
     "metadata": {},
     "output_type": "display_data"
    }
   ],
   "source": [
    "# draw a line plot\n",
    "sns.set(rc={'figure.figsize':(11, 4)}, font_scale=0.8, style='darkgrid')\n",
    "sns.lineplot(data=df, x=\"date\", y=\"meantemp\")\n",
    "sns.lineplot(data=df, x=\"date\", y=\"humidity\")\n",
    "sns.lineplot(data=df, x=\"date\", y=\"wind_speed\")\n",
    "sns.lineplot(data=df, x=\"date\", y=\"meanpressure\")"
   ]
  },
  {
   "cell_type": "code",
   "execution_count": 45,
   "id": "f9a491bc",
   "metadata": {},
   "outputs": [
    {
     "data": {
      "application/vnd.plotly.v1+json": {
       "config": {
        "plotlyServerURL": "https://plot.ly"
       },
       "data": [
        {
         "hovertemplate": "date=%{x}<br>meanpressure=%{y}<extra></extra>",
         "legendgroup": "",
         "line": {
          "color": "#636efa",
          "dash": "solid"
         },
         "marker": {
          "symbol": "circle"
         },
         "mode": "lines",
         "name": "",
         "showlegend": false,
         "type": "scattergl",
         "x": [
          "2013-01-01T00:00:00.000000000",
          "2013-01-02T00:00:00.000000000",
          "2013-01-03T00:00:00.000000000",
          "2013-01-04T00:00:00.000000000",
          "2013-01-05T00:00:00.000000000",
          "2013-01-06T00:00:00.000000000",
          "2013-01-07T00:00:00.000000000",
          "2013-01-08T00:00:00.000000000",
          "2013-01-09T00:00:00.000000000",
          "2013-01-10T00:00:00.000000000",
          "2013-01-11T00:00:00.000000000",
          "2013-01-12T00:00:00.000000000",
          "2013-01-13T00:00:00.000000000",
          "2013-01-14T00:00:00.000000000",
          "2013-01-15T00:00:00.000000000",
          "2013-01-16T00:00:00.000000000",
          "2013-01-17T00:00:00.000000000",
          "2013-01-18T00:00:00.000000000",
          "2013-01-19T00:00:00.000000000",
          "2013-01-20T00:00:00.000000000",
          "2013-01-21T00:00:00.000000000",
          "2013-01-22T00:00:00.000000000",
          "2013-01-23T00:00:00.000000000",
          "2013-01-24T00:00:00.000000000",
          "2013-01-25T00:00:00.000000000",
          "2013-01-26T00:00:00.000000000",
          "2013-01-27T00:00:00.000000000",
          "2013-01-28T00:00:00.000000000",
          "2013-01-29T00:00:00.000000000",
          "2013-01-30T00:00:00.000000000",
          "2013-01-31T00:00:00.000000000",
          "2013-02-01T00:00:00.000000000",
          "2013-02-02T00:00:00.000000000",
          "2013-02-03T00:00:00.000000000",
          "2013-02-04T00:00:00.000000000",
          "2013-02-05T00:00:00.000000000",
          "2013-02-06T00:00:00.000000000",
          "2013-02-07T00:00:00.000000000",
          "2013-02-08T00:00:00.000000000",
          "2013-02-09T00:00:00.000000000",
          "2013-02-10T00:00:00.000000000",
          "2013-02-11T00:00:00.000000000",
          "2013-02-12T00:00:00.000000000",
          "2013-02-13T00:00:00.000000000",
          "2013-02-14T00:00:00.000000000",
          "2013-02-15T00:00:00.000000000",
          "2013-02-16T00:00:00.000000000",
          "2013-02-17T00:00:00.000000000",
          "2013-02-18T00:00:00.000000000",
          "2013-02-19T00:00:00.000000000",
          "2013-02-20T00:00:00.000000000",
          "2013-02-21T00:00:00.000000000",
          "2013-02-22T00:00:00.000000000",
          "2013-02-23T00:00:00.000000000",
          "2013-02-24T00:00:00.000000000",
          "2013-02-25T00:00:00.000000000",
          "2013-02-26T00:00:00.000000000",
          "2013-02-27T00:00:00.000000000",
          "2013-02-28T00:00:00.000000000",
          "2013-03-01T00:00:00.000000000",
          "2013-03-02T00:00:00.000000000",
          "2013-03-03T00:00:00.000000000",
          "2013-03-04T00:00:00.000000000",
          "2013-03-05T00:00:00.000000000",
          "2013-03-06T00:00:00.000000000",
          "2013-03-07T00:00:00.000000000",
          "2013-03-08T00:00:00.000000000",
          "2013-03-09T00:00:00.000000000",
          "2013-03-10T00:00:00.000000000",
          "2013-03-11T00:00:00.000000000",
          "2013-03-12T00:00:00.000000000",
          "2013-03-13T00:00:00.000000000",
          "2013-03-14T00:00:00.000000000",
          "2013-03-15T00:00:00.000000000",
          "2013-03-16T00:00:00.000000000",
          "2013-03-17T00:00:00.000000000",
          "2013-03-18T00:00:00.000000000",
          "2013-03-19T00:00:00.000000000",
          "2013-03-20T00:00:00.000000000",
          "2013-03-21T00:00:00.000000000",
          "2013-03-22T00:00:00.000000000",
          "2013-03-23T00:00:00.000000000",
          "2013-03-24T00:00:00.000000000",
          "2013-03-25T00:00:00.000000000",
          "2013-03-26T00:00:00.000000000",
          "2013-03-27T00:00:00.000000000",
          "2013-03-28T00:00:00.000000000",
          "2013-03-29T00:00:00.000000000",
          "2013-03-30T00:00:00.000000000",
          "2013-03-31T00:00:00.000000000",
          "2013-04-01T00:00:00.000000000",
          "2013-04-02T00:00:00.000000000",
          "2013-04-03T00:00:00.000000000",
          "2013-04-04T00:00:00.000000000",
          "2013-04-05T00:00:00.000000000",
          "2013-04-06T00:00:00.000000000",
          "2013-04-07T00:00:00.000000000",
          "2013-04-08T00:00:00.000000000",
          "2013-04-09T00:00:00.000000000",
          "2013-04-10T00:00:00.000000000",
          "2013-04-11T00:00:00.000000000",
          "2013-04-12T00:00:00.000000000",
          "2013-04-13T00:00:00.000000000",
          "2013-04-14T00:00:00.000000000",
          "2013-04-15T00:00:00.000000000",
          "2013-04-16T00:00:00.000000000",
          "2013-04-17T00:00:00.000000000",
          "2013-04-18T00:00:00.000000000",
          "2013-04-19T00:00:00.000000000",
          "2013-04-20T00:00:00.000000000",
          "2013-04-21T00:00:00.000000000",
          "2013-04-22T00:00:00.000000000",
          "2013-04-23T00:00:00.000000000",
          "2013-04-24T00:00:00.000000000",
          "2013-04-25T00:00:00.000000000",
          "2013-04-26T00:00:00.000000000",
          "2013-04-27T00:00:00.000000000",
          "2013-04-28T00:00:00.000000000",
          "2013-04-29T00:00:00.000000000",
          "2013-04-30T00:00:00.000000000",
          "2013-05-01T00:00:00.000000000",
          "2013-05-02T00:00:00.000000000",
          "2013-05-03T00:00:00.000000000",
          "2013-05-04T00:00:00.000000000",
          "2013-05-05T00:00:00.000000000",
          "2013-05-06T00:00:00.000000000",
          "2013-05-07T00:00:00.000000000",
          "2013-05-08T00:00:00.000000000",
          "2013-05-09T00:00:00.000000000",
          "2013-05-10T00:00:00.000000000",
          "2013-05-11T00:00:00.000000000",
          "2013-05-12T00:00:00.000000000",
          "2013-05-13T00:00:00.000000000",
          "2013-05-14T00:00:00.000000000",
          "2013-05-15T00:00:00.000000000",
          "2013-05-16T00:00:00.000000000",
          "2013-05-17T00:00:00.000000000",
          "2013-05-18T00:00:00.000000000",
          "2013-05-19T00:00:00.000000000",
          "2013-05-20T00:00:00.000000000",
          "2013-05-21T00:00:00.000000000",
          "2013-05-22T00:00:00.000000000",
          "2013-05-23T00:00:00.000000000",
          "2013-05-24T00:00:00.000000000",
          "2013-05-25T00:00:00.000000000",
          "2013-05-26T00:00:00.000000000",
          "2013-05-27T00:00:00.000000000",
          "2013-05-28T00:00:00.000000000",
          "2013-05-29T00:00:00.000000000",
          "2013-05-30T00:00:00.000000000",
          "2013-05-31T00:00:00.000000000",
          "2013-06-01T00:00:00.000000000",
          "2013-06-02T00:00:00.000000000",
          "2013-06-03T00:00:00.000000000",
          "2013-06-04T00:00:00.000000000",
          "2013-06-05T00:00:00.000000000",
          "2013-06-06T00:00:00.000000000",
          "2013-06-07T00:00:00.000000000",
          "2013-06-08T00:00:00.000000000",
          "2013-06-09T00:00:00.000000000",
          "2013-06-10T00:00:00.000000000",
          "2013-06-11T00:00:00.000000000",
          "2013-06-12T00:00:00.000000000",
          "2013-06-13T00:00:00.000000000",
          "2013-06-14T00:00:00.000000000",
          "2013-06-15T00:00:00.000000000",
          "2013-06-16T00:00:00.000000000",
          "2013-06-17T00:00:00.000000000",
          "2013-06-18T00:00:00.000000000",
          "2013-06-19T00:00:00.000000000",
          "2013-06-20T00:00:00.000000000",
          "2013-06-21T00:00:00.000000000",
          "2013-06-22T00:00:00.000000000",
          "2013-06-23T00:00:00.000000000",
          "2013-06-24T00:00:00.000000000",
          "2013-06-25T00:00:00.000000000",
          "2013-06-26T00:00:00.000000000",
          "2013-06-27T00:00:00.000000000",
          "2013-06-28T00:00:00.000000000",
          "2013-06-29T00:00:00.000000000",
          "2013-06-30T00:00:00.000000000",
          "2013-07-01T00:00:00.000000000",
          "2013-07-02T00:00:00.000000000",
          "2013-07-03T00:00:00.000000000",
          "2013-07-04T00:00:00.000000000",
          "2013-07-05T00:00:00.000000000",
          "2013-07-06T00:00:00.000000000",
          "2013-07-07T00:00:00.000000000",
          "2013-07-08T00:00:00.000000000",
          "2013-07-09T00:00:00.000000000",
          "2013-07-10T00:00:00.000000000",
          "2013-07-11T00:00:00.000000000",
          "2013-07-12T00:00:00.000000000",
          "2013-07-13T00:00:00.000000000",
          "2013-07-14T00:00:00.000000000",
          "2013-07-15T00:00:00.000000000",
          "2013-07-16T00:00:00.000000000",
          "2013-07-17T00:00:00.000000000",
          "2013-07-18T00:00:00.000000000",
          "2013-07-19T00:00:00.000000000",
          "2013-07-20T00:00:00.000000000",
          "2013-07-21T00:00:00.000000000",
          "2013-07-22T00:00:00.000000000",
          "2013-07-23T00:00:00.000000000",
          "2013-07-24T00:00:00.000000000",
          "2013-07-25T00:00:00.000000000",
          "2013-07-26T00:00:00.000000000",
          "2013-07-27T00:00:00.000000000",
          "2013-07-28T00:00:00.000000000",
          "2013-07-29T00:00:00.000000000",
          "2013-07-30T00:00:00.000000000",
          "2013-07-31T00:00:00.000000000",
          "2013-08-01T00:00:00.000000000",
          "2013-08-02T00:00:00.000000000",
          "2013-08-03T00:00:00.000000000",
          "2013-08-04T00:00:00.000000000",
          "2013-08-05T00:00:00.000000000",
          "2013-08-06T00:00:00.000000000",
          "2013-08-07T00:00:00.000000000",
          "2013-08-08T00:00:00.000000000",
          "2013-08-09T00:00:00.000000000",
          "2013-08-10T00:00:00.000000000",
          "2013-08-11T00:00:00.000000000",
          "2013-08-12T00:00:00.000000000",
          "2013-08-13T00:00:00.000000000",
          "2013-08-14T00:00:00.000000000",
          "2013-08-15T00:00:00.000000000",
          "2013-08-16T00:00:00.000000000",
          "2013-08-17T00:00:00.000000000",
          "2013-08-18T00:00:00.000000000",
          "2013-08-19T00:00:00.000000000",
          "2013-08-20T00:00:00.000000000",
          "2013-08-21T00:00:00.000000000",
          "2013-08-22T00:00:00.000000000",
          "2013-08-23T00:00:00.000000000",
          "2013-08-24T00:00:00.000000000",
          "2013-08-25T00:00:00.000000000",
          "2013-08-26T00:00:00.000000000",
          "2013-08-27T00:00:00.000000000",
          "2013-08-28T00:00:00.000000000",
          "2013-08-29T00:00:00.000000000",
          "2013-08-30T00:00:00.000000000",
          "2013-08-31T00:00:00.000000000",
          "2013-09-01T00:00:00.000000000",
          "2013-09-02T00:00:00.000000000",
          "2013-09-03T00:00:00.000000000",
          "2013-09-04T00:00:00.000000000",
          "2013-09-05T00:00:00.000000000",
          "2013-09-06T00:00:00.000000000",
          "2013-09-07T00:00:00.000000000",
          "2013-09-08T00:00:00.000000000",
          "2013-09-09T00:00:00.000000000",
          "2013-09-10T00:00:00.000000000",
          "2013-09-11T00:00:00.000000000",
          "2013-09-12T00:00:00.000000000",
          "2013-09-13T00:00:00.000000000",
          "2013-09-14T00:00:00.000000000",
          "2013-09-15T00:00:00.000000000",
          "2013-09-16T00:00:00.000000000",
          "2013-09-17T00:00:00.000000000",
          "2013-09-18T00:00:00.000000000",
          "2013-09-19T00:00:00.000000000",
          "2013-09-20T00:00:00.000000000",
          "2013-09-21T00:00:00.000000000",
          "2013-09-22T00:00:00.000000000",
          "2013-09-23T00:00:00.000000000",
          "2013-09-24T00:00:00.000000000",
          "2013-09-25T00:00:00.000000000",
          "2013-09-26T00:00:00.000000000",
          "2013-09-27T00:00:00.000000000",
          "2013-09-28T00:00:00.000000000",
          "2013-09-29T00:00:00.000000000",
          "2013-09-30T00:00:00.000000000",
          "2013-10-01T00:00:00.000000000",
          "2013-10-02T00:00:00.000000000",
          "2013-10-03T00:00:00.000000000",
          "2013-10-04T00:00:00.000000000",
          "2013-10-05T00:00:00.000000000",
          "2013-10-06T00:00:00.000000000",
          "2013-10-07T00:00:00.000000000",
          "2013-10-08T00:00:00.000000000",
          "2013-10-09T00:00:00.000000000",
          "2013-10-10T00:00:00.000000000",
          "2013-10-11T00:00:00.000000000",
          "2013-10-12T00:00:00.000000000",
          "2013-10-13T00:00:00.000000000",
          "2013-10-14T00:00:00.000000000",
          "2013-10-15T00:00:00.000000000",
          "2013-10-16T00:00:00.000000000",
          "2013-10-17T00:00:00.000000000",
          "2013-10-18T00:00:00.000000000",
          "2013-10-19T00:00:00.000000000",
          "2013-10-20T00:00:00.000000000",
          "2013-10-21T00:00:00.000000000",
          "2013-10-22T00:00:00.000000000",
          "2013-10-23T00:00:00.000000000",
          "2013-10-24T00:00:00.000000000",
          "2013-10-25T00:00:00.000000000",
          "2013-10-26T00:00:00.000000000",
          "2013-10-27T00:00:00.000000000",
          "2013-10-28T00:00:00.000000000",
          "2013-10-29T00:00:00.000000000",
          "2013-10-30T00:00:00.000000000",
          "2013-10-31T00:00:00.000000000",
          "2013-11-01T00:00:00.000000000",
          "2013-11-02T00:00:00.000000000",
          "2013-11-03T00:00:00.000000000",
          "2013-11-04T00:00:00.000000000",
          "2013-11-05T00:00:00.000000000",
          "2013-11-06T00:00:00.000000000",
          "2013-11-07T00:00:00.000000000",
          "2013-11-08T00:00:00.000000000",
          "2013-11-09T00:00:00.000000000",
          "2013-11-10T00:00:00.000000000",
          "2013-11-11T00:00:00.000000000",
          "2013-11-12T00:00:00.000000000",
          "2013-11-13T00:00:00.000000000",
          "2013-11-14T00:00:00.000000000",
          "2013-11-15T00:00:00.000000000",
          "2013-11-16T00:00:00.000000000",
          "2013-11-17T00:00:00.000000000",
          "2013-11-18T00:00:00.000000000",
          "2013-11-19T00:00:00.000000000",
          "2013-11-20T00:00:00.000000000",
          "2013-11-21T00:00:00.000000000",
          "2013-11-22T00:00:00.000000000",
          "2013-11-23T00:00:00.000000000",
          "2013-11-24T00:00:00.000000000",
          "2013-11-25T00:00:00.000000000",
          "2013-11-26T00:00:00.000000000",
          "2013-11-27T00:00:00.000000000",
          "2013-11-28T00:00:00.000000000",
          "2013-11-29T00:00:00.000000000",
          "2013-11-30T00:00:00.000000000",
          "2013-12-01T00:00:00.000000000",
          "2013-12-02T00:00:00.000000000",
          "2013-12-03T00:00:00.000000000",
          "2013-12-04T00:00:00.000000000",
          "2013-12-05T00:00:00.000000000",
          "2013-12-06T00:00:00.000000000",
          "2013-12-07T00:00:00.000000000",
          "2013-12-08T00:00:00.000000000",
          "2013-12-09T00:00:00.000000000",
          "2013-12-10T00:00:00.000000000",
          "2013-12-11T00:00:00.000000000",
          "2013-12-12T00:00:00.000000000",
          "2013-12-13T00:00:00.000000000",
          "2013-12-14T00:00:00.000000000",
          "2013-12-15T00:00:00.000000000",
          "2013-12-16T00:00:00.000000000",
          "2013-12-17T00:00:00.000000000",
          "2013-12-18T00:00:00.000000000",
          "2013-12-19T00:00:00.000000000",
          "2013-12-20T00:00:00.000000000",
          "2013-12-21T00:00:00.000000000",
          "2013-12-22T00:00:00.000000000",
          "2013-12-23T00:00:00.000000000",
          "2013-12-24T00:00:00.000000000",
          "2013-12-25T00:00:00.000000000",
          "2013-12-26T00:00:00.000000000",
          "2013-12-27T00:00:00.000000000",
          "2013-12-28T00:00:00.000000000",
          "2013-12-29T00:00:00.000000000",
          "2013-12-30T00:00:00.000000000",
          "2013-12-31T00:00:00.000000000",
          "2014-01-01T00:00:00.000000000",
          "2014-01-02T00:00:00.000000000",
          "2014-01-03T00:00:00.000000000",
          "2014-01-04T00:00:00.000000000",
          "2014-01-05T00:00:00.000000000",
          "2014-01-06T00:00:00.000000000",
          "2014-01-07T00:00:00.000000000",
          "2014-01-08T00:00:00.000000000",
          "2014-01-09T00:00:00.000000000",
          "2014-01-10T00:00:00.000000000",
          "2014-01-11T00:00:00.000000000",
          "2014-01-12T00:00:00.000000000",
          "2014-01-13T00:00:00.000000000",
          "2014-01-14T00:00:00.000000000",
          "2014-01-15T00:00:00.000000000",
          "2014-01-16T00:00:00.000000000",
          "2014-01-17T00:00:00.000000000",
          "2014-01-18T00:00:00.000000000",
          "2014-01-19T00:00:00.000000000",
          "2014-01-20T00:00:00.000000000",
          "2014-01-21T00:00:00.000000000",
          "2014-01-22T00:00:00.000000000",
          "2014-01-23T00:00:00.000000000",
          "2014-01-24T00:00:00.000000000",
          "2014-01-25T00:00:00.000000000",
          "2014-01-26T00:00:00.000000000",
          "2014-01-27T00:00:00.000000000",
          "2014-01-28T00:00:00.000000000",
          "2014-01-29T00:00:00.000000000",
          "2014-01-30T00:00:00.000000000",
          "2014-01-31T00:00:00.000000000",
          "2014-02-01T00:00:00.000000000",
          "2014-02-02T00:00:00.000000000",
          "2014-02-03T00:00:00.000000000",
          "2014-02-04T00:00:00.000000000",
          "2014-02-05T00:00:00.000000000",
          "2014-02-06T00:00:00.000000000",
          "2014-02-07T00:00:00.000000000",
          "2014-02-08T00:00:00.000000000",
          "2014-02-09T00:00:00.000000000",
          "2014-02-10T00:00:00.000000000",
          "2014-02-11T00:00:00.000000000",
          "2014-02-12T00:00:00.000000000",
          "2014-02-13T00:00:00.000000000",
          "2014-02-14T00:00:00.000000000",
          "2014-02-15T00:00:00.000000000",
          "2014-02-16T00:00:00.000000000",
          "2014-02-17T00:00:00.000000000",
          "2014-02-18T00:00:00.000000000",
          "2014-02-19T00:00:00.000000000",
          "2014-02-20T00:00:00.000000000",
          "2014-02-21T00:00:00.000000000",
          "2014-02-22T00:00:00.000000000",
          "2014-02-23T00:00:00.000000000",
          "2014-02-24T00:00:00.000000000",
          "2014-02-25T00:00:00.000000000",
          "2014-02-26T00:00:00.000000000",
          "2014-02-27T00:00:00.000000000",
          "2014-02-28T00:00:00.000000000",
          "2014-03-01T00:00:00.000000000",
          "2014-03-02T00:00:00.000000000",
          "2014-03-03T00:00:00.000000000",
          "2014-03-04T00:00:00.000000000",
          "2014-03-05T00:00:00.000000000",
          "2014-03-06T00:00:00.000000000",
          "2014-03-07T00:00:00.000000000",
          "2014-03-08T00:00:00.000000000",
          "2014-03-09T00:00:00.000000000",
          "2014-03-10T00:00:00.000000000",
          "2014-03-11T00:00:00.000000000",
          "2014-03-12T00:00:00.000000000",
          "2014-03-13T00:00:00.000000000",
          "2014-03-14T00:00:00.000000000",
          "2014-03-15T00:00:00.000000000",
          "2014-03-16T00:00:00.000000000",
          "2014-03-17T00:00:00.000000000",
          "2014-03-18T00:00:00.000000000",
          "2014-03-19T00:00:00.000000000",
          "2014-03-20T00:00:00.000000000",
          "2014-03-21T00:00:00.000000000",
          "2014-03-22T00:00:00.000000000",
          "2014-03-23T00:00:00.000000000",
          "2014-03-24T00:00:00.000000000",
          "2014-03-25T00:00:00.000000000",
          "2014-03-26T00:00:00.000000000",
          "2014-03-27T00:00:00.000000000",
          "2014-03-28T00:00:00.000000000",
          "2014-03-29T00:00:00.000000000",
          "2014-03-30T00:00:00.000000000",
          "2014-03-31T00:00:00.000000000",
          "2014-04-01T00:00:00.000000000",
          "2014-04-02T00:00:00.000000000",
          "2014-04-03T00:00:00.000000000",
          "2014-04-04T00:00:00.000000000",
          "2014-04-05T00:00:00.000000000",
          "2014-04-06T00:00:00.000000000",
          "2014-04-07T00:00:00.000000000",
          "2014-04-08T00:00:00.000000000",
          "2014-04-09T00:00:00.000000000",
          "2014-04-10T00:00:00.000000000",
          "2014-04-11T00:00:00.000000000",
          "2014-04-12T00:00:00.000000000",
          "2014-04-13T00:00:00.000000000",
          "2014-04-14T00:00:00.000000000",
          "2014-04-15T00:00:00.000000000",
          "2014-04-16T00:00:00.000000000",
          "2014-04-17T00:00:00.000000000",
          "2014-04-18T00:00:00.000000000",
          "2014-04-19T00:00:00.000000000",
          "2014-04-20T00:00:00.000000000",
          "2014-04-21T00:00:00.000000000",
          "2014-04-22T00:00:00.000000000",
          "2014-04-23T00:00:00.000000000",
          "2014-04-24T00:00:00.000000000",
          "2014-04-25T00:00:00.000000000",
          "2014-04-26T00:00:00.000000000",
          "2014-04-27T00:00:00.000000000",
          "2014-04-28T00:00:00.000000000",
          "2014-04-29T00:00:00.000000000",
          "2014-04-30T00:00:00.000000000",
          "2014-05-01T00:00:00.000000000",
          "2014-05-02T00:00:00.000000000",
          "2014-05-03T00:00:00.000000000",
          "2014-05-04T00:00:00.000000000",
          "2014-05-05T00:00:00.000000000",
          "2014-05-06T00:00:00.000000000",
          "2014-05-07T00:00:00.000000000",
          "2014-05-08T00:00:00.000000000",
          "2014-05-09T00:00:00.000000000",
          "2014-05-10T00:00:00.000000000",
          "2014-05-11T00:00:00.000000000",
          "2014-05-12T00:00:00.000000000",
          "2014-05-13T00:00:00.000000000",
          "2014-05-14T00:00:00.000000000",
          "2014-05-15T00:00:00.000000000",
          "2014-05-16T00:00:00.000000000",
          "2014-05-17T00:00:00.000000000",
          "2014-05-18T00:00:00.000000000",
          "2014-05-19T00:00:00.000000000",
          "2014-05-20T00:00:00.000000000",
          "2014-05-21T00:00:00.000000000",
          "2014-05-22T00:00:00.000000000",
          "2014-05-23T00:00:00.000000000",
          "2014-05-24T00:00:00.000000000",
          "2014-05-25T00:00:00.000000000",
          "2014-05-26T00:00:00.000000000",
          "2014-05-27T00:00:00.000000000",
          "2014-05-28T00:00:00.000000000",
          "2014-05-29T00:00:00.000000000",
          "2014-05-30T00:00:00.000000000",
          "2014-05-31T00:00:00.000000000",
          "2014-06-01T00:00:00.000000000",
          "2014-06-02T00:00:00.000000000",
          "2014-06-03T00:00:00.000000000",
          "2014-06-04T00:00:00.000000000",
          "2014-06-05T00:00:00.000000000",
          "2014-06-06T00:00:00.000000000",
          "2014-06-07T00:00:00.000000000",
          "2014-06-08T00:00:00.000000000",
          "2014-06-09T00:00:00.000000000",
          "2014-06-10T00:00:00.000000000",
          "2014-06-11T00:00:00.000000000",
          "2014-06-12T00:00:00.000000000",
          "2014-06-13T00:00:00.000000000",
          "2014-06-14T00:00:00.000000000",
          "2014-06-15T00:00:00.000000000",
          "2014-06-16T00:00:00.000000000",
          "2014-06-17T00:00:00.000000000",
          "2014-06-18T00:00:00.000000000",
          "2014-06-19T00:00:00.000000000",
          "2014-06-20T00:00:00.000000000",
          "2014-06-21T00:00:00.000000000",
          "2014-06-22T00:00:00.000000000",
          "2014-06-23T00:00:00.000000000",
          "2014-06-24T00:00:00.000000000",
          "2014-06-25T00:00:00.000000000",
          "2014-06-26T00:00:00.000000000",
          "2014-06-27T00:00:00.000000000",
          "2014-06-28T00:00:00.000000000",
          "2014-06-29T00:00:00.000000000",
          "2014-06-30T00:00:00.000000000",
          "2014-07-01T00:00:00.000000000",
          "2014-07-02T00:00:00.000000000",
          "2014-07-03T00:00:00.000000000",
          "2014-07-04T00:00:00.000000000",
          "2014-07-05T00:00:00.000000000",
          "2014-07-06T00:00:00.000000000",
          "2014-07-07T00:00:00.000000000",
          "2014-07-08T00:00:00.000000000",
          "2014-07-09T00:00:00.000000000",
          "2014-07-10T00:00:00.000000000",
          "2014-07-11T00:00:00.000000000",
          "2014-07-12T00:00:00.000000000",
          "2014-07-13T00:00:00.000000000",
          "2014-07-14T00:00:00.000000000",
          "2014-07-15T00:00:00.000000000",
          "2014-07-16T00:00:00.000000000",
          "2014-07-17T00:00:00.000000000",
          "2014-07-18T00:00:00.000000000",
          "2014-07-19T00:00:00.000000000",
          "2014-07-20T00:00:00.000000000",
          "2014-07-21T00:00:00.000000000",
          "2014-07-22T00:00:00.000000000",
          "2014-07-23T00:00:00.000000000",
          "2014-07-24T00:00:00.000000000",
          "2014-07-25T00:00:00.000000000",
          "2014-07-26T00:00:00.000000000",
          "2014-07-27T00:00:00.000000000",
          "2014-07-28T00:00:00.000000000",
          "2014-07-29T00:00:00.000000000",
          "2014-07-30T00:00:00.000000000",
          "2014-07-31T00:00:00.000000000",
          "2014-08-01T00:00:00.000000000",
          "2014-08-02T00:00:00.000000000",
          "2014-08-03T00:00:00.000000000",
          "2014-08-04T00:00:00.000000000",
          "2014-08-05T00:00:00.000000000",
          "2014-08-06T00:00:00.000000000",
          "2014-08-07T00:00:00.000000000",
          "2014-08-08T00:00:00.000000000",
          "2014-08-09T00:00:00.000000000",
          "2014-08-10T00:00:00.000000000",
          "2014-08-11T00:00:00.000000000",
          "2014-08-12T00:00:00.000000000",
          "2014-08-13T00:00:00.000000000",
          "2014-08-14T00:00:00.000000000",
          "2014-08-15T00:00:00.000000000",
          "2014-08-16T00:00:00.000000000",
          "2014-08-17T00:00:00.000000000",
          "2014-08-18T00:00:00.000000000",
          "2014-08-19T00:00:00.000000000",
          "2014-08-20T00:00:00.000000000",
          "2014-08-21T00:00:00.000000000",
          "2014-08-22T00:00:00.000000000",
          "2014-08-23T00:00:00.000000000",
          "2014-08-24T00:00:00.000000000",
          "2014-08-25T00:00:00.000000000",
          "2014-08-26T00:00:00.000000000",
          "2014-08-27T00:00:00.000000000",
          "2014-08-28T00:00:00.000000000",
          "2014-08-29T00:00:00.000000000",
          "2014-08-30T00:00:00.000000000",
          "2014-08-31T00:00:00.000000000",
          "2014-09-01T00:00:00.000000000",
          "2014-09-02T00:00:00.000000000",
          "2014-09-03T00:00:00.000000000",
          "2014-09-04T00:00:00.000000000",
          "2014-09-05T00:00:00.000000000",
          "2014-09-06T00:00:00.000000000",
          "2014-09-07T00:00:00.000000000",
          "2014-09-08T00:00:00.000000000",
          "2014-09-09T00:00:00.000000000",
          "2014-09-10T00:00:00.000000000",
          "2014-09-11T00:00:00.000000000",
          "2014-09-12T00:00:00.000000000",
          "2014-09-13T00:00:00.000000000",
          "2014-09-14T00:00:00.000000000",
          "2014-09-15T00:00:00.000000000",
          "2014-09-16T00:00:00.000000000",
          "2014-09-17T00:00:00.000000000",
          "2014-09-18T00:00:00.000000000",
          "2014-09-19T00:00:00.000000000",
          "2014-09-20T00:00:00.000000000",
          "2014-09-21T00:00:00.000000000",
          "2014-09-22T00:00:00.000000000",
          "2014-09-23T00:00:00.000000000",
          "2014-09-24T00:00:00.000000000",
          "2014-09-25T00:00:00.000000000",
          "2014-09-26T00:00:00.000000000",
          "2014-09-27T00:00:00.000000000",
          "2014-09-28T00:00:00.000000000",
          "2014-09-29T00:00:00.000000000",
          "2014-09-30T00:00:00.000000000",
          "2014-10-01T00:00:00.000000000",
          "2014-10-02T00:00:00.000000000",
          "2014-10-03T00:00:00.000000000",
          "2014-10-04T00:00:00.000000000",
          "2014-10-05T00:00:00.000000000",
          "2014-10-06T00:00:00.000000000",
          "2014-10-07T00:00:00.000000000",
          "2014-10-08T00:00:00.000000000",
          "2014-10-09T00:00:00.000000000",
          "2014-10-10T00:00:00.000000000",
          "2014-10-11T00:00:00.000000000",
          "2014-10-12T00:00:00.000000000",
          "2014-10-13T00:00:00.000000000",
          "2014-10-14T00:00:00.000000000",
          "2014-10-15T00:00:00.000000000",
          "2014-10-16T00:00:00.000000000",
          "2014-10-17T00:00:00.000000000",
          "2014-10-18T00:00:00.000000000",
          "2014-10-19T00:00:00.000000000",
          "2014-10-20T00:00:00.000000000",
          "2014-10-21T00:00:00.000000000",
          "2014-10-22T00:00:00.000000000",
          "2014-10-23T00:00:00.000000000",
          "2014-10-24T00:00:00.000000000",
          "2014-10-25T00:00:00.000000000",
          "2014-10-26T00:00:00.000000000",
          "2014-10-27T00:00:00.000000000",
          "2014-10-28T00:00:00.000000000",
          "2014-10-29T00:00:00.000000000",
          "2014-10-30T00:00:00.000000000",
          "2014-10-31T00:00:00.000000000",
          "2014-11-01T00:00:00.000000000",
          "2014-11-02T00:00:00.000000000",
          "2014-11-03T00:00:00.000000000",
          "2014-11-04T00:00:00.000000000",
          "2014-11-05T00:00:00.000000000",
          "2014-11-06T00:00:00.000000000",
          "2014-11-07T00:00:00.000000000",
          "2014-11-08T00:00:00.000000000",
          "2014-11-09T00:00:00.000000000",
          "2014-11-10T00:00:00.000000000",
          "2014-11-11T00:00:00.000000000",
          "2014-11-12T00:00:00.000000000",
          "2014-11-13T00:00:00.000000000",
          "2014-11-14T00:00:00.000000000",
          "2014-11-15T00:00:00.000000000",
          "2014-11-16T00:00:00.000000000",
          "2014-11-17T00:00:00.000000000",
          "2014-11-18T00:00:00.000000000",
          "2014-11-19T00:00:00.000000000",
          "2014-11-20T00:00:00.000000000",
          "2014-11-21T00:00:00.000000000",
          "2014-11-22T00:00:00.000000000",
          "2014-11-23T00:00:00.000000000",
          "2014-11-24T00:00:00.000000000",
          "2014-11-25T00:00:00.000000000",
          "2014-11-26T00:00:00.000000000",
          "2014-11-27T00:00:00.000000000",
          "2014-11-28T00:00:00.000000000",
          "2014-11-29T00:00:00.000000000",
          "2014-11-30T00:00:00.000000000",
          "2014-12-01T00:00:00.000000000",
          "2014-12-02T00:00:00.000000000",
          "2014-12-03T00:00:00.000000000",
          "2014-12-04T00:00:00.000000000",
          "2014-12-05T00:00:00.000000000",
          "2014-12-06T00:00:00.000000000",
          "2014-12-07T00:00:00.000000000",
          "2014-12-08T00:00:00.000000000",
          "2014-12-09T00:00:00.000000000",
          "2014-12-10T00:00:00.000000000",
          "2014-12-11T00:00:00.000000000",
          "2014-12-12T00:00:00.000000000",
          "2014-12-13T00:00:00.000000000",
          "2014-12-14T00:00:00.000000000",
          "2014-12-15T00:00:00.000000000",
          "2014-12-16T00:00:00.000000000",
          "2014-12-17T00:00:00.000000000",
          "2014-12-18T00:00:00.000000000",
          "2014-12-19T00:00:00.000000000",
          "2014-12-20T00:00:00.000000000",
          "2014-12-21T00:00:00.000000000",
          "2014-12-22T00:00:00.000000000",
          "2014-12-23T00:00:00.000000000",
          "2014-12-24T00:00:00.000000000",
          "2014-12-25T00:00:00.000000000",
          "2014-12-26T00:00:00.000000000",
          "2014-12-27T00:00:00.000000000",
          "2014-12-28T00:00:00.000000000",
          "2014-12-29T00:00:00.000000000",
          "2014-12-30T00:00:00.000000000",
          "2014-12-31T00:00:00.000000000",
          "2015-01-01T00:00:00.000000000",
          "2015-01-02T00:00:00.000000000",
          "2015-01-03T00:00:00.000000000",
          "2015-01-04T00:00:00.000000000",
          "2015-01-05T00:00:00.000000000",
          "2015-01-06T00:00:00.000000000",
          "2015-01-07T00:00:00.000000000",
          "2015-01-08T00:00:00.000000000",
          "2015-01-09T00:00:00.000000000",
          "2015-01-10T00:00:00.000000000",
          "2015-01-11T00:00:00.000000000",
          "2015-01-12T00:00:00.000000000",
          "2015-01-13T00:00:00.000000000",
          "2015-01-14T00:00:00.000000000",
          "2015-01-15T00:00:00.000000000",
          "2015-01-16T00:00:00.000000000",
          "2015-01-17T00:00:00.000000000",
          "2015-01-18T00:00:00.000000000",
          "2015-01-19T00:00:00.000000000",
          "2015-01-20T00:00:00.000000000",
          "2015-01-21T00:00:00.000000000",
          "2015-01-22T00:00:00.000000000",
          "2015-01-23T00:00:00.000000000",
          "2015-01-24T00:00:00.000000000",
          "2015-01-25T00:00:00.000000000",
          "2015-01-26T00:00:00.000000000",
          "2015-01-27T00:00:00.000000000",
          "2015-01-28T00:00:00.000000000",
          "2015-01-29T00:00:00.000000000",
          "2015-01-30T00:00:00.000000000",
          "2015-01-31T00:00:00.000000000",
          "2015-02-01T00:00:00.000000000",
          "2015-02-02T00:00:00.000000000",
          "2015-02-03T00:00:00.000000000",
          "2015-02-04T00:00:00.000000000",
          "2015-02-05T00:00:00.000000000",
          "2015-02-06T00:00:00.000000000",
          "2015-02-07T00:00:00.000000000",
          "2015-02-08T00:00:00.000000000",
          "2015-02-09T00:00:00.000000000",
          "2015-02-10T00:00:00.000000000",
          "2015-02-11T00:00:00.000000000",
          "2015-02-12T00:00:00.000000000",
          "2015-02-13T00:00:00.000000000",
          "2015-02-14T00:00:00.000000000",
          "2015-02-15T00:00:00.000000000",
          "2015-02-16T00:00:00.000000000",
          "2015-02-17T00:00:00.000000000",
          "2015-02-18T00:00:00.000000000",
          "2015-02-19T00:00:00.000000000",
          "2015-02-20T00:00:00.000000000",
          "2015-02-21T00:00:00.000000000",
          "2015-02-22T00:00:00.000000000",
          "2015-02-23T00:00:00.000000000",
          "2015-02-24T00:00:00.000000000",
          "2015-02-25T00:00:00.000000000",
          "2015-02-26T00:00:00.000000000",
          "2015-02-27T00:00:00.000000000",
          "2015-02-28T00:00:00.000000000",
          "2015-03-01T00:00:00.000000000",
          "2015-03-02T00:00:00.000000000",
          "2015-03-03T00:00:00.000000000",
          "2015-03-04T00:00:00.000000000",
          "2015-03-05T00:00:00.000000000",
          "2015-03-06T00:00:00.000000000",
          "2015-03-07T00:00:00.000000000",
          "2015-03-08T00:00:00.000000000",
          "2015-03-09T00:00:00.000000000",
          "2015-03-10T00:00:00.000000000",
          "2015-03-11T00:00:00.000000000",
          "2015-03-12T00:00:00.000000000",
          "2015-03-13T00:00:00.000000000",
          "2015-03-14T00:00:00.000000000",
          "2015-03-15T00:00:00.000000000",
          "2015-03-16T00:00:00.000000000",
          "2015-03-17T00:00:00.000000000",
          "2015-03-18T00:00:00.000000000",
          "2015-03-19T00:00:00.000000000",
          "2015-03-20T00:00:00.000000000",
          "2015-03-21T00:00:00.000000000",
          "2015-03-22T00:00:00.000000000",
          "2015-03-23T00:00:00.000000000",
          "2015-03-24T00:00:00.000000000",
          "2015-03-25T00:00:00.000000000",
          "2015-03-26T00:00:00.000000000",
          "2015-03-27T00:00:00.000000000",
          "2015-03-28T00:00:00.000000000",
          "2015-03-29T00:00:00.000000000",
          "2015-03-30T00:00:00.000000000",
          "2015-03-31T00:00:00.000000000",
          "2015-04-01T00:00:00.000000000",
          "2015-04-02T00:00:00.000000000",
          "2015-04-03T00:00:00.000000000",
          "2015-04-04T00:00:00.000000000",
          "2015-04-05T00:00:00.000000000",
          "2015-04-06T00:00:00.000000000",
          "2015-04-07T00:00:00.000000000",
          "2015-04-08T00:00:00.000000000",
          "2015-04-09T00:00:00.000000000",
          "2015-04-10T00:00:00.000000000",
          "2015-04-11T00:00:00.000000000",
          "2015-04-12T00:00:00.000000000",
          "2015-04-13T00:00:00.000000000",
          "2015-04-14T00:00:00.000000000",
          "2015-04-15T00:00:00.000000000",
          "2015-04-16T00:00:00.000000000",
          "2015-04-17T00:00:00.000000000",
          "2015-04-18T00:00:00.000000000",
          "2015-04-19T00:00:00.000000000",
          "2015-04-20T00:00:00.000000000",
          "2015-04-21T00:00:00.000000000",
          "2015-04-22T00:00:00.000000000",
          "2015-04-23T00:00:00.000000000",
          "2015-04-24T00:00:00.000000000",
          "2015-04-25T00:00:00.000000000",
          "2015-04-26T00:00:00.000000000",
          "2015-04-27T00:00:00.000000000",
          "2015-04-28T00:00:00.000000000",
          "2015-04-29T00:00:00.000000000",
          "2015-04-30T00:00:00.000000000",
          "2015-05-01T00:00:00.000000000",
          "2015-05-02T00:00:00.000000000",
          "2015-05-03T00:00:00.000000000",
          "2015-05-04T00:00:00.000000000",
          "2015-05-05T00:00:00.000000000",
          "2015-05-06T00:00:00.000000000",
          "2015-05-07T00:00:00.000000000",
          "2015-05-08T00:00:00.000000000",
          "2015-05-09T00:00:00.000000000",
          "2015-05-10T00:00:00.000000000",
          "2015-05-11T00:00:00.000000000",
          "2015-05-12T00:00:00.000000000",
          "2015-05-13T00:00:00.000000000",
          "2015-05-14T00:00:00.000000000",
          "2015-05-15T00:00:00.000000000",
          "2015-05-16T00:00:00.000000000",
          "2015-05-17T00:00:00.000000000",
          "2015-05-18T00:00:00.000000000",
          "2015-05-19T00:00:00.000000000",
          "2015-05-20T00:00:00.000000000",
          "2015-05-21T00:00:00.000000000",
          "2015-05-22T00:00:00.000000000",
          "2015-05-23T00:00:00.000000000",
          "2015-05-24T00:00:00.000000000",
          "2015-05-25T00:00:00.000000000",
          "2015-05-26T00:00:00.000000000",
          "2015-05-27T00:00:00.000000000",
          "2015-05-28T00:00:00.000000000",
          "2015-05-29T00:00:00.000000000",
          "2015-05-30T00:00:00.000000000",
          "2015-05-31T00:00:00.000000000",
          "2015-06-01T00:00:00.000000000",
          "2015-06-02T00:00:00.000000000",
          "2015-06-03T00:00:00.000000000",
          "2015-06-04T00:00:00.000000000",
          "2015-06-05T00:00:00.000000000",
          "2015-06-06T00:00:00.000000000",
          "2015-06-07T00:00:00.000000000",
          "2015-06-08T00:00:00.000000000",
          "2015-06-09T00:00:00.000000000",
          "2015-06-10T00:00:00.000000000",
          "2015-06-11T00:00:00.000000000",
          "2015-06-12T00:00:00.000000000",
          "2015-06-13T00:00:00.000000000",
          "2015-06-14T00:00:00.000000000",
          "2015-06-15T00:00:00.000000000",
          "2015-06-16T00:00:00.000000000",
          "2015-06-17T00:00:00.000000000",
          "2015-06-18T00:00:00.000000000",
          "2015-06-19T00:00:00.000000000",
          "2015-06-20T00:00:00.000000000",
          "2015-06-21T00:00:00.000000000",
          "2015-06-22T00:00:00.000000000",
          "2015-06-23T00:00:00.000000000",
          "2015-06-24T00:00:00.000000000",
          "2015-06-25T00:00:00.000000000",
          "2015-06-26T00:00:00.000000000",
          "2015-06-27T00:00:00.000000000",
          "2015-06-28T00:00:00.000000000",
          "2015-06-29T00:00:00.000000000",
          "2015-06-30T00:00:00.000000000",
          "2015-07-01T00:00:00.000000000",
          "2015-07-02T00:00:00.000000000",
          "2015-07-03T00:00:00.000000000",
          "2015-07-04T00:00:00.000000000",
          "2015-07-05T00:00:00.000000000",
          "2015-07-06T00:00:00.000000000",
          "2015-07-07T00:00:00.000000000",
          "2015-07-08T00:00:00.000000000",
          "2015-07-09T00:00:00.000000000",
          "2015-07-10T00:00:00.000000000",
          "2015-07-11T00:00:00.000000000",
          "2015-07-12T00:00:00.000000000",
          "2015-07-13T00:00:00.000000000",
          "2015-07-14T00:00:00.000000000",
          "2015-07-15T00:00:00.000000000",
          "2015-07-16T00:00:00.000000000",
          "2015-07-17T00:00:00.000000000",
          "2015-07-18T00:00:00.000000000",
          "2015-07-19T00:00:00.000000000",
          "2015-07-20T00:00:00.000000000",
          "2015-07-21T00:00:00.000000000",
          "2015-07-22T00:00:00.000000000",
          "2015-07-23T00:00:00.000000000",
          "2015-07-24T00:00:00.000000000",
          "2015-07-25T00:00:00.000000000",
          "2015-07-26T00:00:00.000000000",
          "2015-07-27T00:00:00.000000000",
          "2015-07-28T00:00:00.000000000",
          "2015-07-29T00:00:00.000000000",
          "2015-07-30T00:00:00.000000000",
          "2015-07-31T00:00:00.000000000",
          "2015-08-01T00:00:00.000000000",
          "2015-08-02T00:00:00.000000000",
          "2015-08-03T00:00:00.000000000",
          "2015-08-04T00:00:00.000000000",
          "2015-08-05T00:00:00.000000000",
          "2015-08-06T00:00:00.000000000",
          "2015-08-07T00:00:00.000000000",
          "2015-08-08T00:00:00.000000000",
          "2015-08-09T00:00:00.000000000",
          "2015-08-10T00:00:00.000000000",
          "2015-08-11T00:00:00.000000000",
          "2015-08-12T00:00:00.000000000",
          "2015-08-13T00:00:00.000000000",
          "2015-08-14T00:00:00.000000000",
          "2015-08-15T00:00:00.000000000",
          "2015-08-16T00:00:00.000000000",
          "2015-08-17T00:00:00.000000000",
          "2015-08-18T00:00:00.000000000",
          "2015-08-19T00:00:00.000000000",
          "2015-08-20T00:00:00.000000000",
          "2015-08-21T00:00:00.000000000",
          "2015-08-22T00:00:00.000000000",
          "2015-08-23T00:00:00.000000000",
          "2015-08-24T00:00:00.000000000",
          "2015-08-25T00:00:00.000000000",
          "2015-08-26T00:00:00.000000000",
          "2015-08-27T00:00:00.000000000",
          "2015-08-28T00:00:00.000000000",
          "2015-08-29T00:00:00.000000000",
          "2015-08-30T00:00:00.000000000",
          "2015-08-31T00:00:00.000000000",
          "2015-09-01T00:00:00.000000000",
          "2015-09-02T00:00:00.000000000",
          "2015-09-03T00:00:00.000000000",
          "2015-09-04T00:00:00.000000000",
          "2015-09-05T00:00:00.000000000",
          "2015-09-06T00:00:00.000000000",
          "2015-09-07T00:00:00.000000000",
          "2015-09-08T00:00:00.000000000",
          "2015-09-09T00:00:00.000000000",
          "2015-09-10T00:00:00.000000000",
          "2015-09-11T00:00:00.000000000",
          "2015-09-12T00:00:00.000000000",
          "2015-09-13T00:00:00.000000000",
          "2015-09-14T00:00:00.000000000",
          "2015-09-15T00:00:00.000000000",
          "2015-09-16T00:00:00.000000000",
          "2015-09-17T00:00:00.000000000",
          "2015-09-18T00:00:00.000000000",
          "2015-09-19T00:00:00.000000000",
          "2015-09-20T00:00:00.000000000",
          "2015-09-21T00:00:00.000000000",
          "2015-09-22T00:00:00.000000000",
          "2015-09-23T00:00:00.000000000",
          "2015-09-24T00:00:00.000000000",
          "2015-09-25T00:00:00.000000000",
          "2015-09-26T00:00:00.000000000",
          "2015-09-27T00:00:00.000000000",
          "2015-09-28T00:00:00.000000000",
          "2015-09-29T00:00:00.000000000",
          "2015-09-30T00:00:00.000000000",
          "2015-10-01T00:00:00.000000000",
          "2015-10-02T00:00:00.000000000",
          "2015-10-03T00:00:00.000000000",
          "2015-10-04T00:00:00.000000000",
          "2015-10-05T00:00:00.000000000",
          "2015-10-06T00:00:00.000000000",
          "2015-10-07T00:00:00.000000000",
          "2015-10-08T00:00:00.000000000",
          "2015-10-09T00:00:00.000000000",
          "2015-10-10T00:00:00.000000000",
          "2015-10-11T00:00:00.000000000",
          "2015-10-12T00:00:00.000000000",
          "2015-10-13T00:00:00.000000000",
          "2015-10-14T00:00:00.000000000",
          "2015-10-15T00:00:00.000000000",
          "2015-10-16T00:00:00.000000000",
          "2015-10-17T00:00:00.000000000",
          "2015-10-18T00:00:00.000000000",
          "2015-10-19T00:00:00.000000000",
          "2015-10-20T00:00:00.000000000",
          "2015-10-21T00:00:00.000000000",
          "2015-10-22T00:00:00.000000000",
          "2015-10-23T00:00:00.000000000",
          "2015-10-24T00:00:00.000000000",
          "2015-10-25T00:00:00.000000000",
          "2015-10-26T00:00:00.000000000",
          "2015-10-27T00:00:00.000000000",
          "2015-10-28T00:00:00.000000000",
          "2015-10-29T00:00:00.000000000",
          "2015-10-30T00:00:00.000000000",
          "2015-10-31T00:00:00.000000000",
          "2015-11-01T00:00:00.000000000",
          "2015-11-02T00:00:00.000000000",
          "2015-11-03T00:00:00.000000000",
          "2015-11-04T00:00:00.000000000",
          "2015-11-05T00:00:00.000000000",
          "2015-11-06T00:00:00.000000000",
          "2015-11-07T00:00:00.000000000",
          "2015-11-08T00:00:00.000000000",
          "2015-11-09T00:00:00.000000000",
          "2015-11-10T00:00:00.000000000",
          "2015-11-11T00:00:00.000000000",
          "2015-11-12T00:00:00.000000000",
          "2015-11-13T00:00:00.000000000",
          "2015-11-14T00:00:00.000000000",
          "2015-11-15T00:00:00.000000000",
          "2015-11-16T00:00:00.000000000",
          "2015-11-17T00:00:00.000000000",
          "2015-11-18T00:00:00.000000000",
          "2015-11-19T00:00:00.000000000",
          "2015-11-20T00:00:00.000000000",
          "2015-11-21T00:00:00.000000000",
          "2015-11-22T00:00:00.000000000",
          "2015-11-23T00:00:00.000000000",
          "2015-11-24T00:00:00.000000000",
          "2015-11-25T00:00:00.000000000",
          "2015-11-26T00:00:00.000000000",
          "2015-11-27T00:00:00.000000000",
          "2015-11-28T00:00:00.000000000",
          "2015-11-29T00:00:00.000000000",
          "2015-11-30T00:00:00.000000000",
          "2015-12-01T00:00:00.000000000",
          "2015-12-02T00:00:00.000000000",
          "2015-12-03T00:00:00.000000000",
          "2015-12-04T00:00:00.000000000",
          "2015-12-05T00:00:00.000000000",
          "2015-12-06T00:00:00.000000000",
          "2015-12-07T00:00:00.000000000",
          "2015-12-08T00:00:00.000000000",
          "2015-12-09T00:00:00.000000000",
          "2015-12-10T00:00:00.000000000",
          "2015-12-11T00:00:00.000000000",
          "2015-12-12T00:00:00.000000000",
          "2015-12-13T00:00:00.000000000",
          "2015-12-14T00:00:00.000000000",
          "2015-12-15T00:00:00.000000000",
          "2015-12-16T00:00:00.000000000",
          "2015-12-17T00:00:00.000000000",
          "2015-12-18T00:00:00.000000000",
          "2015-12-19T00:00:00.000000000",
          "2015-12-20T00:00:00.000000000",
          "2015-12-21T00:00:00.000000000",
          "2015-12-22T00:00:00.000000000",
          "2015-12-23T00:00:00.000000000",
          "2015-12-24T00:00:00.000000000",
          "2015-12-25T00:00:00.000000000",
          "2015-12-26T00:00:00.000000000",
          "2015-12-27T00:00:00.000000000",
          "2015-12-28T00:00:00.000000000",
          "2015-12-29T00:00:00.000000000",
          "2015-12-30T00:00:00.000000000",
          "2015-12-31T00:00:00.000000000",
          "2016-01-01T00:00:00.000000000",
          "2016-01-02T00:00:00.000000000",
          "2016-01-03T00:00:00.000000000",
          "2016-01-04T00:00:00.000000000",
          "2016-01-05T00:00:00.000000000",
          "2016-01-06T00:00:00.000000000",
          "2016-01-07T00:00:00.000000000",
          "2016-01-08T00:00:00.000000000",
          "2016-01-09T00:00:00.000000000",
          "2016-01-10T00:00:00.000000000",
          "2016-01-11T00:00:00.000000000",
          "2016-01-12T00:00:00.000000000",
          "2016-01-13T00:00:00.000000000",
          "2016-01-14T00:00:00.000000000",
          "2016-01-15T00:00:00.000000000",
          "2016-01-16T00:00:00.000000000",
          "2016-01-17T00:00:00.000000000",
          "2016-01-18T00:00:00.000000000",
          "2016-01-19T00:00:00.000000000",
          "2016-01-20T00:00:00.000000000",
          "2016-01-21T00:00:00.000000000",
          "2016-01-22T00:00:00.000000000",
          "2016-01-23T00:00:00.000000000",
          "2016-01-24T00:00:00.000000000",
          "2016-01-25T00:00:00.000000000",
          "2016-01-26T00:00:00.000000000",
          "2016-01-27T00:00:00.000000000",
          "2016-01-28T00:00:00.000000000",
          "2016-01-29T00:00:00.000000000",
          "2016-01-30T00:00:00.000000000",
          "2016-01-31T00:00:00.000000000",
          "2016-02-01T00:00:00.000000000",
          "2016-02-02T00:00:00.000000000",
          "2016-02-03T00:00:00.000000000",
          "2016-02-04T00:00:00.000000000",
          "2016-02-05T00:00:00.000000000",
          "2016-02-06T00:00:00.000000000",
          "2016-02-07T00:00:00.000000000",
          "2016-02-08T00:00:00.000000000",
          "2016-02-09T00:00:00.000000000",
          "2016-02-10T00:00:00.000000000",
          "2016-02-11T00:00:00.000000000",
          "2016-02-12T00:00:00.000000000",
          "2016-02-13T00:00:00.000000000",
          "2016-02-14T00:00:00.000000000",
          "2016-02-15T00:00:00.000000000",
          "2016-02-16T00:00:00.000000000",
          "2016-02-17T00:00:00.000000000",
          "2016-02-18T00:00:00.000000000",
          "2016-02-19T00:00:00.000000000",
          "2016-02-20T00:00:00.000000000",
          "2016-02-21T00:00:00.000000000",
          "2016-02-22T00:00:00.000000000",
          "2016-02-23T00:00:00.000000000",
          "2016-02-24T00:00:00.000000000",
          "2016-02-25T00:00:00.000000000",
          "2016-02-26T00:00:00.000000000",
          "2016-02-27T00:00:00.000000000",
          "2016-02-28T00:00:00.000000000",
          "2016-02-29T00:00:00.000000000",
          "2016-03-01T00:00:00.000000000",
          "2016-03-02T00:00:00.000000000",
          "2016-03-03T00:00:00.000000000",
          "2016-03-04T00:00:00.000000000",
          "2016-03-05T00:00:00.000000000",
          "2016-03-06T00:00:00.000000000",
          "2016-03-07T00:00:00.000000000",
          "2016-03-08T00:00:00.000000000",
          "2016-03-09T00:00:00.000000000",
          "2016-03-10T00:00:00.000000000",
          "2016-03-11T00:00:00.000000000",
          "2016-03-12T00:00:00.000000000",
          "2016-03-13T00:00:00.000000000",
          "2016-03-14T00:00:00.000000000",
          "2016-03-15T00:00:00.000000000",
          "2016-03-16T00:00:00.000000000",
          "2016-03-17T00:00:00.000000000",
          "2016-03-18T00:00:00.000000000",
          "2016-03-19T00:00:00.000000000",
          "2016-03-20T00:00:00.000000000",
          "2016-03-21T00:00:00.000000000",
          "2016-03-22T00:00:00.000000000",
          "2016-03-23T00:00:00.000000000",
          "2016-03-24T00:00:00.000000000",
          "2016-03-25T00:00:00.000000000",
          "2016-03-26T00:00:00.000000000",
          "2016-03-27T00:00:00.000000000",
          "2016-03-28T00:00:00.000000000",
          "2016-03-29T00:00:00.000000000",
          "2016-03-30T00:00:00.000000000",
          "2016-03-31T00:00:00.000000000",
          "2016-04-01T00:00:00.000000000",
          "2016-04-02T00:00:00.000000000",
          "2016-04-03T00:00:00.000000000",
          "2016-04-04T00:00:00.000000000",
          "2016-04-05T00:00:00.000000000",
          "2016-04-06T00:00:00.000000000",
          "2016-04-07T00:00:00.000000000",
          "2016-04-08T00:00:00.000000000",
          "2016-04-09T00:00:00.000000000",
          "2016-04-10T00:00:00.000000000",
          "2016-04-11T00:00:00.000000000",
          "2016-04-12T00:00:00.000000000",
          "2016-04-13T00:00:00.000000000",
          "2016-04-14T00:00:00.000000000",
          "2016-04-15T00:00:00.000000000",
          "2016-04-16T00:00:00.000000000",
          "2016-04-17T00:00:00.000000000",
          "2016-04-18T00:00:00.000000000",
          "2016-04-19T00:00:00.000000000",
          "2016-04-20T00:00:00.000000000",
          "2016-04-21T00:00:00.000000000",
          "2016-04-22T00:00:00.000000000",
          "2016-04-23T00:00:00.000000000",
          "2016-04-24T00:00:00.000000000",
          "2016-04-25T00:00:00.000000000",
          "2016-04-26T00:00:00.000000000",
          "2016-04-27T00:00:00.000000000",
          "2016-04-28T00:00:00.000000000",
          "2016-04-29T00:00:00.000000000",
          "2016-04-30T00:00:00.000000000",
          "2016-05-01T00:00:00.000000000",
          "2016-05-02T00:00:00.000000000",
          "2016-05-03T00:00:00.000000000",
          "2016-05-04T00:00:00.000000000",
          "2016-05-05T00:00:00.000000000",
          "2016-05-06T00:00:00.000000000",
          "2016-05-07T00:00:00.000000000",
          "2016-05-08T00:00:00.000000000",
          "2016-05-09T00:00:00.000000000",
          "2016-05-10T00:00:00.000000000",
          "2016-05-11T00:00:00.000000000",
          "2016-05-12T00:00:00.000000000",
          "2016-05-13T00:00:00.000000000",
          "2016-05-14T00:00:00.000000000",
          "2016-05-15T00:00:00.000000000",
          "2016-05-16T00:00:00.000000000",
          "2016-05-17T00:00:00.000000000",
          "2016-05-18T00:00:00.000000000",
          "2016-05-19T00:00:00.000000000",
          "2016-05-20T00:00:00.000000000",
          "2016-05-21T00:00:00.000000000",
          "2016-05-22T00:00:00.000000000",
          "2016-05-23T00:00:00.000000000",
          "2016-05-24T00:00:00.000000000",
          "2016-05-25T00:00:00.000000000",
          "2016-05-26T00:00:00.000000000",
          "2016-05-27T00:00:00.000000000",
          "2016-05-28T00:00:00.000000000",
          "2016-05-29T00:00:00.000000000",
          "2016-05-30T00:00:00.000000000",
          "2016-05-31T00:00:00.000000000",
          "2016-06-01T00:00:00.000000000",
          "2016-06-02T00:00:00.000000000",
          "2016-06-03T00:00:00.000000000",
          "2016-06-04T00:00:00.000000000",
          "2016-06-05T00:00:00.000000000",
          "2016-06-06T00:00:00.000000000",
          "2016-06-07T00:00:00.000000000",
          "2016-06-08T00:00:00.000000000",
          "2016-06-09T00:00:00.000000000",
          "2016-06-10T00:00:00.000000000",
          "2016-06-11T00:00:00.000000000",
          "2016-06-12T00:00:00.000000000",
          "2016-06-13T00:00:00.000000000",
          "2016-06-14T00:00:00.000000000",
          "2016-06-15T00:00:00.000000000",
          "2016-06-16T00:00:00.000000000",
          "2016-06-17T00:00:00.000000000",
          "2016-06-18T00:00:00.000000000",
          "2016-06-19T00:00:00.000000000",
          "2016-06-20T00:00:00.000000000",
          "2016-06-21T00:00:00.000000000",
          "2016-06-22T00:00:00.000000000",
          "2016-06-23T00:00:00.000000000",
          "2016-06-24T00:00:00.000000000",
          "2016-06-25T00:00:00.000000000",
          "2016-06-26T00:00:00.000000000",
          "2016-06-27T00:00:00.000000000",
          "2016-06-28T00:00:00.000000000",
          "2016-06-29T00:00:00.000000000",
          "2016-06-30T00:00:00.000000000",
          "2016-07-01T00:00:00.000000000",
          "2016-07-02T00:00:00.000000000",
          "2016-07-03T00:00:00.000000000",
          "2016-07-04T00:00:00.000000000",
          "2016-07-05T00:00:00.000000000",
          "2016-07-06T00:00:00.000000000",
          "2016-07-07T00:00:00.000000000",
          "2016-07-08T00:00:00.000000000",
          "2016-07-09T00:00:00.000000000",
          "2016-07-10T00:00:00.000000000",
          "2016-07-11T00:00:00.000000000",
          "2016-07-12T00:00:00.000000000",
          "2016-07-13T00:00:00.000000000",
          "2016-07-14T00:00:00.000000000",
          "2016-07-15T00:00:00.000000000",
          "2016-07-16T00:00:00.000000000",
          "2016-07-17T00:00:00.000000000",
          "2016-07-18T00:00:00.000000000",
          "2016-07-19T00:00:00.000000000",
          "2016-07-20T00:00:00.000000000",
          "2016-07-21T00:00:00.000000000",
          "2016-07-22T00:00:00.000000000",
          "2016-07-23T00:00:00.000000000",
          "2016-07-24T00:00:00.000000000",
          "2016-07-25T00:00:00.000000000",
          "2016-07-26T00:00:00.000000000",
          "2016-07-27T00:00:00.000000000",
          "2016-07-28T00:00:00.000000000",
          "2016-07-29T00:00:00.000000000",
          "2016-07-30T00:00:00.000000000",
          "2016-07-31T00:00:00.000000000",
          "2016-08-01T00:00:00.000000000",
          "2016-08-02T00:00:00.000000000",
          "2016-08-03T00:00:00.000000000",
          "2016-08-04T00:00:00.000000000",
          "2016-08-05T00:00:00.000000000",
          "2016-08-06T00:00:00.000000000",
          "2016-08-07T00:00:00.000000000",
          "2016-08-08T00:00:00.000000000",
          "2016-08-09T00:00:00.000000000",
          "2016-08-10T00:00:00.000000000",
          "2016-08-11T00:00:00.000000000",
          "2016-08-12T00:00:00.000000000",
          "2016-08-13T00:00:00.000000000",
          "2016-08-14T00:00:00.000000000",
          "2016-08-15T00:00:00.000000000",
          "2016-08-16T00:00:00.000000000",
          "2016-08-17T00:00:00.000000000",
          "2016-08-18T00:00:00.000000000",
          "2016-08-19T00:00:00.000000000",
          "2016-08-20T00:00:00.000000000",
          "2016-08-21T00:00:00.000000000",
          "2016-08-22T00:00:00.000000000",
          "2016-08-23T00:00:00.000000000",
          "2016-08-24T00:00:00.000000000",
          "2016-08-25T00:00:00.000000000",
          "2016-08-26T00:00:00.000000000",
          "2016-08-27T00:00:00.000000000",
          "2016-08-28T00:00:00.000000000",
          "2016-08-29T00:00:00.000000000",
          "2016-08-30T00:00:00.000000000",
          "2016-08-31T00:00:00.000000000",
          "2016-09-01T00:00:00.000000000",
          "2016-09-02T00:00:00.000000000",
          "2016-09-03T00:00:00.000000000",
          "2016-09-04T00:00:00.000000000",
          "2016-09-05T00:00:00.000000000",
          "2016-09-06T00:00:00.000000000",
          "2016-09-07T00:00:00.000000000",
          "2016-09-08T00:00:00.000000000",
          "2016-09-09T00:00:00.000000000",
          "2016-09-10T00:00:00.000000000",
          "2016-09-11T00:00:00.000000000",
          "2016-09-12T00:00:00.000000000",
          "2016-09-13T00:00:00.000000000",
          "2016-09-14T00:00:00.000000000",
          "2016-09-15T00:00:00.000000000",
          "2016-09-16T00:00:00.000000000",
          "2016-09-17T00:00:00.000000000",
          "2016-09-18T00:00:00.000000000",
          "2016-09-19T00:00:00.000000000",
          "2016-09-20T00:00:00.000000000",
          "2016-09-21T00:00:00.000000000",
          "2016-09-22T00:00:00.000000000",
          "2016-09-23T00:00:00.000000000",
          "2016-09-24T00:00:00.000000000",
          "2016-09-25T00:00:00.000000000",
          "2016-09-26T00:00:00.000000000",
          "2016-09-27T00:00:00.000000000",
          "2016-09-28T00:00:00.000000000",
          "2016-09-29T00:00:00.000000000",
          "2016-09-30T00:00:00.000000000",
          "2016-10-01T00:00:00.000000000",
          "2016-10-02T00:00:00.000000000",
          "2016-10-03T00:00:00.000000000",
          "2016-10-04T00:00:00.000000000",
          "2016-10-05T00:00:00.000000000",
          "2016-10-06T00:00:00.000000000",
          "2016-10-07T00:00:00.000000000",
          "2016-10-08T00:00:00.000000000",
          "2016-10-09T00:00:00.000000000",
          "2016-10-10T00:00:00.000000000",
          "2016-10-11T00:00:00.000000000",
          "2016-10-12T00:00:00.000000000",
          "2016-10-13T00:00:00.000000000",
          "2016-10-14T00:00:00.000000000",
          "2016-10-15T00:00:00.000000000",
          "2016-10-16T00:00:00.000000000",
          "2016-10-17T00:00:00.000000000",
          "2016-10-18T00:00:00.000000000",
          "2016-10-19T00:00:00.000000000",
          "2016-10-20T00:00:00.000000000",
          "2016-10-21T00:00:00.000000000",
          "2016-10-22T00:00:00.000000000",
          "2016-10-23T00:00:00.000000000",
          "2016-10-24T00:00:00.000000000",
          "2016-10-25T00:00:00.000000000",
          "2016-10-26T00:00:00.000000000",
          "2016-10-27T00:00:00.000000000",
          "2016-10-28T00:00:00.000000000",
          "2016-10-29T00:00:00.000000000",
          "2016-10-30T00:00:00.000000000",
          "2016-10-31T00:00:00.000000000",
          "2016-11-01T00:00:00.000000000",
          "2016-11-02T00:00:00.000000000",
          "2016-11-03T00:00:00.000000000",
          "2016-11-04T00:00:00.000000000",
          "2016-11-05T00:00:00.000000000",
          "2016-11-06T00:00:00.000000000",
          "2016-11-07T00:00:00.000000000",
          "2016-11-08T00:00:00.000000000",
          "2016-11-09T00:00:00.000000000",
          "2016-11-10T00:00:00.000000000",
          "2016-11-11T00:00:00.000000000",
          "2016-11-12T00:00:00.000000000",
          "2016-11-13T00:00:00.000000000",
          "2016-11-14T00:00:00.000000000",
          "2016-11-15T00:00:00.000000000",
          "2016-11-16T00:00:00.000000000",
          "2016-11-17T00:00:00.000000000",
          "2016-11-18T00:00:00.000000000",
          "2016-11-19T00:00:00.000000000",
          "2016-11-20T00:00:00.000000000",
          "2016-11-21T00:00:00.000000000",
          "2016-11-22T00:00:00.000000000",
          "2016-11-23T00:00:00.000000000",
          "2016-11-24T00:00:00.000000000",
          "2016-11-25T00:00:00.000000000",
          "2016-11-26T00:00:00.000000000",
          "2016-11-27T00:00:00.000000000",
          "2016-11-28T00:00:00.000000000",
          "2016-11-29T00:00:00.000000000",
          "2016-11-30T00:00:00.000000000",
          "2016-12-01T00:00:00.000000000",
          "2016-12-02T00:00:00.000000000",
          "2016-12-03T00:00:00.000000000",
          "2016-12-04T00:00:00.000000000",
          "2016-12-05T00:00:00.000000000",
          "2016-12-06T00:00:00.000000000",
          "2016-12-07T00:00:00.000000000",
          "2016-12-08T00:00:00.000000000",
          "2016-12-09T00:00:00.000000000",
          "2016-12-10T00:00:00.000000000",
          "2016-12-11T00:00:00.000000000",
          "2016-12-12T00:00:00.000000000",
          "2016-12-13T00:00:00.000000000",
          "2016-12-14T00:00:00.000000000",
          "2016-12-15T00:00:00.000000000",
          "2016-12-16T00:00:00.000000000",
          "2016-12-17T00:00:00.000000000",
          "2016-12-18T00:00:00.000000000",
          "2016-12-19T00:00:00.000000000",
          "2016-12-20T00:00:00.000000000",
          "2016-12-21T00:00:00.000000000",
          "2016-12-22T00:00:00.000000000",
          "2016-12-23T00:00:00.000000000",
          "2016-12-24T00:00:00.000000000",
          "2016-12-25T00:00:00.000000000",
          "2016-12-26T00:00:00.000000000",
          "2016-12-27T00:00:00.000000000",
          "2016-12-28T00:00:00.000000000",
          "2016-12-29T00:00:00.000000000",
          "2016-12-30T00:00:00.000000000",
          "2016-12-31T00:00:00.000000000",
          "2017-01-01T00:00:00.000000000"
         ],
         "xaxis": "x",
         "y": {
          "bdata": "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",
          "dtype": "f8"
         },
         "yaxis": "y"
        }
       ],
       "layout": {
        "legend": {
         "tracegroupgap": 0
        },
        "template": {
         "data": {
          "bar": [
           {
            "error_x": {
             "color": "#2a3f5f"
            },
            "error_y": {
             "color": "#2a3f5f"
            },
            "marker": {
             "line": {
              "color": "#E5ECF6",
              "width": 0.5
             },
             "pattern": {
              "fillmode": "overlay",
              "size": 10,
              "solidity": 0.2
             }
            },
            "type": "bar"
           }
          ],
          "barpolar": [
           {
            "marker": {
             "line": {
              "color": "#E5ECF6",
              "width": 0.5
             },
             "pattern": {
              "fillmode": "overlay",
              "size": 10,
              "solidity": 0.2
             }
            },
            "type": "barpolar"
           }
          ],
          "carpet": [
           {
            "aaxis": {
             "endlinecolor": "#2a3f5f",
             "gridcolor": "white",
             "linecolor": "white",
             "minorgridcolor": "white",
             "startlinecolor": "#2a3f5f"
            },
            "baxis": {
             "endlinecolor": "#2a3f5f",
             "gridcolor": "white",
             "linecolor": "white",
             "minorgridcolor": "white",
             "startlinecolor": "#2a3f5f"
            },
            "type": "carpet"
           }
          ],
          "choropleth": [
           {
            "colorbar": {
             "outlinewidth": 0,
             "ticks": ""
            },
            "type": "choropleth"
           }
          ],
          "contour": [
           {
            "colorbar": {
             "outlinewidth": 0,
             "ticks": ""
            },
            "colorscale": [
             [
              0,
              "#0d0887"
             ],
             [
              0.1111111111111111,
              "#46039f"
             ],
             [
              0.2222222222222222,
              "#7201a8"
             ],
             [
              0.3333333333333333,
              "#9c179e"
             ],
             [
              0.4444444444444444,
              "#bd3786"
             ],
             [
              0.5555555555555556,
              "#d8576b"
             ],
             [
              0.6666666666666666,
              "#ed7953"
             ],
             [
              0.7777777777777778,
              "#fb9f3a"
             ],
             [
              0.8888888888888888,
              "#fdca26"
             ],
             [
              1,
              "#f0f921"
             ]
            ],
            "type": "contour"
           }
          ],
          "contourcarpet": [
           {
            "colorbar": {
             "outlinewidth": 0,
             "ticks": ""
            },
            "type": "contourcarpet"
           }
          ],
          "heatmap": [
           {
            "colorbar": {
             "outlinewidth": 0,
             "ticks": ""
            },
            "colorscale": [
             [
              0,
              "#0d0887"
             ],
             [
              0.1111111111111111,
              "#46039f"
             ],
             [
              0.2222222222222222,
              "#7201a8"
             ],
             [
              0.3333333333333333,
              "#9c179e"
             ],
             [
              0.4444444444444444,
              "#bd3786"
             ],
             [
              0.5555555555555556,
              "#d8576b"
             ],
             [
              0.6666666666666666,
              "#ed7953"
             ],
             [
              0.7777777777777778,
              "#fb9f3a"
             ],
             [
              0.8888888888888888,
              "#fdca26"
             ],
             [
              1,
              "#f0f921"
             ]
            ],
            "type": "heatmap"
           }
          ],
          "histogram": [
           {
            "marker": {
             "pattern": {
              "fillmode": "overlay",
              "size": 10,
              "solidity": 0.2
             }
            },
            "type": "histogram"
           }
          ],
          "histogram2d": [
           {
            "colorbar": {
             "outlinewidth": 0,
             "ticks": ""
            },
            "colorscale": [
             [
              0,
              "#0d0887"
             ],
             [
              0.1111111111111111,
              "#46039f"
             ],
             [
              0.2222222222222222,
              "#7201a8"
             ],
             [
              0.3333333333333333,
              "#9c179e"
             ],
             [
              0.4444444444444444,
              "#bd3786"
             ],
             [
              0.5555555555555556,
              "#d8576b"
             ],
             [
              0.6666666666666666,
              "#ed7953"
             ],
             [
              0.7777777777777778,
              "#fb9f3a"
             ],
             [
              0.8888888888888888,
              "#fdca26"
             ],
             [
              1,
              "#f0f921"
             ]
            ],
            "type": "histogram2d"
           }
          ],
          "histogram2dcontour": [
           {
            "colorbar": {
             "outlinewidth": 0,
             "ticks": ""
            },
            "colorscale": [
             [
              0,
              "#0d0887"
             ],
             [
              0.1111111111111111,
              "#46039f"
             ],
             [
              0.2222222222222222,
              "#7201a8"
             ],
             [
              0.3333333333333333,
              "#9c179e"
             ],
             [
              0.4444444444444444,
              "#bd3786"
             ],
             [
              0.5555555555555556,
              "#d8576b"
             ],
             [
              0.6666666666666666,
              "#ed7953"
             ],
             [
              0.7777777777777778,
              "#fb9f3a"
             ],
             [
              0.8888888888888888,
              "#fdca26"
             ],
             [
              1,
              "#f0f921"
             ]
            ],
            "type": "histogram2dcontour"
           }
          ],
          "mesh3d": [
           {
            "colorbar": {
             "outlinewidth": 0,
             "ticks": ""
            },
            "type": "mesh3d"
           }
          ],
          "parcoords": [
           {
            "line": {
             "colorbar": {
              "outlinewidth": 0,
              "ticks": ""
             }
            },
            "type": "parcoords"
           }
          ],
          "pie": [
           {
            "automargin": true,
            "type": "pie"
           }
          ],
          "scatter": [
           {
            "fillpattern": {
             "fillmode": "overlay",
             "size": 10,
             "solidity": 0.2
            },
            "type": "scatter"
           }
          ],
          "scatter3d": [
           {
            "line": {
             "colorbar": {
              "outlinewidth": 0,
              "ticks": ""
             }
            },
            "marker": {
             "colorbar": {
              "outlinewidth": 0,
              "ticks": ""
             }
            },
            "type": "scatter3d"
           }
          ],
          "scattercarpet": [
           {
            "marker": {
             "colorbar": {
              "outlinewidth": 0,
              "ticks": ""
             }
            },
            "type": "scattercarpet"
           }
          ],
          "scattergeo": [
           {
            "marker": {
             "colorbar": {
              "outlinewidth": 0,
              "ticks": ""
             }
            },
            "type": "scattergeo"
           }
          ],
          "scattergl": [
           {
            "marker": {
             "colorbar": {
              "outlinewidth": 0,
              "ticks": ""
             }
            },
            "type": "scattergl"
           }
          ],
          "scattermap": [
           {
            "marker": {
             "colorbar": {
              "outlinewidth": 0,
              "ticks": ""
             }
            },
            "type": "scattermap"
           }
          ],
          "scattermapbox": [
           {
            "marker": {
             "colorbar": {
              "outlinewidth": 0,
              "ticks": ""
             }
            },
            "type": "scattermapbox"
           }
          ],
          "scatterpolar": [
           {
            "marker": {
             "colorbar": {
              "outlinewidth": 0,
              "ticks": ""
             }
            },
            "type": "scatterpolar"
           }
          ],
          "scatterpolargl": [
           {
            "marker": {
             "colorbar": {
              "outlinewidth": 0,
              "ticks": ""
             }
            },
            "type": "scatterpolargl"
           }
          ],
          "scatterternary": [
           {
            "marker": {
             "colorbar": {
              "outlinewidth": 0,
              "ticks": ""
             }
            },
            "type": "scatterternary"
           }
          ],
          "surface": [
           {
            "colorbar": {
             "outlinewidth": 0,
             "ticks": ""
            },
            "colorscale": [
             [
              0,
              "#0d0887"
             ],
             [
              0.1111111111111111,
              "#46039f"
             ],
             [
              0.2222222222222222,
              "#7201a8"
             ],
             [
              0.3333333333333333,
              "#9c179e"
             ],
             [
              0.4444444444444444,
              "#bd3786"
             ],
             [
              0.5555555555555556,
              "#d8576b"
             ],
             [
              0.6666666666666666,
              "#ed7953"
             ],
             [
              0.7777777777777778,
              "#fb9f3a"
             ],
             [
              0.8888888888888888,
              "#fdca26"
             ],
             [
              1,
              "#f0f921"
             ]
            ],
            "type": "surface"
           }
          ],
          "table": [
           {
            "cells": {
             "fill": {
              "color": "#EBF0F8"
             },
             "line": {
              "color": "white"
             }
            },
            "header": {
             "fill": {
              "color": "#C8D4E3"
             },
             "line": {
              "color": "white"
             }
            },
            "type": "table"
           }
          ]
         },
         "layout": {
          "annotationdefaults": {
           "arrowcolor": "#2a3f5f",
           "arrowhead": 0,
           "arrowwidth": 1
          },
          "autotypenumbers": "strict",
          "coloraxis": {
           "colorbar": {
            "outlinewidth": 0,
            "ticks": ""
           }
          },
          "colorscale": {
           "diverging": [
            [
             0,
             "#8e0152"
            ],
            [
             0.1,
             "#c51b7d"
            ],
            [
             0.2,
             "#de77ae"
            ],
            [
             0.3,
             "#f1b6da"
            ],
            [
             0.4,
             "#fde0ef"
            ],
            [
             0.5,
             "#f7f7f7"
            ],
            [
             0.6,
             "#e6f5d0"
            ],
            [
             0.7,
             "#b8e186"
            ],
            [
             0.8,
             "#7fbc41"
            ],
            [
             0.9,
             "#4d9221"
            ],
            [
             1,
             "#276419"
            ]
           ],
           "sequential": [
            [
             0,
             "#0d0887"
            ],
            [
             0.1111111111111111,
             "#46039f"
            ],
            [
             0.2222222222222222,
             "#7201a8"
            ],
            [
             0.3333333333333333,
             "#9c179e"
            ],
            [
             0.4444444444444444,
             "#bd3786"
            ],
            [
             0.5555555555555556,
             "#d8576b"
            ],
            [
             0.6666666666666666,
             "#ed7953"
            ],
            [
             0.7777777777777778,
             "#fb9f3a"
            ],
            [
             0.8888888888888888,
             "#fdca26"
            ],
            [
             1,
             "#f0f921"
            ]
           ],
           "sequentialminus": [
            [
             0,
             "#0d0887"
            ],
            [
             0.1111111111111111,
             "#46039f"
            ],
            [
             0.2222222222222222,
             "#7201a8"
            ],
            [
             0.3333333333333333,
             "#9c179e"
            ],
            [
             0.4444444444444444,
             "#bd3786"
            ],
            [
             0.5555555555555556,
             "#d8576b"
            ],
            [
             0.6666666666666666,
             "#ed7953"
            ],
            [
             0.7777777777777778,
             "#fb9f3a"
            ],
            [
             0.8888888888888888,
             "#fdca26"
            ],
            [
             1,
             "#f0f921"
            ]
           ]
          },
          "colorway": [
           "#636efa",
           "#EF553B",
           "#00cc96",
           "#ab63fa",
           "#FFA15A",
           "#19d3f3",
           "#FF6692",
           "#B6E880",
           "#FF97FF",
           "#FECB52"
          ],
          "font": {
           "color": "#2a3f5f"
          },
          "geo": {
           "bgcolor": "white",
           "lakecolor": "white",
           "landcolor": "#E5ECF6",
           "showlakes": true,
           "showland": true,
           "subunitcolor": "white"
          },
          "hoverlabel": {
           "align": "left"
          },
          "hovermode": "closest",
          "mapbox": {
           "style": "light"
          },
          "paper_bgcolor": "white",
          "plot_bgcolor": "#E5ECF6",
          "polar": {
           "angularaxis": {
            "gridcolor": "white",
            "linecolor": "white",
            "ticks": ""
           },
           "bgcolor": "#E5ECF6",
           "radialaxis": {
            "gridcolor": "white",
            "linecolor": "white",
            "ticks": ""
           }
          },
          "scene": {
           "xaxis": {
            "backgroundcolor": "#E5ECF6",
            "gridcolor": "white",
            "gridwidth": 2,
            "linecolor": "white",
            "showbackground": true,
            "ticks": "",
            "zerolinecolor": "white"
           },
           "yaxis": {
            "backgroundcolor": "#E5ECF6",
            "gridcolor": "white",
            "gridwidth": 2,
            "linecolor": "white",
            "showbackground": true,
            "ticks": "",
            "zerolinecolor": "white"
           },
           "zaxis": {
            "backgroundcolor": "#E5ECF6",
            "gridcolor": "white",
            "gridwidth": 2,
            "linecolor": "white",
            "showbackground": true,
            "ticks": "",
            "zerolinecolor": "white"
           }
          },
          "shapedefaults": {
           "line": {
            "color": "#2a3f5f"
           }
          },
          "ternary": {
           "aaxis": {
            "gridcolor": "white",
            "linecolor": "white",
            "ticks": ""
           },
           "baxis": {
            "gridcolor": "white",
            "linecolor": "white",
            "ticks": ""
           },
           "bgcolor": "#E5ECF6",
           "caxis": {
            "gridcolor": "white",
            "linecolor": "white",
            "ticks": ""
           }
          },
          "title": {
           "x": 0.05
          },
          "xaxis": {
           "automargin": true,
           "gridcolor": "white",
           "linecolor": "white",
           "ticks": "",
           "title": {
            "standoff": 15
           },
           "zerolinecolor": "white",
           "zerolinewidth": 2
          },
          "yaxis": {
           "automargin": true,
           "gridcolor": "white",
           "linecolor": "white",
           "ticks": "",
           "title": {
            "standoff": 15
           },
           "zerolinecolor": "white",
           "zerolinewidth": 2
          }
         }
        },
        "title": {
         "text": "Mean Pressure"
        },
        "xaxis": {
         "anchor": "y",
         "domain": [
          0,
          1
         ],
         "title": {
          "text": "date"
         }
        },
        "yaxis": {
         "anchor": "x",
         "domain": [
          0,
          1
         ],
         "title": {
          "text": "meanpressure"
         }
        }
       }
      }
     },
     "metadata": {},
     "output_type": "display_data"
    }
   ],
   "source": [
    "# draw same plot on plotly\n",
    "fig = px.line(df, x=df.index, y=\"meanpressure\", title='Mean Pressure')\n",
    "fig.show()"
   ]
  },
  {
   "cell_type": "code",
   "execution_count": 44,
   "id": "1c0aa344",
   "metadata": {},
   "outputs": [
    {
     "data": {
      "text/plain": [
       "meantemp          25.933333\n",
       "humidity          52.800000\n",
       "wind_speed         6.546667\n",
       "meanpressure    1012.062500\n",
       "Name: 2016-03-28 00:00:00, dtype: float64"
      ]
     },
     "execution_count": 44,
     "metadata": {},
     "output_type": "execute_result"
    }
   ],
   "source": [
    "# interpolate the outliers form mean pressure column  on 28.March.2016\n",
    "df.loc['2016-03-28', 'meanpressure'] = np.nan\n",
    "df['meanpressure'] = df['meanpressure'].interpolate(method='time')\n",
    "df.loc['2016-03-28']"
   ]
  },
  {
   "cell_type": "code",
   "execution_count": 20,
   "id": "e6eccd7c",
   "metadata": {},
   "outputs": [
    {
     "data": {
      "application/vnd.plotly.v1+json": {
       "config": {
        "plotlyServerURL": "https://plot.ly"
       },
       "data": [
        {
         "hovertemplate": "meantemp=%{x}<br>humidity=%{y}<extra></extra>",
         "legendgroup": "",
         "marker": {
          "color": "#636efa",
          "symbol": "circle"
         },
         "mode": "markers",
         "name": "",
         "showlegend": false,
         "type": "scattergl",
         "x": {
          "bdata": "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",
          "dtype": "f8"
         },
         "xaxis": "x",
         "y": {
          "bdata": "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",
          "dtype": "f8"
         },
         "yaxis": "y"
        },
        {
         "hovertemplate": "<b>OLS trendline</b><br>humidity = -1.30529 * meantemp + 94.0508<br>R<sup>2</sup>=0.327128<br><br>meantemp=%{x}<br>humidity=%{y} <b>(trend)</b><extra></extra>",
         "legendgroup": "",
         "line": {
          "color": "red"
         },
         "marker": {
          "color": "#636efa",
          "symbol": "circle"
         },
         "mode": "lines",
         "name": "",
         "showlegend": false,
         "type": "scattergl",
         "x": {
          "bdata": "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",
          "dtype": "f8"
         },
         "xaxis": "x",
         "y": {
          "bdata": "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",
          "dtype": "f8"
         },
         "yaxis": "y"
        }
       ],
       "layout": {
        "legend": {
         "tracegroupgap": 0
        },
        "template": {
         "data": {
          "bar": [
           {
            "error_x": {
             "color": "#2a3f5f"
            },
            "error_y": {
             "color": "#2a3f5f"
            },
            "marker": {
             "line": {
              "color": "#E5ECF6",
              "width": 0.5
             },
             "pattern": {
              "fillmode": "overlay",
              "size": 10,
              "solidity": 0.2
             }
            },
            "type": "bar"
           }
          ],
          "barpolar": [
           {
            "marker": {
             "line": {
              "color": "#E5ECF6",
              "width": 0.5
             },
             "pattern": {
              "fillmode": "overlay",
              "size": 10,
              "solidity": 0.2
             }
            },
            "type": "barpolar"
           }
          ],
          "carpet": [
           {
            "aaxis": {
             "endlinecolor": "#2a3f5f",
             "gridcolor": "white",
             "linecolor": "white",
             "minorgridcolor": "white",
             "startlinecolor": "#2a3f5f"
            },
            "baxis": {
             "endlinecolor": "#2a3f5f",
             "gridcolor": "white",
             "linecolor": "white",
             "minorgridcolor": "white",
             "startlinecolor": "#2a3f5f"
            },
            "type": "carpet"
           }
          ],
          "choropleth": [
           {
            "colorbar": {
             "outlinewidth": 0,
             "ticks": ""
            },
            "type": "choropleth"
           }
          ],
          "contour": [
           {
            "colorbar": {
             "outlinewidth": 0,
             "ticks": ""
            },
            "colorscale": [
             [
              0,
              "#0d0887"
             ],
             [
              0.1111111111111111,
              "#46039f"
             ],
             [
              0.2222222222222222,
              "#7201a8"
             ],
             [
              0.3333333333333333,
              "#9c179e"
             ],
             [
              0.4444444444444444,
              "#bd3786"
             ],
             [
              0.5555555555555556,
              "#d8576b"
             ],
             [
              0.6666666666666666,
              "#ed7953"
             ],
             [
              0.7777777777777778,
              "#fb9f3a"
             ],
             [
              0.8888888888888888,
              "#fdca26"
             ],
             [
              1,
              "#f0f921"
             ]
            ],
            "type": "contour"
           }
          ],
          "contourcarpet": [
           {
            "colorbar": {
             "outlinewidth": 0,
             "ticks": ""
            },
            "type": "contourcarpet"
           }
          ],
          "heatmap": [
           {
            "colorbar": {
             "outlinewidth": 0,
             "ticks": ""
            },
            "colorscale": [
             [
              0,
              "#0d0887"
             ],
             [
              0.1111111111111111,
              "#46039f"
             ],
             [
              0.2222222222222222,
              "#7201a8"
             ],
             [
              0.3333333333333333,
              "#9c179e"
             ],
             [
              0.4444444444444444,
              "#bd3786"
             ],
             [
              0.5555555555555556,
              "#d8576b"
             ],
             [
              0.6666666666666666,
              "#ed7953"
             ],
             [
              0.7777777777777778,
              "#fb9f3a"
             ],
             [
              0.8888888888888888,
              "#fdca26"
             ],
             [
              1,
              "#f0f921"
             ]
            ],
            "type": "heatmap"
           }
          ],
          "histogram": [
           {
            "marker": {
             "pattern": {
              "fillmode": "overlay",
              "size": 10,
              "solidity": 0.2
             }
            },
            "type": "histogram"
           }
          ],
          "histogram2d": [
           {
            "colorbar": {
             "outlinewidth": 0,
             "ticks": ""
            },
            "colorscale": [
             [
              0,
              "#0d0887"
             ],
             [
              0.1111111111111111,
              "#46039f"
             ],
             [
              0.2222222222222222,
              "#7201a8"
             ],
             [
              0.3333333333333333,
              "#9c179e"
             ],
             [
              0.4444444444444444,
              "#bd3786"
             ],
             [
              0.5555555555555556,
              "#d8576b"
             ],
             [
              0.6666666666666666,
              "#ed7953"
             ],
             [
              0.7777777777777778,
              "#fb9f3a"
             ],
             [
              0.8888888888888888,
              "#fdca26"
             ],
             [
              1,
              "#f0f921"
             ]
            ],
            "type": "histogram2d"
           }
          ],
          "histogram2dcontour": [
           {
            "colorbar": {
             "outlinewidth": 0,
             "ticks": ""
            },
            "colorscale": [
             [
              0,
              "#0d0887"
             ],
             [
              0.1111111111111111,
              "#46039f"
             ],
             [
              0.2222222222222222,
              "#7201a8"
             ],
             [
              0.3333333333333333,
              "#9c179e"
             ],
             [
              0.4444444444444444,
              "#bd3786"
             ],
             [
              0.5555555555555556,
              "#d8576b"
             ],
             [
              0.6666666666666666,
              "#ed7953"
             ],
             [
              0.7777777777777778,
              "#fb9f3a"
             ],
             [
              0.8888888888888888,
              "#fdca26"
             ],
             [
              1,
              "#f0f921"
             ]
            ],
            "type": "histogram2dcontour"
           }
          ],
          "mesh3d": [
           {
            "colorbar": {
             "outlinewidth": 0,
             "ticks": ""
            },
            "type": "mesh3d"
           }
          ],
          "parcoords": [
           {
            "line": {
             "colorbar": {
              "outlinewidth": 0,
              "ticks": ""
             }
            },
            "type": "parcoords"
           }
          ],
          "pie": [
           {
            "automargin": true,
            "type": "pie"
           }
          ],
          "scatter": [
           {
            "fillpattern": {
             "fillmode": "overlay",
             "size": 10,
             "solidity": 0.2
            },
            "type": "scatter"
           }
          ],
          "scatter3d": [
           {
            "line": {
             "colorbar": {
              "outlinewidth": 0,
              "ticks": ""
             }
            },
            "marker": {
             "colorbar": {
              "outlinewidth": 0,
              "ticks": ""
             }
            },
            "type": "scatter3d"
           }
          ],
          "scattercarpet": [
           {
            "marker": {
             "colorbar": {
              "outlinewidth": 0,
              "ticks": ""
             }
            },
            "type": "scattercarpet"
           }
          ],
          "scattergeo": [
           {
            "marker": {
             "colorbar": {
              "outlinewidth": 0,
              "ticks": ""
             }
            },
            "type": "scattergeo"
           }
          ],
          "scattergl": [
           {
            "marker": {
             "colorbar": {
              "outlinewidth": 0,
              "ticks": ""
             }
            },
            "type": "scattergl"
           }
          ],
          "scattermap": [
           {
            "marker": {
             "colorbar": {
              "outlinewidth": 0,
              "ticks": ""
             }
            },
            "type": "scattermap"
           }
          ],
          "scattermapbox": [
           {
            "marker": {
             "colorbar": {
              "outlinewidth": 0,
              "ticks": ""
             }
            },
            "type": "scattermapbox"
           }
          ],
          "scatterpolar": [
           {
            "marker": {
             "colorbar": {
              "outlinewidth": 0,
              "ticks": ""
             }
            },
            "type": "scatterpolar"
           }
          ],
          "scatterpolargl": [
           {
            "marker": {
             "colorbar": {
              "outlinewidth": 0,
              "ticks": ""
             }
            },
            "type": "scatterpolargl"
           }
          ],
          "scatterternary": [
           {
            "marker": {
             "colorbar": {
              "outlinewidth": 0,
              "ticks": ""
             }
            },
            "type": "scatterternary"
           }
          ],
          "surface": [
           {
            "colorbar": {
             "outlinewidth": 0,
             "ticks": ""
            },
            "colorscale": [
             [
              0,
              "#0d0887"
             ],
             [
              0.1111111111111111,
              "#46039f"
             ],
             [
              0.2222222222222222,
              "#7201a8"
             ],
             [
              0.3333333333333333,
              "#9c179e"
             ],
             [
              0.4444444444444444,
              "#bd3786"
             ],
             [
              0.5555555555555556,
              "#d8576b"
             ],
             [
              0.6666666666666666,
              "#ed7953"
             ],
             [
              0.7777777777777778,
              "#fb9f3a"
             ],
             [
              0.8888888888888888,
              "#fdca26"
             ],
             [
              1,
              "#f0f921"
             ]
            ],
            "type": "surface"
           }
          ],
          "table": [
           {
            "cells": {
             "fill": {
              "color": "#EBF0F8"
             },
             "line": {
              "color": "white"
             }
            },
            "header": {
             "fill": {
              "color": "#C8D4E3"
             },
             "line": {
              "color": "white"
             }
            },
            "type": "table"
           }
          ]
         },
         "layout": {
          "annotationdefaults": {
           "arrowcolor": "#2a3f5f",
           "arrowhead": 0,
           "arrowwidth": 1
          },
          "autotypenumbers": "strict",
          "coloraxis": {
           "colorbar": {
            "outlinewidth": 0,
            "ticks": ""
           }
          },
          "colorscale": {
           "diverging": [
            [
             0,
             "#8e0152"
            ],
            [
             0.1,
             "#c51b7d"
            ],
            [
             0.2,
             "#de77ae"
            ],
            [
             0.3,
             "#f1b6da"
            ],
            [
             0.4,
             "#fde0ef"
            ],
            [
             0.5,
             "#f7f7f7"
            ],
            [
             0.6,
             "#e6f5d0"
            ],
            [
             0.7,
             "#b8e186"
            ],
            [
             0.8,
             "#7fbc41"
            ],
            [
             0.9,
             "#4d9221"
            ],
            [
             1,
             "#276419"
            ]
           ],
           "sequential": [
            [
             0,
             "#0d0887"
            ],
            [
             0.1111111111111111,
             "#46039f"
            ],
            [
             0.2222222222222222,
             "#7201a8"
            ],
            [
             0.3333333333333333,
             "#9c179e"
            ],
            [
             0.4444444444444444,
             "#bd3786"
            ],
            [
             0.5555555555555556,
             "#d8576b"
            ],
            [
             0.6666666666666666,
             "#ed7953"
            ],
            [
             0.7777777777777778,
             "#fb9f3a"
            ],
            [
             0.8888888888888888,
             "#fdca26"
            ],
            [
             1,
             "#f0f921"
            ]
           ],
           "sequentialminus": [
            [
             0,
             "#0d0887"
            ],
            [
             0.1111111111111111,
             "#46039f"
            ],
            [
             0.2222222222222222,
             "#7201a8"
            ],
            [
             0.3333333333333333,
             "#9c179e"
            ],
            [
             0.4444444444444444,
             "#bd3786"
            ],
            [
             0.5555555555555556,
             "#d8576b"
            ],
            [
             0.6666666666666666,
             "#ed7953"
            ],
            [
             0.7777777777777778,
             "#fb9f3a"
            ],
            [
             0.8888888888888888,
             "#fdca26"
            ],
            [
             1,
             "#f0f921"
            ]
           ]
          },
          "colorway": [
           "#636efa",
           "#EF553B",
           "#00cc96",
           "#ab63fa",
           "#FFA15A",
           "#19d3f3",
           "#FF6692",
           "#B6E880",
           "#FF97FF",
           "#FECB52"
          ],
          "font": {
           "color": "#2a3f5f"
          },
          "geo": {
           "bgcolor": "white",
           "lakecolor": "white",
           "landcolor": "#E5ECF6",
           "showlakes": true,
           "showland": true,
           "subunitcolor": "white"
          },
          "hoverlabel": {
           "align": "left"
          },
          "hovermode": "closest",
          "mapbox": {
           "style": "light"
          },
          "paper_bgcolor": "white",
          "plot_bgcolor": "#E5ECF6",
          "polar": {
           "angularaxis": {
            "gridcolor": "white",
            "linecolor": "white",
            "ticks": ""
           },
           "bgcolor": "#E5ECF6",
           "radialaxis": {
            "gridcolor": "white",
            "linecolor": "white",
            "ticks": ""
           }
          },
          "scene": {
           "xaxis": {
            "backgroundcolor": "#E5ECF6",
            "gridcolor": "white",
            "gridwidth": 2,
            "linecolor": "white",
            "showbackground": true,
            "ticks": "",
            "zerolinecolor": "white"
           },
           "yaxis": {
            "backgroundcolor": "#E5ECF6",
            "gridcolor": "white",
            "gridwidth": 2,
            "linecolor": "white",
            "showbackground": true,
            "ticks": "",
            "zerolinecolor": "white"
           },
           "zaxis": {
            "backgroundcolor": "#E5ECF6",
            "gridcolor": "white",
            "gridwidth": 2,
            "linecolor": "white",
            "showbackground": true,
            "ticks": "",
            "zerolinecolor": "white"
           }
          },
          "shapedefaults": {
           "line": {
            "color": "#2a3f5f"
           }
          },
          "ternary": {
           "aaxis": {
            "gridcolor": "white",
            "linecolor": "white",
            "ticks": ""
           },
           "baxis": {
            "gridcolor": "white",
            "linecolor": "white",
            "ticks": ""
           },
           "bgcolor": "#E5ECF6",
           "caxis": {
            "gridcolor": "white",
            "linecolor": "white",
            "ticks": ""
           }
          },
          "title": {
           "x": 0.05
          },
          "xaxis": {
           "automargin": true,
           "gridcolor": "white",
           "linecolor": "white",
           "ticks": "",
           "title": {
            "standoff": 15
           },
           "zerolinecolor": "white",
           "zerolinewidth": 2
          },
          "yaxis": {
           "automargin": true,
           "gridcolor": "white",
           "linecolor": "white",
           "ticks": "",
           "title": {
            "standoff": 15
           },
           "zerolinecolor": "white",
           "zerolinewidth": 2
          }
         }
        },
        "title": {
         "text": "Mean Temperature vs Humidity"
        },
        "xaxis": {
         "anchor": "y",
         "domain": [
          0,
          1
         ],
         "title": {
          "text": "meantemp"
         }
        },
        "yaxis": {
         "anchor": "x",
         "domain": [
          0,
          1
         ],
         "title": {
          "text": "humidity"
         }
        }
       }
      }
     },
     "metadata": {},
     "output_type": "display_data"
    }
   ],
   "source": [
    "# make a scatter plot b/w meantemp and humidity\n",
    "fig = px.scatter(df, x='meantemp', y='humidity', title='Mean Temperature vs Humidity', trendline='ols', trendline_color_override='red')\n",
    "fig.show()"
   ]
  },
  {
   "cell_type": "code",
   "execution_count": 24,
   "id": "d069b732",
   "metadata": {},
   "outputs": [
    {
     "name": "stdout",
     "output_type": "stream",
     "text": [
      "Correlation: -0.571950715581722\n"
     ]
    }
   ],
   "source": [
    "# lets check pearson correlation\n",
    "from scipy.stats import pearsonr\n",
    "corr, pval = pearsonr(df['meantemp'], df['humidity'])\n",
    "print(f'Correlation: {corr}')"
   ]
  },
  {
   "cell_type": "code",
   "execution_count": 32,
   "id": "7b9da11e",
   "metadata": {},
   "outputs": [
    {
     "data": {
      "image/png": "[encoded data removed]",
      "text/plain": [
       "<Figure size 1200x500 with 2 Axes>"
      ]
     },
     "metadata": {},
     "output_type": "display_data"
    }
   ],
   "source": [
    "# create a heatmap of correlation matrix\n",
    "fig, ax = plt.subplots(figsize=(12, 5))\n",
    "sns.heatmap(df.corr(), annot=True, cmap='coolwarm')\n",
    "plt.show()"
   ]
  },
  {
   "cell_type": "code",
   "execution_count": 38,
   "id": "bc8af734",
   "metadata": {},
   "outputs": [
    {
     "data": {
      "text/html": [
       "<div>\n",
       "<style scoped>\n",
       "    .dataframe tbody tr th:only-of-type {\n",
       "        vertical-align: middle;\n",
       "    }\n",
       "\n",
       "    .dataframe tbody tr th {\n",
       "        vertical-align: top;\n",
       "    }\n",
       "\n",
       "    .dataframe thead th {\n",
       "        text-align: right;\n",
       "    }\n",
       "</style>\n",
       "<table border=\"1\" class=\"dataframe\">\n",
       "  <thead>\n",
       "    <tr style=\"text-align: right;\">\n",
       "      <th></th>\n",
       "      <th>meantemp</th>\n",
       "      <th>humidity</th>\n",
       "      <th>wind_speed</th>\n",
       "      <th>meanpressure</th>\n",
       "    </tr>\n",
       "  </thead>\n",
       "  <tbody>\n",
       "    <tr>\n",
       "      <th>count</th>\n",
       "      <td>1.462000e+03</td>\n",
       "      <td>1.462000e+03</td>\n",
       "      <td>1.462000e+03</td>\n",
       "      <td>1.462000e+03</td>\n",
       "    </tr>\n",
       "    <tr>\n",
       "      <th>mean</th>\n",
       "      <td>-1.458022e-17</td>\n",
       "      <td>1.968330e-16</td>\n",
       "      <td>-1.944029e-16</td>\n",
       "      <td>-5.880689e-16</td>\n",
       "    </tr>\n",
       "    <tr>\n",
       "      <th>std</th>\n",
       "      <td>1.000342e+00</td>\n",
       "      <td>1.000342e+00</td>\n",
       "      <td>1.000342e+00</td>\n",
       "      <td>1.000342e+00</td>\n",
       "    </tr>\n",
       "    <tr>\n",
       "      <th>min</th>\n",
       "      <td>-2.654044e+00</td>\n",
       "      <td>-2.824109e+00</td>\n",
       "      <td>-1.491699e+00</td>\n",
       "      <td>-5.628829e+00</td>\n",
       "    </tr>\n",
       "    <tr>\n",
       "      <th>25%</th>\n",
       "      <td>-9.037230e-01</td>\n",
       "      <td>-6.201833e-01</td>\n",
       "      <td>-7.296443e-01</td>\n",
       "      <td>-5.286224e-02</td>\n",
       "    </tr>\n",
       "    <tr>\n",
       "      <th>50%</th>\n",
       "      <td>3.020541e-01</td>\n",
       "      <td>1.105528e-01</td>\n",
       "      <td>-1.273107e-01</td>\n",
       "      <td>-1.410365e-02</td>\n",
       "    </tr>\n",
       "    <tr>\n",
       "      <th>75%</th>\n",
       "      <td>7.909894e-01</td>\n",
       "      <td>6.828386e-01</td>\n",
       "      <td>5.342114e-01</td>\n",
       "      <td>2.131517e-02</td>\n",
       "    </tr>\n",
       "    <tr>\n",
       "      <th>max</th>\n",
       "      <td>1.799551e+00</td>\n",
       "      <td>2.340044e+00</td>\n",
       "      <td>7.766988e+00</td>\n",
       "      <td>3.701076e+01</td>\n",
       "    </tr>\n",
       "  </tbody>\n",
       "</table>\n",
       "</div>"
      ],
      "text/plain": [
       "           meantemp      humidity    wind_speed  meanpressure\n",
       "count  1.462000e+03  1.462000e+03  1.462000e+03  1.462000e+03\n",
       "mean  -1.458022e-17  1.968330e-16 -1.944029e-16 -5.880689e-16\n",
       "std    1.000342e+00  1.000342e+00  1.000342e+00  1.000342e+00\n",
       "min   -2.654044e+00 -2.824109e+00 -1.491699e+00 -5.628829e+00\n",
       "25%   -9.037230e-01 -6.201833e-01 -7.296443e-01 -5.286224e-02\n",
       "50%    3.020541e-01  1.105528e-01 -1.273107e-01 -1.410365e-02\n",
       "75%    7.909894e-01  6.828386e-01  5.342114e-01  2.131517e-02\n",
       "max    1.799551e+00  2.340044e+00  7.766988e+00  3.701076e+01"
      ]
     },
     "execution_count": 38,
     "metadata": {},
     "output_type": "execute_result"
    }
   ],
   "source": [
    "# let's scale the data \n",
    "scaler = StandardScaler()\n",
    "df_scaled = scaler.fit_transform(df)\n",
    "df_scaled = pd.DataFrame(scaler.fit_transform(df), index=df.index, columns=df.columns)\n",
    "df_scaled.describe()"
   ]
  },
  {
   "cell_type": "code",
   "execution_count": 39,
   "id": "fc27d456",
   "metadata": {},
   "outputs": [
    {
     "data": {
      "text/plain": [
       "<Axes: >"
      ]
     },
     "execution_count": 39,
     "metadata": {},
     "output_type": "execute_result"
    },
    {
     "data": {
      "image/png": "[encoded data removed]",
      "text/plain": [
       "<Figure size 640x480 with 2 Axes>"
      ]
     },
     "metadata": {},
     "output_type": "display_data"
    }
   ],
   "source": [
    "# make a correlation heatmap of scaled data\n",
    "sns.heatmap(df_scaled.corr(), annot=True, cmap='coolwarm') # we wont see any change in correlation"
   ]
  },
  {
   "cell_type": "code",
   "execution_count": 48,
   "id": "68158d1f",
   "metadata": {},
   "outputs": [
    {
     "data": {
      "text/html": [
       "<div>\n",
       "<style scoped>\n",
       "    .dataframe tbody tr th:only-of-type {\n",
       "        vertical-align: middle;\n",
       "    }\n",
       "\n",
       "    .dataframe tbody tr th {\n",
       "        vertical-align: top;\n",
       "    }\n",
       "\n",
       "    .dataframe thead th {\n",
       "        text-align: right;\n",
       "    }\n",
       "</style>\n",
       "<table border=\"1\" class=\"dataframe\">\n",
       "  <thead>\n",
       "    <tr style=\"text-align: right;\">\n",
       "      <th></th>\n",
       "      <th>meantemp</th>\n",
       "      <th>humidity</th>\n",
       "      <th>wind_speed</th>\n",
       "      <th>meanpressure</th>\n",
       "      <th>month</th>\n",
       "      <th>year</th>\n",
       "    </tr>\n",
       "    <tr>\n",
       "      <th>date</th>\n",
       "      <th></th>\n",
       "      <th></th>\n",
       "      <th></th>\n",
       "      <th></th>\n",
       "      <th></th>\n",
       "      <th></th>\n",
       "    </tr>\n",
       "  </thead>\n",
       "  <tbody>\n",
       "    <tr>\n",
       "      <th>2013-01-01</th>\n",
       "      <td>-2.109500</td>\n",
       "      <td>1.415439</td>\n",
       "      <td>-1.491699</td>\n",
       "      <td>0.025321</td>\n",
       "      <td>1</td>\n",
       "      <td>2013</td>\n",
       "    </tr>\n",
       "    <tr>\n",
       "      <th>2013-01-02</th>\n",
       "      <td>-2.463454</td>\n",
       "      <td>1.862828</td>\n",
       "      <td>-0.838196</td>\n",
       "      <td>0.037162</td>\n",
       "      <td>1</td>\n",
       "      <td>2013</td>\n",
       "    </tr>\n",
       "    <tr>\n",
       "      <th>2013-01-03</th>\n",
       "      <td>-2.495219</td>\n",
       "      <td>1.564569</td>\n",
       "      <td>-0.475626</td>\n",
       "      <td>0.041972</td>\n",
       "      <td>1</td>\n",
       "      <td>2013</td>\n",
       "    </tr>\n",
       "    <tr>\n",
       "      <th>2013-01-04</th>\n",
       "      <td>-2.291015</td>\n",
       "      <td>0.630022</td>\n",
       "      <td>-1.221233</td>\n",
       "      <td>0.033647</td>\n",
       "      <td>1</td>\n",
       "      <td>2013</td>\n",
       "    </tr>\n",
       "    <tr>\n",
       "      <th>2013-01-05</th>\n",
       "      <td>-2.654044</td>\n",
       "      <td>1.554627</td>\n",
       "      <td>-0.680303</td>\n",
       "      <td>0.029946</td>\n",
       "      <td>1</td>\n",
       "      <td>2013</td>\n",
       "    </tr>\n",
       "  </tbody>\n",
       "</table>\n",
       "</div>"
      ],
      "text/plain": [
       "            meantemp  humidity  wind_speed  meanpressure  month  year\n",
       "date                                                                 \n",
       "2013-01-01 -2.109500  1.415439   -1.491699      0.025321      1  2013\n",
       "2013-01-02 -2.463454  1.862828   -0.838196      0.037162      1  2013\n",
       "2013-01-03 -2.495219  1.564569   -0.475626      0.041972      1  2013\n",
       "2013-01-04 -2.291015  0.630022   -1.221233      0.033647      1  2013\n",
       "2013-01-05 -2.654044  1.554627   -0.680303      0.029946      1  2013"
      ]
     },
     "execution_count": 48,
     "metadata": {},
     "output_type": "execute_result"
    }
   ],
   "source": [
    "# Add a column for month and year\n",
    "df_scaled['month'] = df_scaled.index.month\n",
    "df_scaled['year'] = df_scaled.index.year\n",
    "df_scaled.head()"
   ]
  },
  {
   "cell_type": "code",
   "execution_count": 53,
   "id": "7c70beef",
   "metadata": {},
   "outputs": [
    {
     "data": {
      "text/plain": [
       "<Axes: xlabel='month', ylabel='meantemp'>"
      ]
     },
     "execution_count": 53,
     "metadata": {},
     "output_type": "execute_result"
    },
    {
     "data": {
      "image/png": "[encoded data removed]",
      "text/plain": [
       "<Figure size 1100x400 with 1 Axes>"
      ]
     },
     "metadata": {},
     "output_type": "display_data"
    }
   ],
   "source": [
    "sns.lineplot(data=df_scaled, x=\"month\", y=\"meantemp\", hue='year', palette='Set1')"
   ]
  },
  {
   "cell_type": "code",
   "execution_count": null,
   "id": "5ae758b8",
   "metadata": {},
   "outputs": [],
   "source": [
    "# lets use the prophet model from python\n"
   ]
  }
 ],
 "metadata": {
  "kernelspec": {
   "display_name": "tf_env",
   "language": "python",
   "name": "python3"
  },
  "language_info": {
   "codemirror_mode": {
    "name": "ipython",
    "version": 3
   },
   "file_extension": ".py",
   "mimetype": "text/x-python",
   "name": "python",
   "nbconvert_exporter": "python",
   "pygments_lexer": "ipython3",
   "version": "3.9.7"
  }
 },
 "nbformat": 4,
 "nbformat_minor": 5
}
