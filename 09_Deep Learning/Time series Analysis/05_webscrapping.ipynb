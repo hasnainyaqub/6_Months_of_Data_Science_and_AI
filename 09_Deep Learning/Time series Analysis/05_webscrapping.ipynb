{
 "cells": [
  {
   "cell_type": "markdown",
   "id": "9bc02e73",
   "metadata": {},
   "source": [
    "# Webscrapping"
   ]
  },
  {
   "cell_type": "code",
   "execution_count": 80,
   "id": "7940cdc1",
   "metadata": {},
   "outputs": [],
   "source": [
    "# import libraries for webscrapping\n",
    "import requests\n",
    "from bs4 import BeautifulSoup\n",
    "import pandas as pd"
   ]
  },
  {
   "cell_type": "code",
   "execution_count": 81,
   "id": "3b35d775",
   "metadata": {},
   "outputs": [],
   "source": [
    "# define the url\n",
    "url = 'https://en.wikipedia.org/wiki/World_population'\n",
    "\n",
    "# request the page\n",
    "response = requests.get(url)\n",
    "\n",
    "# parse the html content\n",
    "html = response.content \n",
    "soup = BeautifulSoup(html, 'html.parser') "
   ]
  },
  {
   "cell_type": "code",
   "execution_count": 82,
   "id": "edd052bb",
   "metadata": {},
   "outputs": [
    {
     "name": "stdout",
     "output_type": "stream",
     "text": [
      "<title>World population - Wikipedia</title>\n",
      "World population - Wikipedia\n"
     ]
    }
   ],
   "source": [
    "# lets check the title of the page\n",
    "print(soup.title)\n",
    "print(soup.title.text)\n",
    "\n",
    "# print(soup.prettify()) # print whole html content\n",
    "# find all the tables \n",
    "tables = soup.find_all('table')\n",
    "\n",
    "dataframe = [] # create an empty list to store the data\n",
    "# for table in tables:\n",
    "#     rows = table.find_all('tr') # find all the rows in the table\n",
    "#     for row in rows:\n",
    "#         cols = row.find_all('td') # find all the columns in the row\n",
    "#         cols = [col.text.strip() for col in cols] # strip the text and store in a list\n",
    "#         dataframe.append(cols) # append the list to the dataframe\n"
   ]
  },
  {
   "cell_type": "code",
   "execution_count": 83,
   "id": "83a7b2da",
   "metadata": {},
   "outputs": [],
   "source": [
    "for i, table in enumerate(tables):\n",
    "    row = table.find_all('tr')[1:] # skip the first row\n",
    "    data = []\n",
    "    for j in row:\n",
    "        cols = j.find_all('td') # find all the columns in the row\n",
    "        cols = [col.text.strip() for col in cols] # strip the text and store in a list\n",
    "        data.append(cols) # append the list to the dataframe\n",
    "    df = pd.DataFrame(data)\n",
    "    dataframe.append(df)    "
   ]
  },
  {
   "cell_type": "code",
   "execution_count": 89,
   "id": "35b00103",
   "metadata": {},
   "outputs": [
    {
     "data": {
      "text/html": [
       "<div>\n",
       "<style scoped>\n",
       "    .dataframe tbody tr th:only-of-type {\n",
       "        vertical-align: middle;\n",
       "    }\n",
       "\n",
       "    .dataframe tbody tr th {\n",
       "        vertical-align: top;\n",
       "    }\n",
       "\n",
       "    .dataframe thead th {\n",
       "        text-align: right;\n",
       "    }\n",
       "</style>\n",
       "<table border=\"1\" class=\"dataframe\">\n",
       "  <thead>\n",
       "    <tr style=\"text-align: right;\">\n",
       "      <th></th>\n",
       "      <th>0</th>\n",
       "      <th>1</th>\n",
       "      <th>2</th>\n",
       "      <th>3</th>\n",
       "      <th>4</th>\n",
       "    </tr>\n",
       "  </thead>\n",
       "  <tbody>\n",
       "    <tr>\n",
       "      <th>0</th>\n",
       "      <td>India</td>\n",
       "      <td>1,425,775,850</td>\n",
       "      <td>17.4%</td>\n",
       "      <td>14 Apr 2023</td>\n",
       "      <td>UN projection[89]</td>\n",
       "    </tr>\n",
       "    <tr>\n",
       "      <th>1</th>\n",
       "      <td>China</td>\n",
       "      <td>1,409,670,000</td>\n",
       "      <td>17.2%</td>\n",
       "      <td>17 Jan 2024</td>\n",
       "      <td>National annual estimate[90]</td>\n",
       "    </tr>\n",
       "    <tr>\n",
       "      <th>2</th>\n",
       "      <td>United States</td>\n",
       "      <td>337,880,986</td>\n",
       "      <td>4.13%</td>\n",
       "      <td>17 May 2025</td>\n",
       "      <td>National population clock[91]</td>\n",
       "    </tr>\n",
       "    <tr>\n",
       "      <th>3</th>\n",
       "      <td>Indonesia</td>\n",
       "      <td>278,696,200</td>\n",
       "      <td>3.41%</td>\n",
       "      <td>1 Jul 2023</td>\n",
       "      <td>National annual estimate[92]</td>\n",
       "    </tr>\n",
       "    <tr>\n",
       "      <th>4</th>\n",
       "      <td>Pakistan</td>\n",
       "      <td>229,488,994</td>\n",
       "      <td>2.81%</td>\n",
       "      <td>1 Jul 2022</td>\n",
       "      <td>UN projection[93]</td>\n",
       "    </tr>\n",
       "  </tbody>\n",
       "</table>\n",
       "</div>"
      ],
      "text/plain": [
       "               0              1      2            3  \\\n",
       "0          India  1,425,775,850  17.4%  14 Apr 2023   \n",
       "1          China  1,409,670,000  17.2%  17 Jan 2024   \n",
       "2  United States    337,880,986  4.13%  17 May 2025   \n",
       "3      Indonesia    278,696,200  3.41%   1 Jul 2023   \n",
       "4       Pakistan    229,488,994  2.81%   1 Jul 2022   \n",
       "\n",
       "                               4  \n",
       "0              UN projection[89]  \n",
       "1   National annual estimate[90]  \n",
       "2  National population clock[91]  \n",
       "3   National annual estimate[92]  \n",
       "4              UN projection[93]  "
      ]
     },
     "execution_count": 89,
     "metadata": {},
     "output_type": "execute_result"
    }
   ],
   "source": [
    "dataframe[3].head()"
   ]
  }
 ],
 "metadata": {
  "kernelspec": {
   "display_name": "webscrapping",
   "language": "python",
   "name": "python3"
  },
  "language_info": {
   "codemirror_mode": {
    "name": "ipython",
    "version": 3
   },
   "file_extension": ".py",
   "mimetype": "text/x-python",
   "name": "python",
   "nbconvert_exporter": "python",
   "pygments_lexer": "ipython3",
   "version": "3.11.11"
  }
 },
 "nbformat": 4,
 "nbformat_minor": 5
}
