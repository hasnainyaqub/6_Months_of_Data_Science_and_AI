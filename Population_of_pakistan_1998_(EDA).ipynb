{
 "cells": [
  {
   "cell_type": "markdown",
   "metadata": {},
   "source": [
    "# **Sub Division population of pakistan** "
   ]
  },
  {
   "cell_type": "markdown",
   "metadata": {},
   "source": [
    "- This data is not mine I just download it from kaggle.\n",
    "- I am practing & improving my skills \n",
    "- So that's it \n",
    "\n",
    "- Let's begin"
   ]
  },
  {
   "cell_type": "markdown",
   "metadata": {},
   "source": [
    "## Import libraries"
   ]
  },
  {
   "cell_type": "code",
   "execution_count": 2,
   "metadata": {},
   "outputs": [],
   "source": [
    "import pandas as pd\n",
    "import seaborn as sns\n",
    "import matplotlib.pyplot as plt\n",
    "#this is for jupyter notebook to show the plot in the notebook itself instead of opening a new window for the plot.\n",
    "%matplotlib inline \n",
    "import numpy as np\n",
    "import plotly.express as px"
   ]
  },
  {
   "cell_type": "markdown",
   "metadata": {},
   "source": [
    "- Let's Loading the data and creating df."
   ]
  },
  {
   "cell_type": "code",
   "execution_count": 3,
   "metadata": {},
   "outputs": [],
   "source": [
    "df = pd.read_csv('sub-division_population_of_pakistan.csv')"
   ]
  },
  {
   "cell_type": "markdown",
   "metadata": {},
   "source": [
    "- Let's have look on data"
   ]
  },
  {
   "cell_type": "code",
   "execution_count": 4,
   "metadata": {},
   "outputs": [
    {
     "data": {
      "text/html": [
       "<div>\n",
       "<style scoped>\n",
       "    .dataframe tbody tr th:only-of-type {\n",
       "        vertical-align: middle;\n",
       "    }\n",
       "\n",
       "    .dataframe tbody tr th {\n",
       "        vertical-align: top;\n",
       "    }\n",
       "\n",
       "    .dataframe thead th {\n",
       "        text-align: right;\n",
       "    }\n",
       "</style>\n",
       "<table border=\"1\" class=\"dataframe\">\n",
       "  <thead>\n",
       "    <tr style=\"text-align: right;\">\n",
       "      <th></th>\n",
       "      <th>PROVINCE</th>\n",
       "      <th>DIVISION</th>\n",
       "      <th>DISTRICT</th>\n",
       "      <th>SUB DIVISION</th>\n",
       "      <th>AREA (sq.km)</th>\n",
       "      <th>ALL SEXES (RURAL)</th>\n",
       "      <th>MALE (RURAL)</th>\n",
       "      <th>FEMALE (RURAL)</th>\n",
       "      <th>TRANSGENDER (RURAL)</th>\n",
       "      <th>SEX RATIO (RURAL)</th>\n",
       "      <th>...</th>\n",
       "      <th>POPULATION 1998 (RURAL)</th>\n",
       "      <th>ANNUAL GROWTH RATE (RURAL)</th>\n",
       "      <th>ALL SEXES (URBAN)</th>\n",
       "      <th>MALE (URBAN)</th>\n",
       "      <th>FEMALE (URBAN)</th>\n",
       "      <th>TRANSGENDER (URBAN)</th>\n",
       "      <th>SEX RATIO (URBAN)</th>\n",
       "      <th>AVG HOUSEHOLD SIZE (URBAN)</th>\n",
       "      <th>POPULATION 1998 (URBAN)</th>\n",
       "      <th>ANNUAL GROWTH RATE (URBAN)</th>\n",
       "    </tr>\n",
       "  </thead>\n",
       "  <tbody>\n",
       "    <tr>\n",
       "      <th>0</th>\n",
       "      <td>PUNJAB</td>\n",
       "      <td>BAHAWALPUR DIVISION</td>\n",
       "      <td>BAHAWALNAGAR DISTRICT</td>\n",
       "      <td>BAHAWALNAGAR TEHSIL</td>\n",
       "      <td>1729.0</td>\n",
       "      <td>619550</td>\n",
       "      <td>316864</td>\n",
       "      <td>302644</td>\n",
       "      <td>42</td>\n",
       "      <td>104.70</td>\n",
       "      <td>...</td>\n",
       "      <td>407768</td>\n",
       "      <td>2.22</td>\n",
       "      <td>193840</td>\n",
       "      <td>98391</td>\n",
       "      <td>95402</td>\n",
       "      <td>47</td>\n",
       "      <td>103.13</td>\n",
       "      <td>6.02</td>\n",
       "      <td>133785</td>\n",
       "      <td>1.97</td>\n",
       "    </tr>\n",
       "    <tr>\n",
       "      <th>1</th>\n",
       "      <td>PUNJAB</td>\n",
       "      <td>BAHAWALPUR DIVISION</td>\n",
       "      <td>BAHAWALNAGAR DISTRICT</td>\n",
       "      <td>CHISHTIAN TEHSIL</td>\n",
       "      <td>1500.0</td>\n",
       "      <td>540342</td>\n",
       "      <td>273788</td>\n",
       "      <td>266500</td>\n",
       "      <td>54</td>\n",
       "      <td>102.73</td>\n",
       "      <td>...</td>\n",
       "      <td>395983</td>\n",
       "      <td>1.65</td>\n",
       "      <td>149424</td>\n",
       "      <td>75546</td>\n",
       "      <td>73851</td>\n",
       "      <td>27</td>\n",
       "      <td>102.30</td>\n",
       "      <td>6.01</td>\n",
       "      <td>102287</td>\n",
       "      <td>2.01</td>\n",
       "    </tr>\n",
       "    <tr>\n",
       "      <th>2</th>\n",
       "      <td>PUNJAB</td>\n",
       "      <td>BAHAWALPUR DIVISION</td>\n",
       "      <td>BAHAWALNAGAR DISTRICT</td>\n",
       "      <td>FORT ABBAS TEHSIL</td>\n",
       "      <td>2536.0</td>\n",
       "      <td>361240</td>\n",
       "      <td>182655</td>\n",
       "      <td>178541</td>\n",
       "      <td>44</td>\n",
       "      <td>102.30</td>\n",
       "      <td>...</td>\n",
       "      <td>250959</td>\n",
       "      <td>1.93</td>\n",
       "      <td>61528</td>\n",
       "      <td>31360</td>\n",
       "      <td>30150</td>\n",
       "      <td>18</td>\n",
       "      <td>104.01</td>\n",
       "      <td>6.00</td>\n",
       "      <td>34637</td>\n",
       "      <td>3.06</td>\n",
       "    </tr>\n",
       "    <tr>\n",
       "      <th>3</th>\n",
       "      <td>PUNJAB</td>\n",
       "      <td>BAHAWALPUR DIVISION</td>\n",
       "      <td>BAHAWALNAGAR DISTRICT</td>\n",
       "      <td>HAROONABAD TEHSIL</td>\n",
       "      <td>1295.0</td>\n",
       "      <td>382115</td>\n",
       "      <td>192278</td>\n",
       "      <td>189808</td>\n",
       "      <td>29</td>\n",
       "      <td>101.30</td>\n",
       "      <td>...</td>\n",
       "      <td>297343</td>\n",
       "      <td>1.33</td>\n",
       "      <td>142600</td>\n",
       "      <td>71345</td>\n",
       "      <td>71236</td>\n",
       "      <td>19</td>\n",
       "      <td>100.15</td>\n",
       "      <td>6.02</td>\n",
       "      <td>84424</td>\n",
       "      <td>2.79</td>\n",
       "    </tr>\n",
       "    <tr>\n",
       "      <th>4</th>\n",
       "      <td>PUNJAB</td>\n",
       "      <td>BAHAWALPUR DIVISION</td>\n",
       "      <td>BAHAWALNAGAR DISTRICT</td>\n",
       "      <td>MINCHINABAD TEHSIL</td>\n",
       "      <td>1818.0</td>\n",
       "      <td>452723</td>\n",
       "      <td>231506</td>\n",
       "      <td>221178</td>\n",
       "      <td>39</td>\n",
       "      <td>104.67</td>\n",
       "      <td>...</td>\n",
       "      <td>316593</td>\n",
       "      <td>1.90</td>\n",
       "      <td>72294</td>\n",
       "      <td>36694</td>\n",
       "      <td>35590</td>\n",
       "      <td>10</td>\n",
       "      <td>103.10</td>\n",
       "      <td>6.34</td>\n",
       "      <td>37668</td>\n",
       "      <td>3.48</td>\n",
       "    </tr>\n",
       "  </tbody>\n",
       "</table>\n",
       "<p>5 rows × 21 columns</p>\n",
       "</div>"
      ],
      "text/plain": [
       "  PROVINCE             DIVISION               DISTRICT         SUB DIVISION  \\\n",
       "0   PUNJAB  BAHAWALPUR DIVISION  BAHAWALNAGAR DISTRICT  BAHAWALNAGAR TEHSIL   \n",
       "1   PUNJAB  BAHAWALPUR DIVISION  BAHAWALNAGAR DISTRICT     CHISHTIAN TEHSIL   \n",
       "2   PUNJAB  BAHAWALPUR DIVISION  BAHAWALNAGAR DISTRICT    FORT ABBAS TEHSIL   \n",
       "3   PUNJAB  BAHAWALPUR DIVISION  BAHAWALNAGAR DISTRICT    HAROONABAD TEHSIL   \n",
       "4   PUNJAB  BAHAWALPUR DIVISION  BAHAWALNAGAR DISTRICT   MINCHINABAD TEHSIL   \n",
       "\n",
       "   AREA (sq.km)  ALL SEXES (RURAL)  MALE (RURAL)  FEMALE (RURAL)  \\\n",
       "0        1729.0             619550        316864          302644   \n",
       "1        1500.0             540342        273788          266500   \n",
       "2        2536.0             361240        182655          178541   \n",
       "3        1295.0             382115        192278          189808   \n",
       "4        1818.0             452723        231506          221178   \n",
       "\n",
       "   TRANSGENDER (RURAL)  SEX RATIO (RURAL)  ...  POPULATION 1998 (RURAL)  \\\n",
       "0                   42             104.70  ...                   407768   \n",
       "1                   54             102.73  ...                   395983   \n",
       "2                   44             102.30  ...                   250959   \n",
       "3                   29             101.30  ...                   297343   \n",
       "4                   39             104.67  ...                   316593   \n",
       "\n",
       "   ANNUAL GROWTH RATE (RURAL)  ALL SEXES (URBAN)  MALE (URBAN)  \\\n",
       "0                        2.22             193840         98391   \n",
       "1                        1.65             149424         75546   \n",
       "2                        1.93              61528         31360   \n",
       "3                        1.33             142600         71345   \n",
       "4                        1.90              72294         36694   \n",
       "\n",
       "   FEMALE (URBAN)  TRANSGENDER (URBAN)  SEX RATIO (URBAN)  \\\n",
       "0           95402                   47             103.13   \n",
       "1           73851                   27             102.30   \n",
       "2           30150                   18             104.01   \n",
       "3           71236                   19             100.15   \n",
       "4           35590                   10             103.10   \n",
       "\n",
       "   AVG HOUSEHOLD SIZE (URBAN)  POPULATION 1998 (URBAN)  \\\n",
       "0                        6.02                   133785   \n",
       "1                        6.01                   102287   \n",
       "2                        6.00                    34637   \n",
       "3                        6.02                    84424   \n",
       "4                        6.34                    37668   \n",
       "\n",
       "   ANNUAL GROWTH RATE (URBAN)  \n",
       "0                        1.97  \n",
       "1                        2.01  \n",
       "2                        3.06  \n",
       "3                        2.79  \n",
       "4                        3.48  \n",
       "\n",
       "[5 rows x 21 columns]"
      ]
     },
     "execution_count": 4,
     "metadata": {},
     "output_type": "execute_result"
    }
   ],
   "source": [
    "df.head(5)"
   ]
  },
  {
   "cell_type": "markdown",
   "metadata": {},
   "source": [
    "> **Note**: Some the output of notebook does not present the complete output, therefore we can increase the limit of columns view and row view by using these commands: "
   ]
  },
  {
   "cell_type": "code",
   "execution_count": 5,
   "metadata": {},
   "outputs": [],
   "source": [
    "pd.set_option('display.max_columns', None) # this is to display all the columns in the dataframe\n",
    "pd.set_option('display.max_rows', None) # this is to display all the rows in the dataframe"
   ]
  },
  {
   "cell_type": "code",
   "execution_count": 6,
   "metadata": {},
   "outputs": [],
   "source": [
    "# hide all warnings runtime\n",
    "import warnings\n",
    "warnings.filterwarnings('ignore')"
   ]
  },
  {
   "cell_type": "markdown",
   "metadata": {},
   "source": [
    "- Let's see the column names."
   ]
  },
  {
   "cell_type": "code",
   "execution_count": 7,
   "metadata": {},
   "outputs": [
    {
     "data": {
      "text/plain": [
       "Index(['PROVINCE', 'DIVISION', 'DISTRICT', 'SUB DIVISION', 'AREA (sq.km)',\n",
       "       'ALL SEXES (RURAL)', 'MALE (RURAL)', 'FEMALE (RURAL)',\n",
       "       'TRANSGENDER (RURAL)', 'SEX RATIO (RURAL)',\n",
       "       'AVG HOUSEHOLD SIZE (RURAL)', 'POPULATION 1998 (RURAL)',\n",
       "       'ANNUAL GROWTH RATE (RURAL)', 'ALL SEXES (URBAN)', 'MALE (URBAN)',\n",
       "       'FEMALE (URBAN)', 'TRANSGENDER (URBAN)', 'SEX RATIO (URBAN)',\n",
       "       'AVG HOUSEHOLD SIZE (URBAN)', 'POPULATION 1998 (URBAN)',\n",
       "       'ANNUAL GROWTH RATE (URBAN)'],\n",
       "      dtype='object')"
      ]
     },
     "execution_count": 7,
     "metadata": {},
     "output_type": "execute_result"
    }
   ],
   "source": [
    "df.columns"
   ]
  },
  {
   "cell_type": "markdown",
   "metadata": {},
   "source": [
    "- Let's check the exact rows & columns of dataset."
   ]
  },
  {
   "cell_type": "code",
   "execution_count": 8,
   "metadata": {},
   "outputs": [
    {
     "name": "stdout",
     "output_type": "stream",
     "text": [
      "The number of rows in the dataset is 528 & the number of columns in the dataset is 21.\n"
     ]
    }
   ],
   "source": [
    "print(f'The number of rows in the dataset is {df.shape[0]} & the number of columns in the dataset is {df.shape[1]}.')"
   ]
  },
  {
   "cell_type": "markdown",
   "metadata": {},
   "source": [
    "- I can't understand the data Let's check the datatypes and info by using info function"
   ]
  },
  {
   "cell_type": "code",
   "execution_count": 9,
   "metadata": {},
   "outputs": [
    {
     "name": "stdout",
     "output_type": "stream",
     "text": [
      "<class 'pandas.core.frame.DataFrame'>\n",
      "RangeIndex: 528 entries, 0 to 527\n",
      "Data columns (total 21 columns):\n",
      " #   Column                      Non-Null Count  Dtype  \n",
      "---  ------                      --------------  -----  \n",
      " 0   PROVINCE                    528 non-null    object \n",
      " 1   DIVISION                    528 non-null    object \n",
      " 2   DISTRICT                    528 non-null    object \n",
      " 3   SUB DIVISION                528 non-null    object \n",
      " 4   AREA (sq.km)                528 non-null    float64\n",
      " 5   ALL SEXES (RURAL)           528 non-null    int64  \n",
      " 6   MALE (RURAL)                528 non-null    int64  \n",
      " 7   FEMALE (RURAL)              528 non-null    int64  \n",
      " 8   TRANSGENDER (RURAL)         528 non-null    int64  \n",
      " 9   SEX RATIO (RURAL)           528 non-null    float64\n",
      " 10  AVG HOUSEHOLD SIZE (RURAL)  528 non-null    float64\n",
      " 11  POPULATION 1998 (RURAL)     528 non-null    int64  \n",
      " 12  ANNUAL GROWTH RATE (RURAL)  528 non-null    float64\n",
      " 13  ALL SEXES (URBAN)           528 non-null    int64  \n",
      " 14  MALE (URBAN)                528 non-null    int64  \n",
      " 15  FEMALE (URBAN)              528 non-null    int64  \n",
      " 16  TRANSGENDER (URBAN)         528 non-null    int64  \n",
      " 17  SEX RATIO (URBAN)           528 non-null    float64\n",
      " 18  AVG HOUSEHOLD SIZE (URBAN)  528 non-null    float64\n",
      " 19  POPULATION 1998 (URBAN)     528 non-null    int64  \n",
      " 20  ANNUAL GROWTH RATE (URBAN)  528 non-null    float64\n",
      "dtypes: float64(7), int64(10), object(4)\n",
      "memory usage: 86.8+ KB\n"
     ]
    }
   ],
   "source": [
    "df.info()"
   ]
  },
  {
   "cell_type": "markdown",
   "metadata": {},
   "source": [
    "# **Observations**\n",
    "---\n",
    "1. There are 528 rows and 21 columns in the dataset\n",
    "2. The columns in the datasets are:\n",
    " - These are object columns:\n",
    "    - `'PROVINCE', 'DIVISION', 'DISTRICT', 'SUB DIVISION'`\n",
    " - These are numeric columns:\n",
    "    - ` 'AREA (sq.km)',\n",
    "       'ALL SEXES (RURAL)', 'MALE (RURAL)', 'FEMALE (RURAL)',\n",
    "       'TRANSGENDER (RURAL)', 'SEX RATIO (RURAL)',\n",
    "       'AVG HOUSEHOLD SIZE (RURAL)', 'POPULATION 1998 (RURAL)',\n",
    "       'ANNUAL GROWTH RATE (RURAL)', 'ALL SEXES (URBAN)', 'MALE (URBAN)',\n",
    "       'FEMALE (URBAN)', 'TRANSGENDER (URBAN)', 'SEX RATIO (URBAN)',\n",
    "       'AVG HOUSEHOLD SIZE (URBAN)', 'POPULATION 1998 (URBAN)',\n",
    "       'ANNUAL GROWTH RATE (URBAN)'`\n",
    "  "
   ]
  },
  {
   "cell_type": "code",
   "execution_count": 10,
   "metadata": {},
   "outputs": [
    {
     "data": {
      "text/html": [
       "<div>\n",
       "<style scoped>\n",
       "    .dataframe tbody tr th:only-of-type {\n",
       "        vertical-align: middle;\n",
       "    }\n",
       "\n",
       "    .dataframe tbody tr th {\n",
       "        vertical-align: top;\n",
       "    }\n",
       "\n",
       "    .dataframe thead th {\n",
       "        text-align: right;\n",
       "    }\n",
       "</style>\n",
       "<table border=\"1\" class=\"dataframe\">\n",
       "  <thead>\n",
       "    <tr style=\"text-align: right;\">\n",
       "      <th></th>\n",
       "      <th>count</th>\n",
       "      <th>mean</th>\n",
       "      <th>std</th>\n",
       "      <th>min</th>\n",
       "      <th>25%</th>\n",
       "      <th>50%</th>\n",
       "      <th>75%</th>\n",
       "      <th>max</th>\n",
       "    </tr>\n",
       "  </thead>\n",
       "  <tbody>\n",
       "    <tr>\n",
       "      <th>AREA (sq.km)</th>\n",
       "      <td>528.0</td>\n",
       "      <td>1492.005871</td>\n",
       "      <td>2039.453778</td>\n",
       "      <td>0.0</td>\n",
       "      <td>425.000</td>\n",
       "      <td>882.000</td>\n",
       "      <td>1734.2500</td>\n",
       "      <td>18374.00</td>\n",
       "    </tr>\n",
       "    <tr>\n",
       "      <th>ALL SEXES (RURAL)</th>\n",
       "      <td>528.0</td>\n",
       "      <td>246278.011364</td>\n",
       "      <td>271189.816559</td>\n",
       "      <td>0.0</td>\n",
       "      <td>50934.500</td>\n",
       "      <td>165241.000</td>\n",
       "      <td>312911.2500</td>\n",
       "      <td>2297375.00</td>\n",
       "    </tr>\n",
       "    <tr>\n",
       "      <th>MALE (RURAL)</th>\n",
       "      <td>528.0</td>\n",
       "      <td>125275.687500</td>\n",
       "      <td>137563.021458</td>\n",
       "      <td>0.0</td>\n",
       "      <td>27127.250</td>\n",
       "      <td>84134.500</td>\n",
       "      <td>160502.2500</td>\n",
       "      <td>1172995.00</td>\n",
       "    </tr>\n",
       "    <tr>\n",
       "      <th>FEMALE (RURAL)</th>\n",
       "      <td>528.0</td>\n",
       "      <td>120984.149621</td>\n",
       "      <td>133716.898296</td>\n",
       "      <td>0.0</td>\n",
       "      <td>23979.000</td>\n",
       "      <td>82044.000</td>\n",
       "      <td>152219.0000</td>\n",
       "      <td>1124167.00</td>\n",
       "    </tr>\n",
       "    <tr>\n",
       "      <th>TRANSGENDER (RURAL)</th>\n",
       "      <td>528.0</td>\n",
       "      <td>18.174242</td>\n",
       "      <td>25.522248</td>\n",
       "      <td>0.0</td>\n",
       "      <td>1.000</td>\n",
       "      <td>10.000</td>\n",
       "      <td>25.0000</td>\n",
       "      <td>213.00</td>\n",
       "    </tr>\n",
       "    <tr>\n",
       "      <th>SEX RATIO (RURAL)</th>\n",
       "      <td>528.0</td>\n",
       "      <td>98.982614</td>\n",
       "      <td>26.812660</td>\n",
       "      <td>0.0</td>\n",
       "      <td>101.105</td>\n",
       "      <td>105.285</td>\n",
       "      <td>108.3475</td>\n",
       "      <td>139.38</td>\n",
       "    </tr>\n",
       "    <tr>\n",
       "      <th>AVG HOUSEHOLD SIZE (RURAL)</th>\n",
       "      <td>528.0</td>\n",
       "      <td>6.277064</td>\n",
       "      <td>2.074947</td>\n",
       "      <td>0.0</td>\n",
       "      <td>5.700</td>\n",
       "      <td>6.310</td>\n",
       "      <td>7.2000</td>\n",
       "      <td>12.43</td>\n",
       "    </tr>\n",
       "    <tr>\n",
       "      <th>POPULATION 1998 (RURAL)</th>\n",
       "      <td>528.0</td>\n",
       "      <td>167427.994318</td>\n",
       "      <td>178388.976993</td>\n",
       "      <td>0.0</td>\n",
       "      <td>35273.500</td>\n",
       "      <td>117206.500</td>\n",
       "      <td>213054.2500</td>\n",
       "      <td>1044035.00</td>\n",
       "    </tr>\n",
       "    <tr>\n",
       "      <th>ANNUAL GROWTH RATE (RURAL)</th>\n",
       "      <td>528.0</td>\n",
       "      <td>3.124792</td>\n",
       "      <td>9.577872</td>\n",
       "      <td>0.0</td>\n",
       "      <td>1.440</td>\n",
       "      <td>2.030</td>\n",
       "      <td>2.8125</td>\n",
       "      <td>100.00</td>\n",
       "    </tr>\n",
       "    <tr>\n",
       "      <th>ALL SEXES (URBAN)</th>\n",
       "      <td>528.0</td>\n",
       "      <td>140863.528409</td>\n",
       "      <td>351246.279136</td>\n",
       "      <td>0.0</td>\n",
       "      <td>0.000</td>\n",
       "      <td>43254.500</td>\n",
       "      <td>117814.7500</td>\n",
       "      <td>3653616.00</td>\n",
       "    </tr>\n",
       "    <tr>\n",
       "      <th>MALE (URBAN)</th>\n",
       "      <td>528.0</td>\n",
       "      <td>72843.386364</td>\n",
       "      <td>182349.241379</td>\n",
       "      <td>0.0</td>\n",
       "      <td>0.000</td>\n",
       "      <td>21980.000</td>\n",
       "      <td>60301.7500</td>\n",
       "      <td>1905921.00</td>\n",
       "    </tr>\n",
       "    <tr>\n",
       "      <th>FEMALE (URBAN)</th>\n",
       "      <td>528.0</td>\n",
       "      <td>67997.865530</td>\n",
       "      <td>168872.528212</td>\n",
       "      <td>0.0</td>\n",
       "      <td>0.000</td>\n",
       "      <td>20999.000</td>\n",
       "      <td>57465.2500</td>\n",
       "      <td>1746900.00</td>\n",
       "    </tr>\n",
       "    <tr>\n",
       "      <th>TRANSGENDER (URBAN)</th>\n",
       "      <td>528.0</td>\n",
       "      <td>22.276515</td>\n",
       "      <td>66.068127</td>\n",
       "      <td>0.0</td>\n",
       "      <td>0.000</td>\n",
       "      <td>3.000</td>\n",
       "      <td>19.0000</td>\n",
       "      <td>795.00</td>\n",
       "    </tr>\n",
       "    <tr>\n",
       "      <th>SEX RATIO (URBAN)</th>\n",
       "      <td>528.0</td>\n",
       "      <td>75.411269</td>\n",
       "      <td>49.687341</td>\n",
       "      <td>0.0</td>\n",
       "      <td>0.000</td>\n",
       "      <td>103.195</td>\n",
       "      <td>107.0400</td>\n",
       "      <td>297.81</td>\n",
       "    </tr>\n",
       "    <tr>\n",
       "      <th>AVG HOUSEHOLD SIZE (URBAN)</th>\n",
       "      <td>528.0</td>\n",
       "      <td>4.406402</td>\n",
       "      <td>2.948336</td>\n",
       "      <td>0.0</td>\n",
       "      <td>0.000</td>\n",
       "      <td>5.755</td>\n",
       "      <td>6.3400</td>\n",
       "      <td>10.06</td>\n",
       "    </tr>\n",
       "    <tr>\n",
       "      <th>POPULATION 1998 (URBAN)</th>\n",
       "      <td>528.0</td>\n",
       "      <td>80144.566288</td>\n",
       "      <td>202312.019227</td>\n",
       "      <td>0.0</td>\n",
       "      <td>0.000</td>\n",
       "      <td>21298.000</td>\n",
       "      <td>65422.2500</td>\n",
       "      <td>2075867.00</td>\n",
       "    </tr>\n",
       "    <tr>\n",
       "      <th>ANNUAL GROWTH RATE (URBAN)</th>\n",
       "      <td>528.0</td>\n",
       "      <td>1.920814</td>\n",
       "      <td>2.098908</td>\n",
       "      <td>0.0</td>\n",
       "      <td>0.000</td>\n",
       "      <td>1.855</td>\n",
       "      <td>2.9850</td>\n",
       "      <td>19.78</td>\n",
       "    </tr>\n",
       "  </tbody>\n",
       "</table>\n",
       "</div>"
      ],
      "text/plain": [
       "                            count           mean            std  min  \\\n",
       "AREA (sq.km)                528.0    1492.005871    2039.453778  0.0   \n",
       "ALL SEXES (RURAL)           528.0  246278.011364  271189.816559  0.0   \n",
       "MALE (RURAL)                528.0  125275.687500  137563.021458  0.0   \n",
       "FEMALE (RURAL)              528.0  120984.149621  133716.898296  0.0   \n",
       "TRANSGENDER (RURAL)         528.0      18.174242      25.522248  0.0   \n",
       "SEX RATIO (RURAL)           528.0      98.982614      26.812660  0.0   \n",
       "AVG HOUSEHOLD SIZE (RURAL)  528.0       6.277064       2.074947  0.0   \n",
       "POPULATION 1998 (RURAL)     528.0  167427.994318  178388.976993  0.0   \n",
       "ANNUAL GROWTH RATE (RURAL)  528.0       3.124792       9.577872  0.0   \n",
       "ALL SEXES (URBAN)           528.0  140863.528409  351246.279136  0.0   \n",
       "MALE (URBAN)                528.0   72843.386364  182349.241379  0.0   \n",
       "FEMALE (URBAN)              528.0   67997.865530  168872.528212  0.0   \n",
       "TRANSGENDER (URBAN)         528.0      22.276515      66.068127  0.0   \n",
       "SEX RATIO (URBAN)           528.0      75.411269      49.687341  0.0   \n",
       "AVG HOUSEHOLD SIZE (URBAN)  528.0       4.406402       2.948336  0.0   \n",
       "POPULATION 1998 (URBAN)     528.0   80144.566288  202312.019227  0.0   \n",
       "ANNUAL GROWTH RATE (URBAN)  528.0       1.920814       2.098908  0.0   \n",
       "\n",
       "                                  25%         50%          75%         max  \n",
       "AREA (sq.km)                  425.000     882.000    1734.2500    18374.00  \n",
       "ALL SEXES (RURAL)           50934.500  165241.000  312911.2500  2297375.00  \n",
       "MALE (RURAL)                27127.250   84134.500  160502.2500  1172995.00  \n",
       "FEMALE (RURAL)              23979.000   82044.000  152219.0000  1124167.00  \n",
       "TRANSGENDER (RURAL)             1.000      10.000      25.0000      213.00  \n",
       "SEX RATIO (RURAL)             101.105     105.285     108.3475      139.38  \n",
       "AVG HOUSEHOLD SIZE (RURAL)      5.700       6.310       7.2000       12.43  \n",
       "POPULATION 1998 (RURAL)     35273.500  117206.500  213054.2500  1044035.00  \n",
       "ANNUAL GROWTH RATE (RURAL)      1.440       2.030       2.8125      100.00  \n",
       "ALL SEXES (URBAN)               0.000   43254.500  117814.7500  3653616.00  \n",
       "MALE (URBAN)                    0.000   21980.000   60301.7500  1905921.00  \n",
       "FEMALE (URBAN)                  0.000   20999.000   57465.2500  1746900.00  \n",
       "TRANSGENDER (URBAN)             0.000       3.000      19.0000      795.00  \n",
       "SEX RATIO (URBAN)               0.000     103.195     107.0400      297.81  \n",
       "AVG HOUSEHOLD SIZE (URBAN)      0.000       5.755       6.3400       10.06  \n",
       "POPULATION 1998 (URBAN)         0.000   21298.000   65422.2500  2075867.00  \n",
       "ANNUAL GROWTH RATE (URBAN)      0.000       1.855       2.9850       19.78  "
      ]
     },
     "execution_count": 10,
     "metadata": {},
     "output_type": "execute_result"
    }
   ],
   "source": [
    "df.describe().T"
   ]
  },
  {
   "cell_type": "markdown",
   "metadata": {},
   "source": [
    "## **2.2. Dealing with the missing values**\n",
    "Dealing with the missing values is one of the most important part of the data wrangling process, we must deal with the missing values in order to get the correct insights from the data."
   ]
  },
  {
   "cell_type": "markdown",
   "metadata": {},
   "source": [
    "- Let's check the missing values in the dataset"
   ]
  },
  {
   "cell_type": "code",
   "execution_count": 11,
   "metadata": {},
   "outputs": [
    {
     "data": {
      "text/plain": [
       "PROVINCE                      0\n",
       "DIVISION                      0\n",
       "DISTRICT                      0\n",
       "SUB DIVISION                  0\n",
       "AREA (sq.km)                  0\n",
       "ALL SEXES (RURAL)             0\n",
       "MALE (RURAL)                  0\n",
       "FEMALE (RURAL)                0\n",
       "TRANSGENDER (RURAL)           0\n",
       "SEX RATIO (RURAL)             0\n",
       "AVG HOUSEHOLD SIZE (RURAL)    0\n",
       "POPULATION 1998 (RURAL)       0\n",
       "ANNUAL GROWTH RATE (RURAL)    0\n",
       "ALL SEXES (URBAN)             0\n",
       "MALE (URBAN)                  0\n",
       "FEMALE (URBAN)                0\n",
       "TRANSGENDER (URBAN)           0\n",
       "SEX RATIO (URBAN)             0\n",
       "AVG HOUSEHOLD SIZE (URBAN)    0\n",
       "POPULATION 1998 (URBAN)       0\n",
       "ANNUAL GROWTH RATE (URBAN)    0\n",
       "dtype: int64"
      ]
     },
     "execution_count": 11,
     "metadata": {},
     "output_type": "execute_result"
    }
   ],
   "source": [
    "df.isnull().sum()"
   ]
  },
  {
   "cell_type": "markdown",
   "metadata": {},
   "source": [
    "## **There are no null values in th dataset**\n",
    "###  **That's great**\n",
    "\n",
    "## **Lets's check the duplicates in the data**"
   ]
  },
  {
   "cell_type": "code",
   "execution_count": 12,
   "metadata": {},
   "outputs": [
    {
     "data": {
      "text/plain": [
       "np.int64(0)"
      ]
     },
     "execution_count": 12,
     "metadata": {},
     "output_type": "execute_result"
    }
   ],
   "source": [
    "df.duplicated().sum()"
   ]
  },
  {
   "cell_type": "markdown",
   "metadata": {},
   "source": [
    "## There are no duplicates\n",
    "- I think this data was clean \n",
    "  "
   ]
  },
  {
   "cell_type": "markdown",
   "metadata": {},
   "source": [
    "# Let's Find the insights in the data."
   ]
  },
  {
   "cell_type": "markdown",
   "metadata": {},
   "source": [
    "- Let's see the province "
   ]
  },
  {
   "cell_type": "code",
   "execution_count": 76,
   "metadata": {},
   "outputs": [
    {
     "name": "stdout",
     "output_type": "stream",
     "text": [
      "These are the provinces ['PUNJAB' 'SINDH' 'BALOCHISTAN' 'KPK' 'KPK/FATA']\n"
     ]
    }
   ],
   "source": [
    "print(f'These are the provinces {df['PROVINCE'].unique()}')"
   ]
  },
  {
   "cell_type": "markdown",
   "metadata": {},
   "source": [
    "- Let's see the divisions"
   ]
  },
  {
   "cell_type": "code",
   "execution_count": 84,
   "metadata": {},
   "outputs": [
    {
     "name": "stdout",
     "output_type": "stream",
     "text": [
      "These are the divisions: \n",
      " => ['BAHAWALPUR DIVISION' 'D.G.KHAN DIVISION' 'FAISALABAD DIVISION'\n",
      " 'GUJRANWALA DIVISION' 'LAHORE DIVISION' 'MULTAN DIVISION'\n",
      " 'RAWALPINDI DIVISION' 'SAHIWAL DIVISION' 'SARGODHA DIVISION'\n",
      " 'Badin Division' 'Hyderabad Division' 'Karachi Division'\n",
      " 'Larkana Division' 'Mirpurkhas Division' 'Shaheed Benazirabad Division'\n",
      " 'Sukkur Division' 'Makran Division' 'Kalat Division'\n",
      " 'Naseerabad Division' 'Quetta Division' 'Zhob Division' 'BANNU DIVISION'\n",
      " 'DERA ISMAIL KHAN DIVISION' 'HAZARA DIVISION' 'KOHAT DIVISION'\n",
      " 'MARDAN DIVISION' 'PESHAWAR DIVISION' 'MALAKAND DIVISION']\n"
     ]
    }
   ],
   "source": [
    "print(f'These are the divisions: \\n => {df['DIVISION'].unique()}')"
   ]
  },
  {
   "cell_type": "markdown",
   "metadata": {},
   "source": [
    "- Find Top 5 Sub-divison in rural-pop-1998"
   ]
  },
  {
   "cell_type": "code",
   "execution_count": 13,
   "metadata": {},
   "outputs": [
    {
     "data": {
      "text/html": [
       "<div>\n",
       "<style scoped>\n",
       "    .dataframe tbody tr th:only-of-type {\n",
       "        vertical-align: middle;\n",
       "    }\n",
       "\n",
       "    .dataframe tbody tr th {\n",
       "        vertical-align: top;\n",
       "    }\n",
       "\n",
       "    .dataframe thead th {\n",
       "        text-align: right;\n",
       "    }\n",
       "</style>\n",
       "<table border=\"1\" class=\"dataframe\">\n",
       "  <thead>\n",
       "    <tr style=\"text-align: right;\">\n",
       "      <th></th>\n",
       "      <th>SUB DIVISION</th>\n",
       "      <th>POPULATION 1998 (RURAL)</th>\n",
       "    </tr>\n",
       "  </thead>\n",
       "  <tbody>\n",
       "    <tr>\n",
       "      <th>455</th>\n",
       "      <td>PESHAWAR TEHSIL</td>\n",
       "      <td>1044035</td>\n",
       "    </tr>\n",
       "    <tr>\n",
       "      <th>35</th>\n",
       "      <td>JARANWALA TEHSIL</td>\n",
       "      <td>924849</td>\n",
       "    </tr>\n",
       "    <tr>\n",
       "      <th>34</th>\n",
       "      <td>FAISALABAD SADAR TEHSIL</td>\n",
       "      <td>900984</td>\n",
       "    </tr>\n",
       "    <tr>\n",
       "      <th>24</th>\n",
       "      <td>MUZAFFARGARH TEHSIL</td>\n",
       "      <td>842563</td>\n",
       "    </tr>\n",
       "    <tr>\n",
       "      <th>125</th>\n",
       "      <td>SAHIWAL TEHSIL</td>\n",
       "      <td>826863</td>\n",
       "    </tr>\n",
       "  </tbody>\n",
       "</table>\n",
       "</div>"
      ],
      "text/plain": [
       "                SUB DIVISION  POPULATION 1998 (RURAL)\n",
       "455          PESHAWAR TEHSIL                  1044035\n",
       "35          JARANWALA TEHSIL                   924849\n",
       "34   FAISALABAD SADAR TEHSIL                   900984\n",
       "24       MUZAFFARGARH TEHSIL                   842563\n",
       "125           SAHIWAL TEHSIL                   826863"
      ]
     },
     "execution_count": 13,
     "metadata": {},
     "output_type": "execute_result"
    }
   ],
   "source": [
    "df.nlargest(5,'POPULATION 1998 (RURAL)')[['SUB DIVISION','POPULATION 1998 (RURAL)']]"
   ]
  },
  {
   "cell_type": "markdown",
   "metadata": {},
   "source": [
    "- Find Top 5 Sub-divison in urban-pop-1998"
   ]
  },
  {
   "cell_type": "code",
   "execution_count": 14,
   "metadata": {},
   "outputs": [
    {
     "data": {
      "text/html": [
       "<div>\n",
       "<style scoped>\n",
       "    .dataframe tbody tr th:only-of-type {\n",
       "        vertical-align: middle;\n",
       "    }\n",
       "\n",
       "    .dataframe tbody tr th {\n",
       "        vertical-align: top;\n",
       "    }\n",
       "\n",
       "    .dataframe thead th {\n",
       "        text-align: right;\n",
       "    }\n",
       "</style>\n",
       "<table border=\"1\" class=\"dataframe\">\n",
       "  <thead>\n",
       "    <tr style=\"text-align: right;\">\n",
       "      <th></th>\n",
       "      <th>SUB DIVISION</th>\n",
       "      <th>POPULATION 1998 (RURAL)</th>\n",
       "    </tr>\n",
       "  </thead>\n",
       "  <tbody>\n",
       "    <tr>\n",
       "      <th>71</th>\n",
       "      <td>LAHORE CITY TEHSIL</td>\n",
       "      <td>143532</td>\n",
       "    </tr>\n",
       "    <tr>\n",
       "      <th>33</th>\n",
       "      <td>FAISALABAD CITY TEHSIL</td>\n",
       "      <td>131485</td>\n",
       "    </tr>\n",
       "    <tr>\n",
       "      <th>117</th>\n",
       "      <td>RAWALPINDI TEHSIL</td>\n",
       "      <td>517844</td>\n",
       "    </tr>\n",
       "    <tr>\n",
       "      <th>74</th>\n",
       "      <td>SHALIMAR TEHSIL</td>\n",
       "      <td>201105</td>\n",
       "    </tr>\n",
       "    <tr>\n",
       "      <th>47</th>\n",
       "      <td>GUJRANWALA SADDAR TEHSIL</td>\n",
       "      <td>586535</td>\n",
       "    </tr>\n",
       "  </tbody>\n",
       "</table>\n",
       "</div>"
      ],
      "text/plain": [
       "                 SUB DIVISION  POPULATION 1998 (RURAL)\n",
       "71         LAHORE CITY TEHSIL                   143532\n",
       "33     FAISALABAD CITY TEHSIL                   131485\n",
       "117         RAWALPINDI TEHSIL                   517844\n",
       "74            SHALIMAR TEHSIL                   201105\n",
       "47   GUJRANWALA SADDAR TEHSIL                   586535"
      ]
     },
     "execution_count": 14,
     "metadata": {},
     "output_type": "execute_result"
    }
   ],
   "source": [
    "df.nlargest(5,'POPULATION 1998 (URBAN)')[['SUB DIVISION','POPULATION 1998 (RURAL)']]"
   ]
  },
  {
   "cell_type": "markdown",
   "metadata": {},
   "source": [
    "- Find Top 5 DISTRICT in urban-pop-1998"
   ]
  },
  {
   "cell_type": "code",
   "execution_count": 15,
   "metadata": {},
   "outputs": [
    {
     "data": {
      "text/html": [
       "<div>\n",
       "<style scoped>\n",
       "    .dataframe tbody tr th:only-of-type {\n",
       "        vertical-align: middle;\n",
       "    }\n",
       "\n",
       "    .dataframe tbody tr th {\n",
       "        vertical-align: top;\n",
       "    }\n",
       "\n",
       "    .dataframe thead th {\n",
       "        text-align: right;\n",
       "    }\n",
       "</style>\n",
       "<table border=\"1\" class=\"dataframe\">\n",
       "  <thead>\n",
       "    <tr style=\"text-align: right;\">\n",
       "      <th></th>\n",
       "      <th>DISTRICT</th>\n",
       "      <th>POPULATION 1998 (RURAL)</th>\n",
       "    </tr>\n",
       "  </thead>\n",
       "  <tbody>\n",
       "    <tr>\n",
       "      <th>71</th>\n",
       "      <td>LAHORE DISTRICT</td>\n",
       "      <td>143532</td>\n",
       "    </tr>\n",
       "    <tr>\n",
       "      <th>33</th>\n",
       "      <td>FAISALABAD DISTRICT</td>\n",
       "      <td>131485</td>\n",
       "    </tr>\n",
       "    <tr>\n",
       "      <th>117</th>\n",
       "      <td>RAWALPINDI DISTRICT</td>\n",
       "      <td>517844</td>\n",
       "    </tr>\n",
       "    <tr>\n",
       "      <th>74</th>\n",
       "      <td>LAHORE DISTRICT</td>\n",
       "      <td>201105</td>\n",
       "    </tr>\n",
       "    <tr>\n",
       "      <th>47</th>\n",
       "      <td>GUJRANWALA DISTRICT</td>\n",
       "      <td>586535</td>\n",
       "    </tr>\n",
       "  </tbody>\n",
       "</table>\n",
       "</div>"
      ],
      "text/plain": [
       "                DISTRICT  POPULATION 1998 (RURAL)\n",
       "71       LAHORE DISTRICT                   143532\n",
       "33   FAISALABAD DISTRICT                   131485\n",
       "117  RAWALPINDI DISTRICT                   517844\n",
       "74       LAHORE DISTRICT                   201105\n",
       "47   GUJRANWALA DISTRICT                   586535"
      ]
     },
     "execution_count": 15,
     "metadata": {},
     "output_type": "execute_result"
    }
   ],
   "source": [
    "df.nlargest(5,'POPULATION 1998 (URBAN)')[['DISTRICT','POPULATION 1998 (RURAL)']]"
   ]
  },
  {
   "cell_type": "markdown",
   "metadata": {},
   "source": [
    "- Find Top 5 DISTRICT in rural-pop-1998"
   ]
  },
  {
   "cell_type": "code",
   "execution_count": 16,
   "metadata": {},
   "outputs": [
    {
     "data": {
      "text/html": [
       "<div>\n",
       "<style scoped>\n",
       "    .dataframe tbody tr th:only-of-type {\n",
       "        vertical-align: middle;\n",
       "    }\n",
       "\n",
       "    .dataframe tbody tr th {\n",
       "        vertical-align: top;\n",
       "    }\n",
       "\n",
       "    .dataframe thead th {\n",
       "        text-align: right;\n",
       "    }\n",
       "</style>\n",
       "<table border=\"1\" class=\"dataframe\">\n",
       "  <thead>\n",
       "    <tr style=\"text-align: right;\">\n",
       "      <th></th>\n",
       "      <th>DISTRICT</th>\n",
       "      <th>POPULATION 1998 (RURAL)</th>\n",
       "    </tr>\n",
       "  </thead>\n",
       "  <tbody>\n",
       "    <tr>\n",
       "      <th>455</th>\n",
       "      <td>PESHAWAR DISTRICT</td>\n",
       "      <td>1044035</td>\n",
       "    </tr>\n",
       "    <tr>\n",
       "      <th>35</th>\n",
       "      <td>FAISALABAD DISTRICT</td>\n",
       "      <td>924849</td>\n",
       "    </tr>\n",
       "    <tr>\n",
       "      <th>34</th>\n",
       "      <td>FAISALABAD DISTRICT</td>\n",
       "      <td>900984</td>\n",
       "    </tr>\n",
       "    <tr>\n",
       "      <th>24</th>\n",
       "      <td>MUZAFFARGARH DISTRICT</td>\n",
       "      <td>842563</td>\n",
       "    </tr>\n",
       "    <tr>\n",
       "      <th>125</th>\n",
       "      <td>SAHIWAL DISTRICT</td>\n",
       "      <td>826863</td>\n",
       "    </tr>\n",
       "  </tbody>\n",
       "</table>\n",
       "</div>"
      ],
      "text/plain": [
       "                  DISTRICT  POPULATION 1998 (RURAL)\n",
       "455      PESHAWAR DISTRICT                  1044035\n",
       "35     FAISALABAD DISTRICT                   924849\n",
       "34     FAISALABAD DISTRICT                   900984\n",
       "24   MUZAFFARGARH DISTRICT                   842563\n",
       "125       SAHIWAL DISTRICT                   826863"
      ]
     },
     "execution_count": 16,
     "metadata": {},
     "output_type": "execute_result"
    }
   ],
   "source": [
    "df.nlargest(5,'POPULATION 1998 (RURAL)')[['DISTRICT','POPULATION 1998 (RURAL)']]"
   ]
  },
  {
   "cell_type": "markdown",
   "metadata": {},
   "source": [
    "- Total population  in rural  & urban"
   ]
  },
  {
   "cell_type": "code",
   "execution_count": 43,
   "metadata": {},
   "outputs": [
    {
     "name": "stdout",
     "output_type": "stream",
     "text": [
      "Total population in rural:88401981 & in urban:42316331\n",
      "And the overall total population is 130718312\n"
     ]
    }
   ],
   "source": [
    "print(f'Total population in rural:{df['POPULATION 1998 (RURAL)'].sum()} & in urban:{df['POPULATION 1998 (URBAN)'].sum()}')\n",
    "print(f'And the overall total population is {(df['POPULATION 1998 (RURAL)'].sum()) + (df['POPULATION 1998 (URBAN)'].sum())}')"
   ]
  },
  {
   "cell_type": "markdown",
   "metadata": {},
   "source": [
    "- The average population of cities in each province."
   ]
  },
  {
   "cell_type": "code",
   "execution_count": 57,
   "metadata": {},
   "outputs": [
    {
     "name": "stdout",
     "output_type": "stream",
     "text": [
      "The average population in cities each province.\n",
      "=> RURAL : PROVINCE\n",
      "BALOCHISTAN     37944.450382\n",
      "KPK            209638.816901\n",
      "KPK/FATA        62657.086957\n",
      "PUNJAB         350172.034965\n",
      "SINDH          113796.167883\n",
      "Name: POPULATION 1998 (RURAL), dtype: float64\n",
      "=> URBAN : PROVINCE\n",
      "BALOCHISTAN     11975.419847\n",
      "KPK             40732.830986\n",
      "KPK/FATA         1858.108696\n",
      "PUNJAB         160350.944056\n",
      "SINDH          108320.160584\n",
      "Name: POPULATION 1998 (URBAN), dtype: float64\n",
      "=> IN BOTH : PROVINCE\n",
      "BALOCHISTAN     49919.870229\n",
      "KPK            250371.647887\n",
      "KPK/FATA        64515.195652\n",
      "PUNJAB         510522.979021\n",
      "SINDH          222116.328467\n",
      "dtype: float64\n"
     ]
    }
   ],
   "source": [
    "print('The average population in cities each province.')\n",
    "print(f\"=> RURAL : {df.groupby('PROVINCE')['POPULATION 1998 (RURAL)'].mean()}\")\n",
    "print(f\"=> URBAN : {df.groupby('PROVINCE')['POPULATION 1998 (URBAN)'].mean()}\")\n",
    "print(f\"=> IN BOTH : {(df.groupby('PROVINCE')['POPULATION 1998 (RURAL)'].mean()) + (df.groupby('PROVINCE')['POPULATION 1998 (URBAN)'].mean())}\")"
   ]
  },
  {
   "cell_type": "markdown",
   "metadata": {},
   "source": [
    " - Total divisions in each province.\n"
   ]
  },
  {
   "cell_type": "code",
   "execution_count": 61,
   "metadata": {},
   "outputs": [
    {
     "data": {
      "text/plain": [
       "PROVINCE\n",
       "PUNJAB         143\n",
       "SINDH          137\n",
       "BALOCHISTAN    131\n",
       "KPK             71\n",
       "KPK/FATA        46\n",
       "Name: count, dtype: int64"
      ]
     },
     "execution_count": 61,
     "metadata": {},
     "output_type": "execute_result"
    }
   ],
   "source": [
    "df['PROVINCE'].value_counts()\n"
   ]
  },
  {
   "cell_type": "markdown",
   "metadata": {},
   "source": [
    "- Total districts in each division"
   ]
  },
  {
   "cell_type": "code",
   "execution_count": 62,
   "metadata": {},
   "outputs": [
    {
     "data": {
      "text/plain": [
       "DIVISION\n",
       "Quetta Division                 38\n",
       "Makran Division                 37\n",
       "MALAKAND DIVISION               33\n",
       "Karachi Division                30\n",
       "Hyderabad Division              30\n",
       "RAWALPINDI DIVISION             22\n",
       "Larkana Division                21\n",
       "GUJRANWALA DIVISION             20\n",
       "Naseerabad Division             19\n",
       "Zhob Division                   19\n",
       "Sukkur Division                 18\n",
       "Mirpurkhas Division             18\n",
       "PESHAWAR DIVISION               18\n",
       "Kalat Division                  18\n",
       "LAHORE DIVISION                 17\n",
       "SARGODHA DIVISION               17\n",
       "FAISALABAD DIVISION             17\n",
       "BAHAWALPUR DIVISION             15\n",
       "Shaheed Benazirabad Division    15\n",
       "BANNU DIVISION                  15\n",
       "HAZARA DIVISION                 15\n",
       "DERA ISMAIL KHAN DIVISION       15\n",
       "MULTAN DIVISION                 14\n",
       "D.G.KHAN DIVISION               14\n",
       "KOHAT DIVISION                  14\n",
       "SAHIWAL DIVISION                 7\n",
       "MARDAN DIVISION                  7\n",
       "Badin Division                   5\n",
       "Name: count, dtype: int64"
      ]
     },
     "execution_count": 62,
     "metadata": {},
     "output_type": "execute_result"
    }
   ],
   "source": [
    "df['DIVISION'].value_counts()"
   ]
  },
  {
   "cell_type": "markdown",
   "metadata": {},
   "source": [
    "- Average annual growth rate in rural , urban and overall."
   ]
  },
  {
   "cell_type": "code",
   "execution_count": 95,
   "metadata": {},
   "outputs": [
    {
     "name": "stdout",
     "output_type": "stream",
     "text": [
      "Average annual growth rate in rural 3.1247916666666664%.\n",
      "Average annual growth rate in urban 1.920814393939394%.\n",
      "Average annual growth rate 5.04560606060606%.\n"
     ]
    }
   ],
   "source": [
    "print(f'Average annual growth rate in rural {df['ANNUAL GROWTH RATE (RURAL)'].mean()}%.')\n",
    "print(f'Average annual growth rate in urban {df['ANNUAL GROWTH RATE (URBAN)'].mean()}%.')\n",
    "print(f'Average annual growth rate {(df['ANNUAL GROWTH RATE (RURAL)'].mean())+(df['ANNUAL GROWTH RATE (URBAN)'].mean())}%.')\n"
   ]
  },
  {
   "cell_type": "markdown",
   "metadata": {},
   "source": [
    "- Average sex ratio in rural , urban and overall."
   ]
  },
  {
   "cell_type": "code",
   "execution_count": 110,
   "metadata": {},
   "outputs": [
    {
     "name": "stdout",
     "output_type": "stream",
     "text": [
      "Average sex ratio in rural 98.98261363636364\n",
      "Average sex ratio in urban 75.41126893939395\n",
      "Average sex ratio overall 174.39388257575757\n"
     ]
    }
   ],
   "source": [
    "print(f\"Average sex ratio in rural {df[\"SEX RATIO (RURAL)\"].mean()}\")\n",
    "print(f\"Average sex ratio in urban {df[\"SEX RATIO (URBAN)\"].mean()}\")\n",
    "print(f\"Average sex ratio overall {(df[\"SEX RATIO (URBAN)\"].mean())+(df[\"SEX RATIO (RURAL)\"].mean())}\")"
   ]
  },
  {
   "cell_type": "markdown",
   "metadata": {},
   "source": [
    "- Average Houswhold size in rural , urban and overalll"
   ]
  },
  {
   "cell_type": "code",
   "execution_count": 118,
   "metadata": {},
   "outputs": [
    {
     "name": "stdout",
     "output_type": "stream",
     "text": [
      "Average household size in rural 6.277064393939394\n",
      "Average household size in urban 4.406401515151515\n",
      "Average household size overall 10.68346590909091\n"
     ]
    }
   ],
   "source": [
    "print(f'Average household size in rural {df['AVG HOUSEHOLD SIZE (RURAL)'].mean()}')\n",
    "print(f'Average household size in urban {df['AVG HOUSEHOLD SIZE (URBAN)'].mean()}')\n",
    "print(f'Average household size overall {(df['AVG HOUSEHOLD SIZE (URBAN)'].mean())+(df['AVG HOUSEHOLD SIZE (RURAL)'].mean())}')"
   ]
  }
 ],
 "metadata": {
  "kernelspec": {
   "display_name": "python_eda",
   "language": "python",
   "name": "python3"
  },
  "language_info": {
   "codemirror_mode": {
    "name": "ipython",
    "version": 3
   },
   "file_extension": ".py",
   "mimetype": "text/x-python",
   "name": "python",
   "nbconvert_exporter": "python",
   "pygments_lexer": "ipython3",
   "version": "3.13.0"
  }
 },
 "nbformat": 4,
 "nbformat_minor": 2
}
